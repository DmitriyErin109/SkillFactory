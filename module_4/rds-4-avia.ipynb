{
 "cells": [
  {
   "cell_type": "markdown",
   "id": "b146e470",
   "metadata": {},
   "source": [
    "## Проект 4. Авиарейсы без потерь"
   ]
  },
  {
   "cell_type": "markdown",
   "id": "a5173751",
   "metadata": {},
   "source": [
    "### Задача\n",
    "#### Проанализировать данные о доходности каждого рейса и затратах на них.  Определить убыточные рейсы"
   ]
  },
  {
   "cell_type": "code",
   "execution_count": 530,
   "id": "e1d9a787",
   "metadata": {},
   "outputs": [],
   "source": [
    "import pandas as pd\n",
    "import numpy as np\n",
    "import matplotlib.pyplot as plt\n",
    "import seaborn as sns\n",
    "from datetime import datetime"
   ]
  },
  {
   "cell_type": "code",
   "execution_count": 531,
   "id": "6179b100",
   "metadata": {},
   "outputs": [],
   "source": [
    "df=pd.read_csv('Result_31.csv')"
   ]
  },
  {
   "cell_type": "markdown",
   "id": "08d26a59",
   "metadata": {},
   "source": [
    "#### Посмотрим на полученный датасет"
   ]
  },
  {
   "cell_type": "code",
   "execution_count": 532,
   "id": "c834a4b8",
   "metadata": {},
   "outputs": [
    {
     "data": {
      "text/html": [
       "<div>\n",
       "<style scoped>\n",
       "    .dataframe tbody tr th:only-of-type {\n",
       "        vertical-align: middle;\n",
       "    }\n",
       "\n",
       "    .dataframe tbody tr th {\n",
       "        vertical-align: top;\n",
       "    }\n",
       "\n",
       "    .dataframe thead th {\n",
       "        text-align: right;\n",
       "    }\n",
       "</style>\n",
       "<table border=\"1\" class=\"dataframe\">\n",
       "  <thead>\n",
       "    <tr style=\"text-align: right;\">\n",
       "      <th></th>\n",
       "      <th>flight_id</th>\n",
       "      <th>departure_city</th>\n",
       "      <th>arrival_city</th>\n",
       "      <th>model_aircraft</th>\n",
       "      <th>date</th>\n",
       "      <th>seat</th>\n",
       "      <th>business_seat</th>\n",
       "      <th>economy_pass</th>\n",
       "      <th>business_pass</th>\n",
       "      <th>sum_pass</th>\n",
       "      <th>flight_duration_minutes</th>\n",
       "      <th>revenue</th>\n",
       "    </tr>\n",
       "  </thead>\n",
       "  <tbody>\n",
       "    <tr>\n",
       "      <th>0</th>\n",
       "      <td>136420</td>\n",
       "      <td>Anapa</td>\n",
       "      <td>Moscow</td>\n",
       "      <td>Boeing 737-300</td>\n",
       "      <td>2017-01-01</td>\n",
       "      <td>130</td>\n",
       "      <td>12</td>\n",
       "      <td>93.0</td>\n",
       "      <td>11.0</td>\n",
       "      <td>104</td>\n",
       "      <td>100</td>\n",
       "      <td>3581300.0</td>\n",
       "    </tr>\n",
       "    <tr>\n",
       "      <th>1</th>\n",
       "      <td>136661</td>\n",
       "      <td>Anapa</td>\n",
       "      <td>Belgorod</td>\n",
       "      <td>Sukhoi Superjet-100</td>\n",
       "      <td>2017-01-01</td>\n",
       "      <td>97</td>\n",
       "      <td>12</td>\n",
       "      <td>84.0</td>\n",
       "      <td>12.0</td>\n",
       "      <td>96</td>\n",
       "      <td>50</td>\n",
       "      <td>2939500.0</td>\n",
       "    </tr>\n",
       "    <tr>\n",
       "      <th>2</th>\n",
       "      <td>136458</td>\n",
       "      <td>Anapa</td>\n",
       "      <td>Moscow</td>\n",
       "      <td>Boeing 737-300</td>\n",
       "      <td>2017-01-02</td>\n",
       "      <td>130</td>\n",
       "      <td>12</td>\n",
       "      <td>101.0</td>\n",
       "      <td>9.0</td>\n",
       "      <td>110</td>\n",
       "      <td>100</td>\n",
       "      <td>3812100.0</td>\n",
       "    </tr>\n",
       "    <tr>\n",
       "      <th>3</th>\n",
       "      <td>136936</td>\n",
       "      <td>Anapa</td>\n",
       "      <td>Belgorod</td>\n",
       "      <td>Sukhoi Superjet-100</td>\n",
       "      <td>2017-01-02</td>\n",
       "      <td>97</td>\n",
       "      <td>12</td>\n",
       "      <td>73.0</td>\n",
       "      <td>9.0</td>\n",
       "      <td>82</td>\n",
       "      <td>50</td>\n",
       "      <td>2429400.0</td>\n",
       "    </tr>\n",
       "    <tr>\n",
       "      <th>4</th>\n",
       "      <td>136119</td>\n",
       "      <td>Anapa</td>\n",
       "      <td>Moscow</td>\n",
       "      <td>Boeing 737-300</td>\n",
       "      <td>2017-01-03</td>\n",
       "      <td>130</td>\n",
       "      <td>12</td>\n",
       "      <td>102.0</td>\n",
       "      <td>11.0</td>\n",
       "      <td>113</td>\n",
       "      <td>100</td>\n",
       "      <td>3869500.0</td>\n",
       "    </tr>\n",
       "  </tbody>\n",
       "</table>\n",
       "</div>"
      ],
      "text/plain": [
       "   flight_id departure_city arrival_city       model_aircraft        date  \\\n",
       "0     136420          Anapa       Moscow       Boeing 737-300  2017-01-01   \n",
       "1     136661          Anapa     Belgorod  Sukhoi Superjet-100  2017-01-01   \n",
       "2     136458          Anapa       Moscow       Boeing 737-300  2017-01-02   \n",
       "3     136936          Anapa     Belgorod  Sukhoi Superjet-100  2017-01-02   \n",
       "4     136119          Anapa       Moscow       Boeing 737-300  2017-01-03   \n",
       "\n",
       "   seat  business_seat  economy_pass  business_pass  sum_pass  \\\n",
       "0   130             12          93.0           11.0       104   \n",
       "1    97             12          84.0           12.0        96   \n",
       "2   130             12         101.0            9.0       110   \n",
       "3    97             12          73.0            9.0        82   \n",
       "4   130             12         102.0           11.0       113   \n",
       "\n",
       "   flight_duration_minutes    revenue  \n",
       "0                      100  3581300.0  \n",
       "1                       50  2939500.0  \n",
       "2                      100  3812100.0  \n",
       "3                       50  2429400.0  \n",
       "4                      100  3869500.0  "
      ]
     },
     "execution_count": 532,
     "metadata": {},
     "output_type": "execute_result"
    }
   ],
   "source": [
    "df.head()"
   ]
  },
  {
   "cell_type": "code",
   "execution_count": 533,
   "id": "3fa3df62",
   "metadata": {
    "scrolled": false
   },
   "outputs": [
    {
     "name": "stdout",
     "output_type": "stream",
     "text": [
      "<class 'pandas.core.frame.DataFrame'>\n",
      "RangeIndex: 127 entries, 0 to 126\n",
      "Data columns (total 12 columns):\n",
      " #   Column                   Non-Null Count  Dtype  \n",
      "---  ------                   --------------  -----  \n",
      " 0   flight_id                127 non-null    int64  \n",
      " 1   departure_city           127 non-null    object \n",
      " 2   arrival_city             127 non-null    object \n",
      " 3   model_aircraft           127 non-null    object \n",
      " 4   date                     127 non-null    object \n",
      " 5   seat                     127 non-null    int64  \n",
      " 6   business_seat            127 non-null    int64  \n",
      " 7   economy_pass             118 non-null    float64\n",
      " 8   business_pass            118 non-null    float64\n",
      " 9   sum_pass                 127 non-null    int64  \n",
      " 10  flight_duration_minutes  127 non-null    int64  \n",
      " 11  revenue                  118 non-null    float64\n",
      "dtypes: float64(3), int64(5), object(4)\n",
      "memory usage: 12.0+ KB\n"
     ]
    }
   ],
   "source": [
    "df.info()"
   ]
  },
  {
   "cell_type": "markdown",
   "id": "4df74e1d",
   "metadata": {},
   "source": [
    "\n",
    "**departure_city**  ----  Город отправления<br>\n",
    "**arrival_city**     ----       Город прибытия<br>\n",
    "**model_aircraft**   ----       Модель самолета<br>\n",
    "**date**            ----      Дата полета<br>\n",
    "**seat**            ----    Общее количество мест в самолете<br>\n",
    "**business_seat**    ----       Количество мест бизнесс-класса <br>\n",
    "**economy_pass**      ----       Количество пассажиров эконом-класса<br>\n",
    "**business_pass**     ----       Количество пассажиров бизнесс-класса<br>\n",
    "**sum_pass**          ----    Общее количество пассажиров <br>\n",
    "**flight_duration_minutes** ----  Продолжительность рейса в минутах<br>\n",
    "**revenue**                 ----  Выручка за продажу билетов<br>"
   ]
  },
  {
   "cell_type": "code",
   "execution_count": 534,
   "id": "0f132976",
   "metadata": {},
   "outputs": [
    {
     "data": {
      "image/png": "[encoded data removed]",
      "text/plain": [
       "<Figure size 720x504 with 1 Axes>"
      ]
     },
     "metadata": {},
     "output_type": "display_data"
    }
   ],
   "source": [
    "plt.figure(figsize=(10, 7))\n",
    "sns.set_theme(style=\"whitegrid\",palette='viridis')\n",
    "ax = sns.barplot(x=\"arrival_city\", y=\"sum_pass\", data=df)\n",
    "ax.set(xlabel='Город прибытия', ylabel='Количество пассажиров', title='Среднее количество пассажиров по направлениям',\n",
    "       xticklabels=('Москва', 'Белгород', 'Новокузнецк'));"
   ]
  },
  {
   "cell_type": "code",
   "execution_count": 535,
   "id": "18543d79",
   "metadata": {
    "scrolled": false
   },
   "outputs": [
    {
     "data": {
      "image/png": "[encoded data removed]",
      "text/plain": [
       "<Figure size 720x504 with 1 Axes>"
      ]
     },
     "metadata": {},
     "output_type": "display_data"
    }
   ],
   "source": [
    "plt.figure(figsize=(10, 7))\n",
    "sns.set_theme(style=\"whitegrid\", palette='viridis')\n",
    "ax = sns.barplot(x=\"arrival_city\", y=\"revenue\", data=df)\n",
    "\n",
    "\n",
    "ax.set(xlabel='Город прибытия', ylabel='Выручка', title='Среднаяя выручка за билеты по направлениям',\n",
    "       xticklabels=('Москва', 'Белгород', 'Новокузнецк'));"
   ]
  },
  {
   "cell_type": "code",
   "execution_count": 536,
   "id": "c26bd525",
   "metadata": {},
   "outputs": [
    {
     "data": {
      "text/html": [
       "<div>\n",
       "<style scoped>\n",
       "    .dataframe tbody tr th:only-of-type {\n",
       "        vertical-align: middle;\n",
       "    }\n",
       "\n",
       "    .dataframe tbody tr th {\n",
       "        vertical-align: top;\n",
       "    }\n",
       "\n",
       "    .dataframe thead th {\n",
       "        text-align: right;\n",
       "    }\n",
       "</style>\n",
       "<table border=\"1\" class=\"dataframe\">\n",
       "  <thead>\n",
       "    <tr style=\"text-align: right;\">\n",
       "      <th></th>\n",
       "      <th>flight_id</th>\n",
       "      <th>departure_city</th>\n",
       "      <th>arrival_city</th>\n",
       "      <th>model_aircraft</th>\n",
       "      <th>date</th>\n",
       "      <th>seat</th>\n",
       "      <th>business_seat</th>\n",
       "      <th>economy_pass</th>\n",
       "      <th>business_pass</th>\n",
       "      <th>sum_pass</th>\n",
       "      <th>flight_duration_minutes</th>\n",
       "      <th>revenue</th>\n",
       "    </tr>\n",
       "  </thead>\n",
       "  <tbody>\n",
       "    <tr>\n",
       "      <th>5</th>\n",
       "      <td>136546</td>\n",
       "      <td>Anapa</td>\n",
       "      <td>Novokuznetsk</td>\n",
       "      <td>Boeing 737-300</td>\n",
       "      <td>2017-01-03</td>\n",
       "      <td>130</td>\n",
       "      <td>12</td>\n",
       "      <td>NaN</td>\n",
       "      <td>NaN</td>\n",
       "      <td>0</td>\n",
       "      <td>305</td>\n",
       "      <td>NaN</td>\n",
       "    </tr>\n",
       "    <tr>\n",
       "      <th>20</th>\n",
       "      <td>136523</td>\n",
       "      <td>Anapa</td>\n",
       "      <td>Novokuznetsk</td>\n",
       "      <td>Boeing 737-300</td>\n",
       "      <td>2017-01-10</td>\n",
       "      <td>130</td>\n",
       "      <td>12</td>\n",
       "      <td>NaN</td>\n",
       "      <td>NaN</td>\n",
       "      <td>0</td>\n",
       "      <td>305</td>\n",
       "      <td>NaN</td>\n",
       "    </tr>\n",
       "    <tr>\n",
       "      <th>35</th>\n",
       "      <td>136540</td>\n",
       "      <td>Anapa</td>\n",
       "      <td>Novokuznetsk</td>\n",
       "      <td>Boeing 737-300</td>\n",
       "      <td>2017-01-17</td>\n",
       "      <td>130</td>\n",
       "      <td>12</td>\n",
       "      <td>NaN</td>\n",
       "      <td>NaN</td>\n",
       "      <td>0</td>\n",
       "      <td>305</td>\n",
       "      <td>NaN</td>\n",
       "    </tr>\n",
       "    <tr>\n",
       "      <th>50</th>\n",
       "      <td>136560</td>\n",
       "      <td>Anapa</td>\n",
       "      <td>Novokuznetsk</td>\n",
       "      <td>Boeing 737-300</td>\n",
       "      <td>2017-01-24</td>\n",
       "      <td>130</td>\n",
       "      <td>12</td>\n",
       "      <td>NaN</td>\n",
       "      <td>NaN</td>\n",
       "      <td>0</td>\n",
       "      <td>305</td>\n",
       "      <td>NaN</td>\n",
       "    </tr>\n",
       "    <tr>\n",
       "      <th>65</th>\n",
       "      <td>136544</td>\n",
       "      <td>Anapa</td>\n",
       "      <td>Novokuznetsk</td>\n",
       "      <td>Boeing 737-300</td>\n",
       "      <td>2017-01-31</td>\n",
       "      <td>130</td>\n",
       "      <td>12</td>\n",
       "      <td>NaN</td>\n",
       "      <td>NaN</td>\n",
       "      <td>0</td>\n",
       "      <td>305</td>\n",
       "      <td>NaN</td>\n",
       "    </tr>\n",
       "    <tr>\n",
       "      <th>80</th>\n",
       "      <td>136514</td>\n",
       "      <td>Anapa</td>\n",
       "      <td>Novokuznetsk</td>\n",
       "      <td>Boeing 737-300</td>\n",
       "      <td>2017-02-07</td>\n",
       "      <td>130</td>\n",
       "      <td>12</td>\n",
       "      <td>NaN</td>\n",
       "      <td>NaN</td>\n",
       "      <td>0</td>\n",
       "      <td>305</td>\n",
       "      <td>NaN</td>\n",
       "    </tr>\n",
       "    <tr>\n",
       "      <th>95</th>\n",
       "      <td>136567</td>\n",
       "      <td>Anapa</td>\n",
       "      <td>Novokuznetsk</td>\n",
       "      <td>Boeing 737-300</td>\n",
       "      <td>2017-02-14</td>\n",
       "      <td>130</td>\n",
       "      <td>12</td>\n",
       "      <td>NaN</td>\n",
       "      <td>NaN</td>\n",
       "      <td>0</td>\n",
       "      <td>305</td>\n",
       "      <td>NaN</td>\n",
       "    </tr>\n",
       "    <tr>\n",
       "      <th>110</th>\n",
       "      <td>136511</td>\n",
       "      <td>Anapa</td>\n",
       "      <td>Novokuznetsk</td>\n",
       "      <td>Boeing 737-300</td>\n",
       "      <td>2017-02-21</td>\n",
       "      <td>130</td>\n",
       "      <td>12</td>\n",
       "      <td>NaN</td>\n",
       "      <td>NaN</td>\n",
       "      <td>0</td>\n",
       "      <td>305</td>\n",
       "      <td>NaN</td>\n",
       "    </tr>\n",
       "    <tr>\n",
       "      <th>125</th>\n",
       "      <td>136513</td>\n",
       "      <td>Anapa</td>\n",
       "      <td>Novokuznetsk</td>\n",
       "      <td>Boeing 737-300</td>\n",
       "      <td>2017-02-28</td>\n",
       "      <td>130</td>\n",
       "      <td>12</td>\n",
       "      <td>NaN</td>\n",
       "      <td>NaN</td>\n",
       "      <td>0</td>\n",
       "      <td>305</td>\n",
       "      <td>NaN</td>\n",
       "    </tr>\n",
       "  </tbody>\n",
       "</table>\n",
       "</div>"
      ],
      "text/plain": [
       "     flight_id departure_city  arrival_city  model_aircraft        date  seat  \\\n",
       "5       136546          Anapa  Novokuznetsk  Boeing 737-300  2017-01-03   130   \n",
       "20      136523          Anapa  Novokuznetsk  Boeing 737-300  2017-01-10   130   \n",
       "35      136540          Anapa  Novokuznetsk  Boeing 737-300  2017-01-17   130   \n",
       "50      136560          Anapa  Novokuznetsk  Boeing 737-300  2017-01-24   130   \n",
       "65      136544          Anapa  Novokuznetsk  Boeing 737-300  2017-01-31   130   \n",
       "80      136514          Anapa  Novokuznetsk  Boeing 737-300  2017-02-07   130   \n",
       "95      136567          Anapa  Novokuznetsk  Boeing 737-300  2017-02-14   130   \n",
       "110     136511          Anapa  Novokuznetsk  Boeing 737-300  2017-02-21   130   \n",
       "125     136513          Anapa  Novokuznetsk  Boeing 737-300  2017-02-28   130   \n",
       "\n",
       "     business_seat  economy_pass  business_pass  sum_pass  \\\n",
       "5               12           NaN            NaN         0   \n",
       "20              12           NaN            NaN         0   \n",
       "35              12           NaN            NaN         0   \n",
       "50              12           NaN            NaN         0   \n",
       "65              12           NaN            NaN         0   \n",
       "80              12           NaN            NaN         0   \n",
       "95              12           NaN            NaN         0   \n",
       "110             12           NaN            NaN         0   \n",
       "125             12           NaN            NaN         0   \n",
       "\n",
       "     flight_duration_minutes  revenue  \n",
       "5                        305      NaN  \n",
       "20                       305      NaN  \n",
       "35                       305      NaN  \n",
       "50                       305      NaN  \n",
       "65                       305      NaN  \n",
       "80                       305      NaN  \n",
       "95                       305      NaN  \n",
       "110                      305      NaN  \n",
       "125                      305      NaN  "
      ]
     },
     "execution_count": 536,
     "metadata": {},
     "output_type": "execute_result"
    }
   ],
   "source": [
    "df[df['arrival_city']=='Novokuznetsk']"
   ]
  },
  {
   "cell_type": "markdown",
   "id": "5d9fefb5",
   "metadata": {},
   "source": [
    "Глядя на графики можно сделать первый вывод о том что по направлению Анапа-Новокузнецк нет данных о количестве пассажиров. Судя по тому, что нет данных именно об одном из направлений, есть вероятно того, что при сборе данных произошла ошибка, и исправленные данные можно будет получить у заказчика. Но так как мы не имеем такой возможности от данных придется избавиться."
   ]
  },
  {
   "cell_type": "code",
   "execution_count": 537,
   "id": "e08f614b",
   "metadata": {},
   "outputs": [],
   "source": [
    "df.dropna(inplace=True)"
   ]
  },
  {
   "cell_type": "markdown",
   "id": "553e80fa",
   "metadata": {},
   "source": [
    "#### Добавим информацию о заполняемости рейсов "
   ]
  },
  {
   "cell_type": "code",
   "execution_count": 538,
   "id": "658ab884",
   "metadata": {},
   "outputs": [],
   "source": [
    "df['occupancy']=df['sum_pass']/df['seat']*100"
   ]
  },
  {
   "cell_type": "code",
   "execution_count": 539,
   "id": "9d808f92",
   "metadata": {
    "scrolled": true
   },
   "outputs": [
    {
     "data": {
      "image/png": "[encoded data removed]",
      "text/plain": [
       "<Figure size 1080x360 with 1 Axes>"
      ]
     },
     "metadata": {},
     "output_type": "display_data"
    }
   ],
   "source": [
    "plt.figure(figsize=(15,5))\n",
    "plt.scatter(df['date'], df['occupancy'])\n",
    "plt.scatter(df[df['occupancy']<75]['date'], df[df['occupancy']<75]['occupancy'],color='red',s=50)\n",
    "plt.xlabel('Дата')\n",
    "plt.ylabel('Заполненость самолета')\n",
    "plt.title('Заполненность рейсов')\n",
    "plt.xticks(np.arange(0, 60, step=10.0));"
   ]
  },
  {
   "cell_type": "code",
   "execution_count": 540,
   "id": "c2783dba",
   "metadata": {},
   "outputs": [
    {
     "data": {
      "text/html": [
       "<div>\n",
       "<style scoped>\n",
       "    .dataframe tbody tr th:only-of-type {\n",
       "        vertical-align: middle;\n",
       "    }\n",
       "\n",
       "    .dataframe tbody tr th {\n",
       "        vertical-align: top;\n",
       "    }\n",
       "\n",
       "    .dataframe thead th {\n",
       "        text-align: right;\n",
       "    }\n",
       "</style>\n",
       "<table border=\"1\" class=\"dataframe\">\n",
       "  <thead>\n",
       "    <tr style=\"text-align: right;\">\n",
       "      <th></th>\n",
       "      <th>flight_id</th>\n",
       "      <th>departure_city</th>\n",
       "      <th>arrival_city</th>\n",
       "      <th>model_aircraft</th>\n",
       "      <th>date</th>\n",
       "      <th>seat</th>\n",
       "      <th>business_seat</th>\n",
       "      <th>economy_pass</th>\n",
       "      <th>business_pass</th>\n",
       "      <th>sum_pass</th>\n",
       "      <th>flight_duration_minutes</th>\n",
       "      <th>revenue</th>\n",
       "      <th>occupancy</th>\n",
       "    </tr>\n",
       "  </thead>\n",
       "  <tbody>\n",
       "    <tr>\n",
       "      <th>15</th>\n",
       "      <td>136122</td>\n",
       "      <td>Anapa</td>\n",
       "      <td>Moscow</td>\n",
       "      <td>Boeing 737-300</td>\n",
       "      <td>2017-01-08</td>\n",
       "      <td>130</td>\n",
       "      <td>12</td>\n",
       "      <td>87.0</td>\n",
       "      <td>10.0</td>\n",
       "      <td>97</td>\n",
       "      <td>100</td>\n",
       "      <td>3388400.0</td>\n",
       "      <td>74.615385</td>\n",
       "    </tr>\n",
       "    <tr>\n",
       "      <th>63</th>\n",
       "      <td>136642</td>\n",
       "      <td>Anapa</td>\n",
       "      <td>Belgorod</td>\n",
       "      <td>Sukhoi Superjet-100</td>\n",
       "      <td>2017-01-30</td>\n",
       "      <td>97</td>\n",
       "      <td>12</td>\n",
       "      <td>54.0</td>\n",
       "      <td>10.0</td>\n",
       "      <td>64</td>\n",
       "      <td>50</td>\n",
       "      <td>1892700.0</td>\n",
       "      <td>65.979381</td>\n",
       "    </tr>\n",
       "    <tr>\n",
       "      <th>75</th>\n",
       "      <td>136360</td>\n",
       "      <td>Anapa</td>\n",
       "      <td>Moscow</td>\n",
       "      <td>Boeing 737-300</td>\n",
       "      <td>2017-02-05</td>\n",
       "      <td>130</td>\n",
       "      <td>12</td>\n",
       "      <td>86.0</td>\n",
       "      <td>11.0</td>\n",
       "      <td>97</td>\n",
       "      <td>100</td>\n",
       "      <td>3439500.0</td>\n",
       "      <td>74.615385</td>\n",
       "    </tr>\n",
       "    <tr>\n",
       "      <th>115</th>\n",
       "      <td>136807</td>\n",
       "      <td>Anapa</td>\n",
       "      <td>Belgorod</td>\n",
       "      <td>Sukhoi Superjet-100</td>\n",
       "      <td>2017-02-23</td>\n",
       "      <td>97</td>\n",
       "      <td>12</td>\n",
       "      <td>60.0</td>\n",
       "      <td>8.0</td>\n",
       "      <td>68</td>\n",
       "      <td>50</td>\n",
       "      <td>2087000.0</td>\n",
       "      <td>70.103093</td>\n",
       "    </tr>\n",
       "  </tbody>\n",
       "</table>\n",
       "</div>"
      ],
      "text/plain": [
       "     flight_id departure_city arrival_city       model_aircraft        date  \\\n",
       "15      136122          Anapa       Moscow       Boeing 737-300  2017-01-08   \n",
       "63      136642          Anapa     Belgorod  Sukhoi Superjet-100  2017-01-30   \n",
       "75      136360          Anapa       Moscow       Boeing 737-300  2017-02-05   \n",
       "115     136807          Anapa     Belgorod  Sukhoi Superjet-100  2017-02-23   \n",
       "\n",
       "     seat  business_seat  economy_pass  business_pass  sum_pass  \\\n",
       "15    130             12          87.0           10.0        97   \n",
       "63     97             12          54.0           10.0        64   \n",
       "75    130             12          86.0           11.0        97   \n",
       "115    97             12          60.0            8.0        68   \n",
       "\n",
       "     flight_duration_minutes    revenue  occupancy  \n",
       "15                       100  3388400.0  74.615385  \n",
       "63                        50  1892700.0  65.979381  \n",
       "75                       100  3439500.0  74.615385  \n",
       "115                       50  2087000.0  70.103093  "
      ]
     },
     "execution_count": 540,
     "metadata": {},
     "output_type": "execute_result"
    }
   ],
   "source": [
    "df[df['occupancy']<75]"
   ]
  },
  {
   "cell_type": "markdown",
   "id": "9da42634",
   "metadata": {},
   "source": [
    "Предварительно определим уровень безубыточности для заполняемости равный 75% . Получили 4 рейса имеющих низкую заполняемость самолета."
   ]
  },
  {
   "cell_type": "markdown",
   "id": "374b1011",
   "metadata": {},
   "source": [
    "#### Добавим информацию о расходах на топливо и общей выручке за рейс\n"
   ]
  },
  {
   "cell_type": "markdown",
   "id": "d5bbc9b4",
   "metadata": {},
   "source": [
    "#### Расход керосина для модели самолета (кг/ч):\n",
    "SSJ-100---1700  \n",
    "B737-300---2400  "
   ]
  },
  {
   "cell_type": "code",
   "execution_count": 541,
   "id": "89462385",
   "metadata": {},
   "outputs": [],
   "source": [
    "df.loc[df['model_aircraft']=='Sukhoi Superjet-100','fuel_consumption']=1700/60*df['flight_duration_minutes']\n",
    "df.loc[df['model_aircraft']=='Boeing 737-300','fuel_consumption']=2400/60*df['flight_duration_minutes']"
   ]
  },
  {
   "cell_type": "markdown",
   "id": "ef66c8d7",
   "metadata": {},
   "source": [
    "#### Цены на авиа-керосин в 2017 году (за тонну)\n",
    "Январь---41435 <br>\n",
    "Февраль--39553<br>\n",
    "Декабрь--47101"
   ]
  },
  {
   "cell_type": "code",
   "execution_count": 542,
   "id": "9076a4f8",
   "metadata": {},
   "outputs": [],
   "source": [
    "df['date']=pd.to_datetime(df['date'])\n",
    "df.loc[df[\"date\"].dt.month==1,'fuel_costs']=41435/1000*df['fuel_consumption']\n",
    "df.loc[df[\"date\"].dt.month==2,'fuel_costs']=39553/1000*df['fuel_consumption']\n",
    "df.loc[df[\"date\"].dt.month==12,'fuel_costs']=47101/1000*df['fuel_consumption']"
   ]
  },
  {
   "cell_type": "code",
   "execution_count": 543,
   "id": "a2dcd1cc",
   "metadata": {},
   "outputs": [],
   "source": [
    "df[\"delta\"]=df['revenue']-df['fuel_costs']"
   ]
  },
  {
   "cell_type": "code",
   "execution_count": 544,
   "id": "e3c2c4f1",
   "metadata": {
    "scrolled": true
   },
   "outputs": [
    {
     "data": {
      "image/png": "[encoded data removed]",
      "text/plain": [
       "<Figure size 1080x360 with 1 Axes>"
      ]
     },
     "metadata": {},
     "output_type": "display_data"
    }
   ],
   "source": [
    "plt.figure(figsize=(15,5))\n",
    "plt.scatter(df['date'], df['delta'])\n",
    "plt.scatter(df[df['delta']<2300000]['date'], df[df['delta']<2300000]['delta'],color='red',s=50)\n",
    "plt.xlabel('Дата')\n",
    "plt.ylabel('Прибыль')\n",
    "plt.title('Прибыль рейсов');\n"
   ]
  },
  {
   "cell_type": "code",
   "execution_count": 545,
   "id": "b43275f0",
   "metadata": {},
   "outputs": [
    {
     "data": {
      "text/html": [
       "<div>\n",
       "<style scoped>\n",
       "    .dataframe tbody tr th:only-of-type {\n",
       "        vertical-align: middle;\n",
       "    }\n",
       "\n",
       "    .dataframe tbody tr th {\n",
       "        vertical-align: top;\n",
       "    }\n",
       "\n",
       "    .dataframe thead th {\n",
       "        text-align: right;\n",
       "    }\n",
       "</style>\n",
       "<table border=\"1\" class=\"dataframe\">\n",
       "  <thead>\n",
       "    <tr style=\"text-align: right;\">\n",
       "      <th></th>\n",
       "      <th>flight_id</th>\n",
       "      <th>departure_city</th>\n",
       "      <th>arrival_city</th>\n",
       "      <th>model_aircraft</th>\n",
       "      <th>date</th>\n",
       "      <th>seat</th>\n",
       "      <th>business_seat</th>\n",
       "      <th>economy_pass</th>\n",
       "      <th>business_pass</th>\n",
       "      <th>sum_pass</th>\n",
       "      <th>flight_duration_minutes</th>\n",
       "      <th>revenue</th>\n",
       "      <th>occupancy</th>\n",
       "      <th>fuel_consumption</th>\n",
       "      <th>fuel_costs</th>\n",
       "      <th>delta</th>\n",
       "    </tr>\n",
       "  </thead>\n",
       "  <tbody>\n",
       "    <tr>\n",
       "      <th>42</th>\n",
       "      <td>136887</td>\n",
       "      <td>Anapa</td>\n",
       "      <td>Belgorod</td>\n",
       "      <td>Sukhoi Superjet-100</td>\n",
       "      <td>2017-01-20</td>\n",
       "      <td>97</td>\n",
       "      <td>12</td>\n",
       "      <td>70.0</td>\n",
       "      <td>8.0</td>\n",
       "      <td>78</td>\n",
       "      <td>50</td>\n",
       "      <td>2348400.0</td>\n",
       "      <td>80.412371</td>\n",
       "      <td>1416.666667</td>\n",
       "      <td>58699.583333</td>\n",
       "      <td>2.289700e+06</td>\n",
       "    </tr>\n",
       "    <tr>\n",
       "      <th>63</th>\n",
       "      <td>136642</td>\n",
       "      <td>Anapa</td>\n",
       "      <td>Belgorod</td>\n",
       "      <td>Sukhoi Superjet-100</td>\n",
       "      <td>2017-01-30</td>\n",
       "      <td>97</td>\n",
       "      <td>12</td>\n",
       "      <td>54.0</td>\n",
       "      <td>10.0</td>\n",
       "      <td>64</td>\n",
       "      <td>50</td>\n",
       "      <td>1892700.0</td>\n",
       "      <td>65.979381</td>\n",
       "      <td>1416.666667</td>\n",
       "      <td>58699.583333</td>\n",
       "      <td>1.834000e+06</td>\n",
       "    </tr>\n",
       "    <tr>\n",
       "      <th>76</th>\n",
       "      <td>136823</td>\n",
       "      <td>Anapa</td>\n",
       "      <td>Belgorod</td>\n",
       "      <td>Sukhoi Superjet-100</td>\n",
       "      <td>2017-02-05</td>\n",
       "      <td>97</td>\n",
       "      <td>12</td>\n",
       "      <td>68.0</td>\n",
       "      <td>10.0</td>\n",
       "      <td>78</td>\n",
       "      <td>50</td>\n",
       "      <td>2342100.0</td>\n",
       "      <td>80.412371</td>\n",
       "      <td>1416.666667</td>\n",
       "      <td>56033.416667</td>\n",
       "      <td>2.286067e+06</td>\n",
       "    </tr>\n",
       "    <tr>\n",
       "      <th>89</th>\n",
       "      <td>136922</td>\n",
       "      <td>Anapa</td>\n",
       "      <td>Belgorod</td>\n",
       "      <td>Sukhoi Superjet-100</td>\n",
       "      <td>2017-02-11</td>\n",
       "      <td>97</td>\n",
       "      <td>12</td>\n",
       "      <td>66.0</td>\n",
       "      <td>10.0</td>\n",
       "      <td>76</td>\n",
       "      <td>50</td>\n",
       "      <td>2289100.0</td>\n",
       "      <td>78.350515</td>\n",
       "      <td>1416.666667</td>\n",
       "      <td>56033.416667</td>\n",
       "      <td>2.233067e+06</td>\n",
       "    </tr>\n",
       "    <tr>\n",
       "      <th>102</th>\n",
       "      <td>136620</td>\n",
       "      <td>Anapa</td>\n",
       "      <td>Belgorod</td>\n",
       "      <td>Sukhoi Superjet-100</td>\n",
       "      <td>2017-02-17</td>\n",
       "      <td>97</td>\n",
       "      <td>12</td>\n",
       "      <td>70.0</td>\n",
       "      <td>9.0</td>\n",
       "      <td>79</td>\n",
       "      <td>50</td>\n",
       "      <td>2352100.0</td>\n",
       "      <td>81.443299</td>\n",
       "      <td>1416.666667</td>\n",
       "      <td>56033.416667</td>\n",
       "      <td>2.296067e+06</td>\n",
       "    </tr>\n",
       "    <tr>\n",
       "      <th>115</th>\n",
       "      <td>136807</td>\n",
       "      <td>Anapa</td>\n",
       "      <td>Belgorod</td>\n",
       "      <td>Sukhoi Superjet-100</td>\n",
       "      <td>2017-02-23</td>\n",
       "      <td>97</td>\n",
       "      <td>12</td>\n",
       "      <td>60.0</td>\n",
       "      <td>8.0</td>\n",
       "      <td>68</td>\n",
       "      <td>50</td>\n",
       "      <td>2087000.0</td>\n",
       "      <td>70.103093</td>\n",
       "      <td>1416.666667</td>\n",
       "      <td>56033.416667</td>\n",
       "      <td>2.030967e+06</td>\n",
       "    </tr>\n",
       "    <tr>\n",
       "      <th>126</th>\n",
       "      <td>136844</td>\n",
       "      <td>Anapa</td>\n",
       "      <td>Belgorod</td>\n",
       "      <td>Sukhoi Superjet-100</td>\n",
       "      <td>2017-02-28</td>\n",
       "      <td>97</td>\n",
       "      <td>12</td>\n",
       "      <td>73.0</td>\n",
       "      <td>6.0</td>\n",
       "      <td>79</td>\n",
       "      <td>50</td>\n",
       "      <td>2269100.0</td>\n",
       "      <td>81.443299</td>\n",
       "      <td>1416.666667</td>\n",
       "      <td>56033.416667</td>\n",
       "      <td>2.213067e+06</td>\n",
       "    </tr>\n",
       "  </tbody>\n",
       "</table>\n",
       "</div>"
      ],
      "text/plain": [
       "     flight_id departure_city arrival_city       model_aircraft       date  \\\n",
       "42      136887          Anapa     Belgorod  Sukhoi Superjet-100 2017-01-20   \n",
       "63      136642          Anapa     Belgorod  Sukhoi Superjet-100 2017-01-30   \n",
       "76      136823          Anapa     Belgorod  Sukhoi Superjet-100 2017-02-05   \n",
       "89      136922          Anapa     Belgorod  Sukhoi Superjet-100 2017-02-11   \n",
       "102     136620          Anapa     Belgorod  Sukhoi Superjet-100 2017-02-17   \n",
       "115     136807          Anapa     Belgorod  Sukhoi Superjet-100 2017-02-23   \n",
       "126     136844          Anapa     Belgorod  Sukhoi Superjet-100 2017-02-28   \n",
       "\n",
       "     seat  business_seat  economy_pass  business_pass  sum_pass  \\\n",
       "42     97             12          70.0            8.0        78   \n",
       "63     97             12          54.0           10.0        64   \n",
       "76     97             12          68.0           10.0        78   \n",
       "89     97             12          66.0           10.0        76   \n",
       "102    97             12          70.0            9.0        79   \n",
       "115    97             12          60.0            8.0        68   \n",
       "126    97             12          73.0            6.0        79   \n",
       "\n",
       "     flight_duration_minutes    revenue  occupancy  fuel_consumption  \\\n",
       "42                        50  2348400.0  80.412371       1416.666667   \n",
       "63                        50  1892700.0  65.979381       1416.666667   \n",
       "76                        50  2342100.0  80.412371       1416.666667   \n",
       "89                        50  2289100.0  78.350515       1416.666667   \n",
       "102                       50  2352100.0  81.443299       1416.666667   \n",
       "115                       50  2087000.0  70.103093       1416.666667   \n",
       "126                       50  2269100.0  81.443299       1416.666667   \n",
       "\n",
       "       fuel_costs         delta  \n",
       "42   58699.583333  2.289700e+06  \n",
       "63   58699.583333  1.834000e+06  \n",
       "76   56033.416667  2.286067e+06  \n",
       "89   56033.416667  2.233067e+06  \n",
       "102  56033.416667  2.296067e+06  \n",
       "115  56033.416667  2.030967e+06  \n",
       "126  56033.416667  2.213067e+06  "
      ]
     },
     "execution_count": 545,
     "metadata": {},
     "output_type": "execute_result"
    }
   ],
   "source": [
    "df[df['delta']<2300000]"
   ]
  },
  {
   "cell_type": "markdown",
   "id": "bf91677c",
   "metadata": {},
   "source": [
    "Согласно анализу прибыли \"аутсайдерами\" являются другие рейсы. Можно заметить, что все они имеют одинаковый признак  Города прибытия(Белгород) и Модель самолета(Sukhoi Superjet-100)"
   ]
  },
  {
   "cell_type": "markdown",
   "id": "a27d7c79",
   "metadata": {},
   "source": [
    "#### Посмотрим влияет ли день недели на среднюю заполняемость самолета"
   ]
  },
  {
   "cell_type": "code",
   "execution_count": 546,
   "id": "cb23f7ad",
   "metadata": {},
   "outputs": [],
   "source": [
    "df['day_of_week']=df['date'].dt.dayofweek"
   ]
  },
  {
   "cell_type": "code",
   "execution_count": 561,
   "id": "2c1fde6c",
   "metadata": {},
   "outputs": [
    {
     "data": {
      "image/png": "[encoded data removed]",
      "text/plain": [
       "<Figure size 504x360 with 1 Axes>"
      ]
     },
     "metadata": {},
     "output_type": "display_data"
    }
   ],
   "source": [
    "plt.figure(figsize=(7, 5))\n",
    "ax=sns.barplot(x='day_of_week',y='occupancy',data=df,palette='rocket')\n",
    "ax.set(xlabel='День недели', ylabel='Заполняемость самолета', title='Заполняемость самолета по дням недели',\n",
    "       xticklabels=('Понедельник', 'Вторник','Среда','Четверг','Пятница','Суббота','Воскресенье'));"
   ]
  },
  {
   "cell_type": "markdown",
   "id": "ea734701",
   "metadata": {},
   "source": [
    "Нет существенной зависимости между днем недели и заполняемостью самолета"
   ]
  },
  {
   "cell_type": "markdown",
   "id": "d39daf07",
   "metadata": {},
   "source": [
    "#### Посмотрим на прибыльность рейсов исходя из модели самолета или направления\n",
    "\n"
   ]
  },
  {
   "cell_type": "code",
   "execution_count": 565,
   "id": "5d27ed8e",
   "metadata": {},
   "outputs": [
    {
     "data": {
      "image/png": "[encoded data removed]",
      "text/plain": [
       "<Figure size 1080x360 with 1 Axes>"
      ]
     },
     "metadata": {},
     "output_type": "display_data"
    }
   ],
   "source": [
    "plt.figure(figsize=(15,5))\n",
    "ax=sns.scatterplot(x=df['date'], y=df['delta'],hue=df['model_aircraft'],palette='Set2');\n",
    "ax.set(xlabel='Дата', ylabel='Прибыль', title='Прибыль с учетом модели самолета');"
   ]
  },
  {
   "cell_type": "markdown",
   "id": "25cc8134",
   "metadata": {},
   "source": [
    "Как мы можем видеть: более низкую прибыль демонстрируют все рейсы из Белгорода совершенные на самолете (Sukhoi Superjet-100). Принимая во внимание критерий заполняемости и полученной прибыли , предлагается признать низкоэффективными следующие рейсы:"
   ]
  },
  {
   "cell_type": "code",
   "execution_count": 549,
   "id": "41a0874b",
   "metadata": {
    "scrolled": false
   },
   "outputs": [
    {
     "data": {
      "text/html": [
       "<div>\n",
       "<style scoped>\n",
       "    .dataframe tbody tr th:only-of-type {\n",
       "        vertical-align: middle;\n",
       "    }\n",
       "\n",
       "    .dataframe tbody tr th {\n",
       "        vertical-align: top;\n",
       "    }\n",
       "\n",
       "    .dataframe thead th {\n",
       "        text-align: right;\n",
       "    }\n",
       "</style>\n",
       "<table border=\"1\" class=\"dataframe\">\n",
       "  <thead>\n",
       "    <tr style=\"text-align: right;\">\n",
       "      <th></th>\n",
       "      <th>flight_id</th>\n",
       "      <th>departure_city</th>\n",
       "      <th>arrival_city</th>\n",
       "      <th>model_aircraft</th>\n",
       "      <th>date</th>\n",
       "      <th>seat</th>\n",
       "      <th>business_seat</th>\n",
       "      <th>economy_pass</th>\n",
       "      <th>business_pass</th>\n",
       "      <th>sum_pass</th>\n",
       "      <th>flight_duration_minutes</th>\n",
       "      <th>revenue</th>\n",
       "      <th>occupancy</th>\n",
       "      <th>fuel_consumption</th>\n",
       "      <th>fuel_costs</th>\n",
       "      <th>delta</th>\n",
       "      <th>day_of_week</th>\n",
       "    </tr>\n",
       "  </thead>\n",
       "  <tbody>\n",
       "    <tr>\n",
       "      <th>63</th>\n",
       "      <td>136642</td>\n",
       "      <td>Anapa</td>\n",
       "      <td>Belgorod</td>\n",
       "      <td>Sukhoi Superjet-100</td>\n",
       "      <td>2017-01-30</td>\n",
       "      <td>97</td>\n",
       "      <td>12</td>\n",
       "      <td>54.0</td>\n",
       "      <td>10.0</td>\n",
       "      <td>64</td>\n",
       "      <td>50</td>\n",
       "      <td>1892700.0</td>\n",
       "      <td>65.979381</td>\n",
       "      <td>1416.666667</td>\n",
       "      <td>58699.583333</td>\n",
       "      <td>1.834000e+06</td>\n",
       "      <td>0</td>\n",
       "    </tr>\n",
       "    <tr>\n",
       "      <th>115</th>\n",
       "      <td>136807</td>\n",
       "      <td>Anapa</td>\n",
       "      <td>Belgorod</td>\n",
       "      <td>Sukhoi Superjet-100</td>\n",
       "      <td>2017-02-23</td>\n",
       "      <td>97</td>\n",
       "      <td>12</td>\n",
       "      <td>60.0</td>\n",
       "      <td>8.0</td>\n",
       "      <td>68</td>\n",
       "      <td>50</td>\n",
       "      <td>2087000.0</td>\n",
       "      <td>70.103093</td>\n",
       "      <td>1416.666667</td>\n",
       "      <td>56033.416667</td>\n",
       "      <td>2.030967e+06</td>\n",
       "      <td>3</td>\n",
       "    </tr>\n",
       "  </tbody>\n",
       "</table>\n",
       "</div>"
      ],
      "text/plain": [
       "     flight_id departure_city arrival_city       model_aircraft       date  \\\n",
       "63      136642          Anapa     Belgorod  Sukhoi Superjet-100 2017-01-30   \n",
       "115     136807          Anapa     Belgorod  Sukhoi Superjet-100 2017-02-23   \n",
       "\n",
       "     seat  business_seat  economy_pass  business_pass  sum_pass  \\\n",
       "63     97             12          54.0           10.0        64   \n",
       "115    97             12          60.0            8.0        68   \n",
       "\n",
       "     flight_duration_minutes    revenue  occupancy  fuel_consumption  \\\n",
       "63                        50  1892700.0  65.979381       1416.666667   \n",
       "115                       50  2087000.0  70.103093       1416.666667   \n",
       "\n",
       "       fuel_costs         delta  day_of_week  \n",
       "63   58699.583333  1.834000e+06            0  \n",
       "115  56033.416667  2.030967e+06            3  "
      ]
     },
     "execution_count": 549,
     "metadata": {},
     "output_type": "execute_result"
    }
   ],
   "source": [
    "df.query('model_aircraft == \"Sukhoi Superjet-100\" and occupancy<75 ')"
   ]
  },
  {
   "cell_type": "markdown",
   "id": "8df97732",
   "metadata": {},
   "source": [
    "### Выводы"
   ]
  },
  {
   "cell_type": "markdown",
   "id": "64f7f033",
   "metadata": {},
   "source": [
    "1) Дата полета в зимнее время не играет существенной роли для прибыльности рейса <br>\n",
    "2) Направление Анапа-Москва является более прибыльным чем Анапа-Белгород<br>\n",
    "3) Для самолетов Sukhoi Superjet-100 безубыточной является заполняемость >70%<br>\n",
    "4) Существенной разницы заполняемости самолета в зависимости от дня недели нет<br>\n",
    "5) При текущем анализе трудно говорить об убыточности или прибыльности рейсов, так как не берется в расчет стоимость обслуживания самолетов, а так же зарплата экипажу<br>\n"
   ]
  }
 ],
 "metadata": {
  "kernelspec": {
   "display_name": "Python 3 (ipykernel)",
   "language": "python",
   "name": "python3"
  },
  "language_info": {
   "codemirror_mode": {
    "name": "ipython",
    "version": 3
   },
   "file_extension": ".py",
   "mimetype": "text/x-python",
   "name": "python",
   "nbconvert_exporter": "python",
   "pygments_lexer": "ipython3",
   "version": "3.8.11"
  }
 },
 "nbformat": 4,
 "nbformat_minor": 5
}
