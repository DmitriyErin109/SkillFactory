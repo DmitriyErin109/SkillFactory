{
 "cells": [
  {
   "cell_type": "markdown",
   "source": [
    "# Проект №2 Разведывательный анализ данных (EDA)"
   ],
   "metadata": {}
  },
  {
   "cell_type": "markdown",
   "source": [
    "## Цели и задачи: Провести анализ влияния условий жизни учащихся в возрасте от 15 до 22 лет на их успеваемость по математике для выявления студентов, находящихся в группе риска на ранней стадии"
   ],
   "metadata": {}
  },
  {
   "cell_type": "code",
   "execution_count": 1810,
   "source": [
    "import pandas as pd\n",
    "import matplotlib.pyplot as plt\n",
    "import seaborn as sns\n",
    "import numpy as np\n",
    "import random\n",
    "from itertools import combinations\n",
    "from scipy.stats import ttest_ind\n",
    "%matplotlib inline"
   ],
   "outputs": [],
   "metadata": {}
  },
  {
   "cell_type": "code",
   "execution_count": 1811,
   "source": [
    "students = pd.read_csv('stud_math.csv')"
   ],
   "outputs": [],
   "metadata": {}
  },
  {
   "cell_type": "markdown",
   "source": [
    "### Функции "
   ],
   "metadata": {}
  },
  {
   "cell_type": "code",
   "execution_count": 1812,
   "source": [
    "def cor_extreme_values(column):\n",
    "    IQR = students[column].quantile(0.75) - students[column].quantile(0.25)\n",
    "    perc25 = students[column].quantile(0.25)\n",
    "    perc75 = students[column].quantile(0.75)\n",
    "    f = perc25 - 1.5*IQR\n",
    "    l = perc75 + 1.5*IQR\n",
    "    plt.figure()\n",
    "    sns.countplot(x=column, palette='Greys',\n",
    "                  data=students.loc[students.loc[:, column].isin(students.loc[:, column].value_counts().index[:10])])\n",
    "    plt.title(f'{column}')\n",
    "    print(\n",
    "        f' Для колонки {column} --- 25-й перцентиль: {perc25}, 75-й перцентиль: {perc75}, IQR: {IQR}, Границы выбросов: [{f}, {l}]')\n",
    "\n",
    "\n",
    "def get_boxplot(column):\n",
    "    fig, ax = plt.subplots(figsize=(7, 4))\n",
    "    sns.boxplot(x=column, y='score',\n",
    "                data=students.loc[students.loc[:, column].isin(\n",
    "                    students.loc[:, column].value_counts().index[:10])],\n",
    "                ax=ax)\n",
    "    plt.xticks(rotation=45)\n",
    "    ax.set_title('Boxplot for ' + column)\n",
    "    plt.show()\n",
    "\n",
    "\n",
    "def get_hist(column):\n",
    "    fig, ax = plt.subplots(figsize=(7, 4))\n",
    "    students[column].hist()\n",
    "    plt.xticks(rotation=45)\n",
    "    ax.set_title('Boxplot for ' + column)\n",
    "    plt.show()\n",
    "\n",
    "\n",
    "significance = []\n",
    "\n",
    "\n",
    "def get_stat_dif(column):\n",
    "    cols = students.loc[:, column].value_counts().index\n",
    "    combinations_all = list(combinations(cols, 2))\n",
    "    for comb in combinations_all:\n",
    "        if ttest_ind(students.loc[students.loc[:, column] == comb[0], 'score'],\n",
    "                     students.loc[students.loc[:, column] == comb[1], 'score']).pvalue \\\n",
    "                <= 0.05/len(combinations_all):  # Учли поправку Бонферони\n",
    "            print('Найдены статистически значимые различия для колонки', column)\n",
    "            significance.append(column)\n",
    "            break"
   ],
   "outputs": [],
   "metadata": {}
  },
  {
   "cell_type": "markdown",
   "source": [
    "## 1) Первичная обработка данных."
   ],
   "metadata": {}
  },
  {
   "cell_type": "code",
   "execution_count": 1813,
   "source": [
    "students.rename({'Mjob': 'm_job', 'Fjob': 'f_job', 'Pstatus': 'p_status',\n",
    "                 \"Medu\": 'm_edu', \"Fedu\": 'f_edu'}, inplace=True, axis=1)"
   ],
   "outputs": [],
   "metadata": {}
  },
  {
   "cell_type": "code",
   "execution_count": 1814,
   "source": [
    "numeric_columns = ['age', 'absences', 'score']"
   ],
   "outputs": [],
   "metadata": {}
  },
  {
   "cell_type": "markdown",
   "source": [
    "#### Удалим из датасета строки с количеством незаполненных значений больше 20%"
   ],
   "metadata": {}
  },
  {
   "cell_type": "code",
   "execution_count": 1815,
   "source": [
    "border = len(students.columns)*0.2\n",
    "students = students[(students.isna().sum(axis=1)) < 6]"
   ],
   "outputs": [],
   "metadata": {}
  },
  {
   "cell_type": "markdown",
   "source": [
    "## 2) Распределение признака числовых переменных, устранение выбросов, заполнение пропусков"
   ],
   "metadata": {}
  },
  {
   "cell_type": "code",
   "execution_count": 1816,
   "source": [
    "for column in numeric_columns:\n",
    "    cor_extreme_values(column)"
   ],
   "outputs": [
    {
     "output_type": "stream",
     "name": "stdout",
     "text": [
      " Для колонки age --- 25-й перцентиль: 16.0, 75-й перцентиль: 18.0, IQR: 2.0, Границы выбросов: [13.0, 21.0]\n",
      " Для колонки absences --- 25-й перцентиль: 0.0, 75-й перцентиль: 8.0, IQR: 8.0, Границы выбросов: [-12.0, 20.0]\n",
      " Для колонки score --- 25-й перцентиль: 40.0, 75-й перцентиль: 70.0, IQR: 30.0, Границы выбросов: [-5.0, 115.0]\n"
     ]
    },
    {
     "output_type": "display_data",
     "data": {
      "image/png": "[encoded data removed]",
      "text/plain": [
       "<Figure size 432x288 with 1 Axes>"
      ]
     },
     "metadata": {
      "needs_background": "light"
     }
    },
    {
     "output_type": "display_data",
     "data": {
      "image/png": "[encoded data removed]",
      "text/plain": [
       "<Figure size 432x288 with 1 Axes>"
      ]
     },
     "metadata": {
      "needs_background": "light"
     }
    },
    {
     "output_type": "display_data",
     "data": {
      "image/png": "[encoded data removed]",
      "text/plain": [
       "<Figure size 432x288 with 1 Axes>"
      ]
     },
     "metadata": {
      "needs_background": "light"
     }
    }
   ],
   "metadata": {}
  },
  {
   "cell_type": "markdown",
   "source": [
    "##### В признаке 'age' и 'absences' присутствуют выбросы \n"
   ],
   "metadata": {}
  },
  {
   "cell_type": "code",
   "execution_count": 1817,
   "source": [
    "perc_25 = students['age'].quantile(0.25)\n",
    "perc_75 = students['age'].quantile(0.75)\n",
    "IQR = students['age'].quantile(0.75) - students['age'].quantile(0.25)\n",
    "\n",
    "students.loc[~students['age'].between(perc_25 - 1.5*IQR, perc_75 + 1.5*IQR)]"
   ],
   "outputs": [
    {
     "output_type": "execute_result",
     "data": {
      "text/html": [
       "<div>\n",
       "<style scoped>\n",
       "    .dataframe tbody tr th:only-of-type {\n",
       "        vertical-align: middle;\n",
       "    }\n",
       "\n",
       "    .dataframe tbody tr th {\n",
       "        vertical-align: top;\n",
       "    }\n",
       "\n",
       "    .dataframe thead th {\n",
       "        text-align: right;\n",
       "    }\n",
       "</style>\n",
       "<table border=\"1\" class=\"dataframe\">\n",
       "  <thead>\n",
       "    <tr style=\"text-align: right;\">\n",
       "      <th></th>\n",
       "      <th>school</th>\n",
       "      <th>sex</th>\n",
       "      <th>age</th>\n",
       "      <th>address</th>\n",
       "      <th>famsize</th>\n",
       "      <th>p_status</th>\n",
       "      <th>m_edu</th>\n",
       "      <th>f_edu</th>\n",
       "      <th>m_job</th>\n",
       "      <th>f_job</th>\n",
       "      <th>...</th>\n",
       "      <th>studytime, granular</th>\n",
       "      <th>higher</th>\n",
       "      <th>internet</th>\n",
       "      <th>romantic</th>\n",
       "      <th>famrel</th>\n",
       "      <th>freetime</th>\n",
       "      <th>goout</th>\n",
       "      <th>health</th>\n",
       "      <th>absences</th>\n",
       "      <th>score</th>\n",
       "    </tr>\n",
       "  </thead>\n",
       "  <tbody>\n",
       "    <tr>\n",
       "      <th>247</th>\n",
       "      <td>GP</td>\n",
       "      <td>M</td>\n",
       "      <td>22</td>\n",
       "      <td>U</td>\n",
       "      <td>GT3</td>\n",
       "      <td>T</td>\n",
       "      <td>3.0</td>\n",
       "      <td>1.0</td>\n",
       "      <td>services</td>\n",
       "      <td>services</td>\n",
       "      <td>...</td>\n",
       "      <td>-3.0</td>\n",
       "      <td>no</td>\n",
       "      <td>yes</td>\n",
       "      <td>yes</td>\n",
       "      <td>5.0</td>\n",
       "      <td>4.0</td>\n",
       "      <td>5.0</td>\n",
       "      <td>1.0</td>\n",
       "      <td>16.0</td>\n",
       "      <td>40.0</td>\n",
       "    </tr>\n",
       "  </tbody>\n",
       "</table>\n",
       "<p>1 rows × 30 columns</p>\n",
       "</div>"
      ],
      "text/plain": [
       "    school sex  age address famsize p_status  m_edu  f_edu     m_job  \\\n",
       "247     GP   M   22       U     GT3        T    3.0    1.0  services   \n",
       "\n",
       "        f_job  ... studytime, granular higher  internet  romantic  famrel  \\\n",
       "247  services  ...                -3.0     no       yes       yes     5.0   \n",
       "\n",
       "    freetime goout health absences score  \n",
       "247      4.0   5.0    1.0     16.0  40.0  \n",
       "\n",
       "[1 rows x 30 columns]"
      ]
     },
     "metadata": {},
     "execution_count": 1817
    }
   ],
   "metadata": {
    "scrolled": true
   }
  },
  {
   "cell_type": "markdown",
   "source": [
    "#### Одно значение равное 22 годам по методу Тьюки является выбросом. Значение возраста равное 22 не противоречит логике. Принято решение оставить значение в выборке.\n"
   ],
   "metadata": {}
  },
  {
   "cell_type": "markdown",
   "source": [
    "### для количества пропущенных занятий"
   ],
   "metadata": {}
  },
  {
   "cell_type": "code",
   "execution_count": 1818,
   "source": [
    "perc_25 = students['absences'].quantile(0.25)\n",
    "perc_75 = students['absences'].quantile(0.75)\n",
    "IQR = students['absences'].quantile(0.75) - students['absences'].quantile(0.25)\n",
    "\n",
    "students.loc[~students['absences'].between(\n",
    "    perc_25 - 1.5*IQR, perc_75 + 1.5*IQR)]"
   ],
   "outputs": [
    {
     "output_type": "execute_result",
     "data": {
      "text/html": [
       "<div>\n",
       "<style scoped>\n",
       "    .dataframe tbody tr th:only-of-type {\n",
       "        vertical-align: middle;\n",
       "    }\n",
       "\n",
       "    .dataframe tbody tr th {\n",
       "        vertical-align: top;\n",
       "    }\n",
       "\n",
       "    .dataframe thead th {\n",
       "        text-align: right;\n",
       "    }\n",
       "</style>\n",
       "<table border=\"1\" class=\"dataframe\">\n",
       "  <thead>\n",
       "    <tr style=\"text-align: right;\">\n",
       "      <th></th>\n",
       "      <th>school</th>\n",
       "      <th>sex</th>\n",
       "      <th>age</th>\n",
       "      <th>address</th>\n",
       "      <th>famsize</th>\n",
       "      <th>p_status</th>\n",
       "      <th>m_edu</th>\n",
       "      <th>f_edu</th>\n",
       "      <th>m_job</th>\n",
       "      <th>f_job</th>\n",
       "      <th>...</th>\n",
       "      <th>studytime, granular</th>\n",
       "      <th>higher</th>\n",
       "      <th>internet</th>\n",
       "      <th>romantic</th>\n",
       "      <th>famrel</th>\n",
       "      <th>freetime</th>\n",
       "      <th>goout</th>\n",
       "      <th>health</th>\n",
       "      <th>absences</th>\n",
       "      <th>score</th>\n",
       "    </tr>\n",
       "  </thead>\n",
       "  <tbody>\n",
       "    <tr>\n",
       "      <th>24</th>\n",
       "      <td>GP</td>\n",
       "      <td>F</td>\n",
       "      <td>15</td>\n",
       "      <td>R</td>\n",
       "      <td>GT3</td>\n",
       "      <td>T</td>\n",
       "      <td>2.0</td>\n",
       "      <td>4.0</td>\n",
       "      <td>services</td>\n",
       "      <td>health</td>\n",
       "      <td>...</td>\n",
       "      <td>-9.0</td>\n",
       "      <td>yes</td>\n",
       "      <td>yes</td>\n",
       "      <td>no</td>\n",
       "      <td>4.0</td>\n",
       "      <td>3.0</td>\n",
       "      <td>2.0</td>\n",
       "      <td>5.0</td>\n",
       "      <td>NaN</td>\n",
       "      <td>40.0</td>\n",
       "    </tr>\n",
       "    <tr>\n",
       "      <th>40</th>\n",
       "      <td>GP</td>\n",
       "      <td>F</td>\n",
       "      <td>16</td>\n",
       "      <td>U</td>\n",
       "      <td>LE3</td>\n",
       "      <td>T</td>\n",
       "      <td>2.0</td>\n",
       "      <td>2.0</td>\n",
       "      <td>other</td>\n",
       "      <td>other</td>\n",
       "      <td>...</td>\n",
       "      <td>-6.0</td>\n",
       "      <td>yes</td>\n",
       "      <td>yes</td>\n",
       "      <td>yes</td>\n",
       "      <td>3.0</td>\n",
       "      <td>3.0</td>\n",
       "      <td>3.0</td>\n",
       "      <td>3.0</td>\n",
       "      <td>25.0</td>\n",
       "      <td>55.0</td>\n",
       "    </tr>\n",
       "    <tr>\n",
       "      <th>74</th>\n",
       "      <td>GP</td>\n",
       "      <td>F</td>\n",
       "      <td>16</td>\n",
       "      <td>U</td>\n",
       "      <td>GT3</td>\n",
       "      <td>T</td>\n",
       "      <td>3.0</td>\n",
       "      <td>3.0</td>\n",
       "      <td>other</td>\n",
       "      <td>services</td>\n",
       "      <td>...</td>\n",
       "      <td>-6.0</td>\n",
       "      <td>yes</td>\n",
       "      <td>yes</td>\n",
       "      <td>no</td>\n",
       "      <td>4.0</td>\n",
       "      <td>NaN</td>\n",
       "      <td>3.0</td>\n",
       "      <td>5.0</td>\n",
       "      <td>54.0</td>\n",
       "      <td>55.0</td>\n",
       "    </tr>\n",
       "    <tr>\n",
       "      <th>101</th>\n",
       "      <td>GP</td>\n",
       "      <td>M</td>\n",
       "      <td>16</td>\n",
       "      <td>U</td>\n",
       "      <td>GT3</td>\n",
       "      <td>T</td>\n",
       "      <td>4.0</td>\n",
       "      <td>4.0</td>\n",
       "      <td>services</td>\n",
       "      <td>teacher</td>\n",
       "      <td>...</td>\n",
       "      <td>-9.0</td>\n",
       "      <td>yes</td>\n",
       "      <td>yes</td>\n",
       "      <td>yes</td>\n",
       "      <td>4.0</td>\n",
       "      <td>4.0</td>\n",
       "      <td>3.0</td>\n",
       "      <td>4.0</td>\n",
       "      <td>NaN</td>\n",
       "      <td>85.0</td>\n",
       "    </tr>\n",
       "    <tr>\n",
       "      <th>103</th>\n",
       "      <td>GP</td>\n",
       "      <td>F</td>\n",
       "      <td>15</td>\n",
       "      <td>U</td>\n",
       "      <td>GT3</td>\n",
       "      <td>T</td>\n",
       "      <td>3.0</td>\n",
       "      <td>2.0</td>\n",
       "      <td>services</td>\n",
       "      <td>other</td>\n",
       "      <td>...</td>\n",
       "      <td>-6.0</td>\n",
       "      <td>yes</td>\n",
       "      <td>yes</td>\n",
       "      <td>no</td>\n",
       "      <td>4.0</td>\n",
       "      <td>3.0</td>\n",
       "      <td>5.0</td>\n",
       "      <td>2.0</td>\n",
       "      <td>26.0</td>\n",
       "      <td>30.0</td>\n",
       "    </tr>\n",
       "    <tr>\n",
       "      <th>120</th>\n",
       "      <td>GP</td>\n",
       "      <td>F</td>\n",
       "      <td>15</td>\n",
       "      <td>U</td>\n",
       "      <td>GT3</td>\n",
       "      <td>T</td>\n",
       "      <td>1.0</td>\n",
       "      <td>2.0</td>\n",
       "      <td>at_home</td>\n",
       "      <td>NaN</td>\n",
       "      <td>...</td>\n",
       "      <td>-6.0</td>\n",
       "      <td>yes</td>\n",
       "      <td>yes</td>\n",
       "      <td>no</td>\n",
       "      <td>3.0</td>\n",
       "      <td>2.0</td>\n",
       "      <td>3.0</td>\n",
       "      <td>1.0</td>\n",
       "      <td>NaN</td>\n",
       "      <td>75.0</td>\n",
       "    </tr>\n",
       "    <tr>\n",
       "      <th>129</th>\n",
       "      <td>GP</td>\n",
       "      <td>M</td>\n",
       "      <td>16</td>\n",
       "      <td>R</td>\n",
       "      <td>NaN</td>\n",
       "      <td>T</td>\n",
       "      <td>4.0</td>\n",
       "      <td>4.0</td>\n",
       "      <td>teacher</td>\n",
       "      <td>teacher</td>\n",
       "      <td>...</td>\n",
       "      <td>NaN</td>\n",
       "      <td>yes</td>\n",
       "      <td>yes</td>\n",
       "      <td>no</td>\n",
       "      <td>3.0</td>\n",
       "      <td>5.0</td>\n",
       "      <td>5.0</td>\n",
       "      <td>4.0</td>\n",
       "      <td>NaN</td>\n",
       "      <td>90.0</td>\n",
       "    </tr>\n",
       "    <tr>\n",
       "      <th>150</th>\n",
       "      <td>GP</td>\n",
       "      <td>M</td>\n",
       "      <td>18</td>\n",
       "      <td>U</td>\n",
       "      <td>LE3</td>\n",
       "      <td>T</td>\n",
       "      <td>1.0</td>\n",
       "      <td>1.0</td>\n",
       "      <td>other</td>\n",
       "      <td>other</td>\n",
       "      <td>...</td>\n",
       "      <td>-3.0</td>\n",
       "      <td>no</td>\n",
       "      <td>yes</td>\n",
       "      <td>yes</td>\n",
       "      <td>2.0</td>\n",
       "      <td>3.0</td>\n",
       "      <td>5.0</td>\n",
       "      <td>4.0</td>\n",
       "      <td>NaN</td>\n",
       "      <td>0.0</td>\n",
       "    </tr>\n",
       "    <tr>\n",
       "      <th>172</th>\n",
       "      <td>GP</td>\n",
       "      <td>M</td>\n",
       "      <td>17</td>\n",
       "      <td>U</td>\n",
       "      <td>NaN</td>\n",
       "      <td>T</td>\n",
       "      <td>4.0</td>\n",
       "      <td>4.0</td>\n",
       "      <td>teacher</td>\n",
       "      <td>other</td>\n",
       "      <td>...</td>\n",
       "      <td>-6.0</td>\n",
       "      <td>yes</td>\n",
       "      <td>yes</td>\n",
       "      <td>no</td>\n",
       "      <td>4.0</td>\n",
       "      <td>4.0</td>\n",
       "      <td>4.0</td>\n",
       "      <td>5.0</td>\n",
       "      <td>NaN</td>\n",
       "      <td>50.0</td>\n",
       "    </tr>\n",
       "    <tr>\n",
       "      <th>183</th>\n",
       "      <td>GP</td>\n",
       "      <td>F</td>\n",
       "      <td>17</td>\n",
       "      <td>U</td>\n",
       "      <td>LE3</td>\n",
       "      <td>NaN</td>\n",
       "      <td>3.0</td>\n",
       "      <td>3.0</td>\n",
       "      <td>other</td>\n",
       "      <td>other</td>\n",
       "      <td>...</td>\n",
       "      <td>-6.0</td>\n",
       "      <td>yes</td>\n",
       "      <td>yes</td>\n",
       "      <td>yes</td>\n",
       "      <td>5.0</td>\n",
       "      <td>3.0</td>\n",
       "      <td>3.0</td>\n",
       "      <td>1.0</td>\n",
       "      <td>56.0</td>\n",
       "      <td>40.0</td>\n",
       "    </tr>\n",
       "    <tr>\n",
       "      <th>198</th>\n",
       "      <td>GP</td>\n",
       "      <td>F</td>\n",
       "      <td>17</td>\n",
       "      <td>U</td>\n",
       "      <td>GT3</td>\n",
       "      <td>NaN</td>\n",
       "      <td>4.0</td>\n",
       "      <td>4.0</td>\n",
       "      <td>services</td>\n",
       "      <td>teacher</td>\n",
       "      <td>...</td>\n",
       "      <td>-3.0</td>\n",
       "      <td>yes</td>\n",
       "      <td>NaN</td>\n",
       "      <td>no</td>\n",
       "      <td>4.0</td>\n",
       "      <td>2.0</td>\n",
       "      <td>4.0</td>\n",
       "      <td>2.0</td>\n",
       "      <td>24.0</td>\n",
       "      <td>90.0</td>\n",
       "    </tr>\n",
       "    <tr>\n",
       "      <th>205</th>\n",
       "      <td>GP</td>\n",
       "      <td>F</td>\n",
       "      <td>17</td>\n",
       "      <td>U</td>\n",
       "      <td>GT3</td>\n",
       "      <td>T</td>\n",
       "      <td>3.0</td>\n",
       "      <td>4.0</td>\n",
       "      <td>at_home</td>\n",
       "      <td>services</td>\n",
       "      <td>...</td>\n",
       "      <td>-9.0</td>\n",
       "      <td>yes</td>\n",
       "      <td>yes</td>\n",
       "      <td>yes</td>\n",
       "      <td>4.0</td>\n",
       "      <td>4.0</td>\n",
       "      <td>3.0</td>\n",
       "      <td>5.0</td>\n",
       "      <td>28.0</td>\n",
       "      <td>45.0</td>\n",
       "    </tr>\n",
       "    <tr>\n",
       "      <th>215</th>\n",
       "      <td>GP</td>\n",
       "      <td>F</td>\n",
       "      <td>17</td>\n",
       "      <td>U</td>\n",
       "      <td>LE3</td>\n",
       "      <td>T</td>\n",
       "      <td>3.0</td>\n",
       "      <td>2.0</td>\n",
       "      <td>other</td>\n",
       "      <td>other</td>\n",
       "      <td>...</td>\n",
       "      <td>-6.0</td>\n",
       "      <td>yes</td>\n",
       "      <td>NaN</td>\n",
       "      <td>no</td>\n",
       "      <td>4.0</td>\n",
       "      <td>4.0</td>\n",
       "      <td>4.0</td>\n",
       "      <td>1.0</td>\n",
       "      <td>NaN</td>\n",
       "      <td>75.0</td>\n",
       "    </tr>\n",
       "    <tr>\n",
       "      <th>216</th>\n",
       "      <td>GP</td>\n",
       "      <td>F</td>\n",
       "      <td>17</td>\n",
       "      <td>U</td>\n",
       "      <td>GT3</td>\n",
       "      <td>T</td>\n",
       "      <td>4.0</td>\n",
       "      <td>3.0</td>\n",
       "      <td>other</td>\n",
       "      <td>NaN</td>\n",
       "      <td>...</td>\n",
       "      <td>-6.0</td>\n",
       "      <td>yes</td>\n",
       "      <td>yes</td>\n",
       "      <td>yes</td>\n",
       "      <td>3.0</td>\n",
       "      <td>4.0</td>\n",
       "      <td>5.0</td>\n",
       "      <td>1.0</td>\n",
       "      <td>22.0</td>\n",
       "      <td>20.0</td>\n",
       "    </tr>\n",
       "    <tr>\n",
       "      <th>222</th>\n",
       "      <td>GP</td>\n",
       "      <td>F</td>\n",
       "      <td>16</td>\n",
       "      <td>U</td>\n",
       "      <td>GT3</td>\n",
       "      <td>T</td>\n",
       "      <td>2.0</td>\n",
       "      <td>3.0</td>\n",
       "      <td>services</td>\n",
       "      <td>teacher</td>\n",
       "      <td>...</td>\n",
       "      <td>-6.0</td>\n",
       "      <td>yes</td>\n",
       "      <td>yes</td>\n",
       "      <td>no</td>\n",
       "      <td>2.0</td>\n",
       "      <td>3.0</td>\n",
       "      <td>1.0</td>\n",
       "      <td>3.0</td>\n",
       "      <td>385.0</td>\n",
       "      <td>85.0</td>\n",
       "    </tr>\n",
       "    <tr>\n",
       "      <th>227</th>\n",
       "      <td>GP</td>\n",
       "      <td>M</td>\n",
       "      <td>17</td>\n",
       "      <td>U</td>\n",
       "      <td>LE3</td>\n",
       "      <td>NaN</td>\n",
       "      <td>2.0</td>\n",
       "      <td>3.0</td>\n",
       "      <td>services</td>\n",
       "      <td>services</td>\n",
       "      <td>...</td>\n",
       "      <td>NaN</td>\n",
       "      <td>NaN</td>\n",
       "      <td>yes</td>\n",
       "      <td>no</td>\n",
       "      <td>5.0</td>\n",
       "      <td>3.0</td>\n",
       "      <td>3.0</td>\n",
       "      <td>3.0</td>\n",
       "      <td>NaN</td>\n",
       "      <td>60.0</td>\n",
       "    </tr>\n",
       "    <tr>\n",
       "      <th>254</th>\n",
       "      <td>GP</td>\n",
       "      <td>M</td>\n",
       "      <td>17</td>\n",
       "      <td>NaN</td>\n",
       "      <td>NaN</td>\n",
       "      <td>T</td>\n",
       "      <td>2.0</td>\n",
       "      <td>1.0</td>\n",
       "      <td>other</td>\n",
       "      <td>other</td>\n",
       "      <td>...</td>\n",
       "      <td>-3.0</td>\n",
       "      <td>yes</td>\n",
       "      <td>yes</td>\n",
       "      <td>no</td>\n",
       "      <td>4.0</td>\n",
       "      <td>4.0</td>\n",
       "      <td>2.0</td>\n",
       "      <td>5.0</td>\n",
       "      <td>NaN</td>\n",
       "      <td>60.0</td>\n",
       "    </tr>\n",
       "    <tr>\n",
       "      <th>260</th>\n",
       "      <td>GP</td>\n",
       "      <td>F</td>\n",
       "      <td>18</td>\n",
       "      <td>U</td>\n",
       "      <td>GT3</td>\n",
       "      <td>NaN</td>\n",
       "      <td>4.0</td>\n",
       "      <td>3.0</td>\n",
       "      <td>NaN</td>\n",
       "      <td>other</td>\n",
       "      <td>...</td>\n",
       "      <td>-6.0</td>\n",
       "      <td>yes</td>\n",
       "      <td>yes</td>\n",
       "      <td>yes</td>\n",
       "      <td>3.0</td>\n",
       "      <td>1.0</td>\n",
       "      <td>2.0</td>\n",
       "      <td>2.0</td>\n",
       "      <td>21.0</td>\n",
       "      <td>90.0</td>\n",
       "    </tr>\n",
       "    <tr>\n",
       "      <th>265</th>\n",
       "      <td>GP</td>\n",
       "      <td>M</td>\n",
       "      <td>18</td>\n",
       "      <td>R</td>\n",
       "      <td>LE3</td>\n",
       "      <td>NaN</td>\n",
       "      <td>3.0</td>\n",
       "      <td>4.0</td>\n",
       "      <td>NaN</td>\n",
       "      <td>other</td>\n",
       "      <td>...</td>\n",
       "      <td>-6.0</td>\n",
       "      <td>yes</td>\n",
       "      <td>yes</td>\n",
       "      <td>no</td>\n",
       "      <td>4.0</td>\n",
       "      <td>2.0</td>\n",
       "      <td>5.0</td>\n",
       "      <td>1.0</td>\n",
       "      <td>NaN</td>\n",
       "      <td>85.0</td>\n",
       "    </tr>\n",
       "    <tr>\n",
       "      <th>270</th>\n",
       "      <td>GP</td>\n",
       "      <td>F</td>\n",
       "      <td>19</td>\n",
       "      <td>NaN</td>\n",
       "      <td>GT3</td>\n",
       "      <td>T</td>\n",
       "      <td>3.0</td>\n",
       "      <td>3.0</td>\n",
       "      <td>other</td>\n",
       "      <td>services</td>\n",
       "      <td>...</td>\n",
       "      <td>-6.0</td>\n",
       "      <td>yes</td>\n",
       "      <td>yes</td>\n",
       "      <td>no</td>\n",
       "      <td>4.0</td>\n",
       "      <td>3.0</td>\n",
       "      <td>5.0</td>\n",
       "      <td>5.0</td>\n",
       "      <td>NaN</td>\n",
       "      <td>NaN</td>\n",
       "    </tr>\n",
       "    <tr>\n",
       "      <th>276</th>\n",
       "      <td>GP</td>\n",
       "      <td>F</td>\n",
       "      <td>18</td>\n",
       "      <td>R</td>\n",
       "      <td>GT3</td>\n",
       "      <td>A</td>\n",
       "      <td>3.0</td>\n",
       "      <td>2.0</td>\n",
       "      <td>other</td>\n",
       "      <td>services</td>\n",
       "      <td>...</td>\n",
       "      <td>-6.0</td>\n",
       "      <td>no</td>\n",
       "      <td>yes</td>\n",
       "      <td>yes</td>\n",
       "      <td>NaN</td>\n",
       "      <td>1.0</td>\n",
       "      <td>1.0</td>\n",
       "      <td>5.0</td>\n",
       "      <td>75.0</td>\n",
       "      <td>45.0</td>\n",
       "    </tr>\n",
       "    <tr>\n",
       "      <th>277</th>\n",
       "      <td>GP</td>\n",
       "      <td>M</td>\n",
       "      <td>18</td>\n",
       "      <td>U</td>\n",
       "      <td>GT3</td>\n",
       "      <td>T</td>\n",
       "      <td>4.0</td>\n",
       "      <td>4.0</td>\n",
       "      <td>NaN</td>\n",
       "      <td>services</td>\n",
       "      <td>...</td>\n",
       "      <td>-3.0</td>\n",
       "      <td>yes</td>\n",
       "      <td>yes</td>\n",
       "      <td>no</td>\n",
       "      <td>3.0</td>\n",
       "      <td>2.0</td>\n",
       "      <td>4.0</td>\n",
       "      <td>3.0</td>\n",
       "      <td>22.0</td>\n",
       "      <td>45.0</td>\n",
       "    </tr>\n",
       "    <tr>\n",
       "      <th>280</th>\n",
       "      <td>GP</td>\n",
       "      <td>M</td>\n",
       "      <td>17</td>\n",
       "      <td>U</td>\n",
       "      <td>NaN</td>\n",
       "      <td>A</td>\n",
       "      <td>4.0</td>\n",
       "      <td>NaN</td>\n",
       "      <td>services</td>\n",
       "      <td>other</td>\n",
       "      <td>...</td>\n",
       "      <td>-3.0</td>\n",
       "      <td>yes</td>\n",
       "      <td>yes</td>\n",
       "      <td>NaN</td>\n",
       "      <td>4.0</td>\n",
       "      <td>NaN</td>\n",
       "      <td>4.0</td>\n",
       "      <td>5.0</td>\n",
       "      <td>30.0</td>\n",
       "      <td>40.0</td>\n",
       "    </tr>\n",
       "    <tr>\n",
       "      <th>307</th>\n",
       "      <td>GP</td>\n",
       "      <td>M</td>\n",
       "      <td>19</td>\n",
       "      <td>U</td>\n",
       "      <td>GT3</td>\n",
       "      <td>NaN</td>\n",
       "      <td>4.0</td>\n",
       "      <td>4.0</td>\n",
       "      <td>teacher</td>\n",
       "      <td>services</td>\n",
       "      <td>...</td>\n",
       "      <td>-3.0</td>\n",
       "      <td>yes</td>\n",
       "      <td>yes</td>\n",
       "      <td>yes</td>\n",
       "      <td>4.0</td>\n",
       "      <td>3.0</td>\n",
       "      <td>4.0</td>\n",
       "      <td>4.0</td>\n",
       "      <td>38.0</td>\n",
       "      <td>40.0</td>\n",
       "    </tr>\n",
       "    <tr>\n",
       "      <th>313</th>\n",
       "      <td>GP</td>\n",
       "      <td>F</td>\n",
       "      <td>19</td>\n",
       "      <td>U</td>\n",
       "      <td>NaN</td>\n",
       "      <td>NaN</td>\n",
       "      <td>3.0</td>\n",
       "      <td>2.0</td>\n",
       "      <td>services</td>\n",
       "      <td>other</td>\n",
       "      <td>...</td>\n",
       "      <td>-6.0</td>\n",
       "      <td>yes</td>\n",
       "      <td>yes</td>\n",
       "      <td>yes</td>\n",
       "      <td>4.0</td>\n",
       "      <td>2.0</td>\n",
       "      <td>2.0</td>\n",
       "      <td>1.0</td>\n",
       "      <td>22.0</td>\n",
       "      <td>55.0</td>\n",
       "    </tr>\n",
       "    <tr>\n",
       "      <th>315</th>\n",
       "      <td>GP</td>\n",
       "      <td>F</td>\n",
       "      <td>19</td>\n",
       "      <td>R</td>\n",
       "      <td>GT3</td>\n",
       "      <td>T</td>\n",
       "      <td>2.0</td>\n",
       "      <td>3.0</td>\n",
       "      <td>other</td>\n",
       "      <td>other</td>\n",
       "      <td>...</td>\n",
       "      <td>-9.0</td>\n",
       "      <td>yes</td>\n",
       "      <td>yes</td>\n",
       "      <td>yes</td>\n",
       "      <td>4.0</td>\n",
       "      <td>1.0</td>\n",
       "      <td>2.0</td>\n",
       "      <td>3.0</td>\n",
       "      <td>40.0</td>\n",
       "      <td>55.0</td>\n",
       "    </tr>\n",
       "    <tr>\n",
       "      <th>320</th>\n",
       "      <td>GP</td>\n",
       "      <td>F</td>\n",
       "      <td>17</td>\n",
       "      <td>U</td>\n",
       "      <td>GT3</td>\n",
       "      <td>A</td>\n",
       "      <td>4.0</td>\n",
       "      <td>3.0</td>\n",
       "      <td>services</td>\n",
       "      <td>services</td>\n",
       "      <td>...</td>\n",
       "      <td>-6.0</td>\n",
       "      <td>NaN</td>\n",
       "      <td>yes</td>\n",
       "      <td>yes</td>\n",
       "      <td>5.0</td>\n",
       "      <td>2.0</td>\n",
       "      <td>2.0</td>\n",
       "      <td>5.0</td>\n",
       "      <td>23.0</td>\n",
       "      <td>65.0</td>\n",
       "    </tr>\n",
       "    <tr>\n",
       "      <th>352</th>\n",
       "      <td>MS</td>\n",
       "      <td>M</td>\n",
       "      <td>18</td>\n",
       "      <td>U</td>\n",
       "      <td>LE3</td>\n",
       "      <td>T</td>\n",
       "      <td>1.0</td>\n",
       "      <td>3.0</td>\n",
       "      <td>at_home</td>\n",
       "      <td>services</td>\n",
       "      <td>...</td>\n",
       "      <td>-3.0</td>\n",
       "      <td>no</td>\n",
       "      <td>yes</td>\n",
       "      <td>yes</td>\n",
       "      <td>4.0</td>\n",
       "      <td>3.0</td>\n",
       "      <td>3.0</td>\n",
       "      <td>3.0</td>\n",
       "      <td>NaN</td>\n",
       "      <td>40.0</td>\n",
       "    </tr>\n",
       "    <tr>\n",
       "      <th>390</th>\n",
       "      <td>MS</td>\n",
       "      <td>M</td>\n",
       "      <td>20</td>\n",
       "      <td>U</td>\n",
       "      <td>LE3</td>\n",
       "      <td>A</td>\n",
       "      <td>2.0</td>\n",
       "      <td>2.0</td>\n",
       "      <td>services</td>\n",
       "      <td>services</td>\n",
       "      <td>...</td>\n",
       "      <td>-6.0</td>\n",
       "      <td>yes</td>\n",
       "      <td>no</td>\n",
       "      <td>no</td>\n",
       "      <td>5.0</td>\n",
       "      <td>5.0</td>\n",
       "      <td>4.0</td>\n",
       "      <td>4.0</td>\n",
       "      <td>212.0</td>\n",
       "      <td>45.0</td>\n",
       "    </tr>\n",
       "  </tbody>\n",
       "</table>\n",
       "<p>29 rows × 30 columns</p>\n",
       "</div>"
      ],
      "text/plain": [
       "    school sex  age address famsize p_status  m_edu  f_edu     m_job  \\\n",
       "24      GP   F   15       R     GT3        T    2.0    4.0  services   \n",
       "40      GP   F   16       U     LE3        T    2.0    2.0     other   \n",
       "74      GP   F   16       U     GT3        T    3.0    3.0     other   \n",
       "101     GP   M   16       U     GT3        T    4.0    4.0  services   \n",
       "103     GP   F   15       U     GT3        T    3.0    2.0  services   \n",
       "120     GP   F   15       U     GT3        T    1.0    2.0   at_home   \n",
       "129     GP   M   16       R     NaN        T    4.0    4.0   teacher   \n",
       "150     GP   M   18       U     LE3        T    1.0    1.0     other   \n",
       "172     GP   M   17       U     NaN        T    4.0    4.0   teacher   \n",
       "183     GP   F   17       U     LE3      NaN    3.0    3.0     other   \n",
       "198     GP   F   17       U     GT3      NaN    4.0    4.0  services   \n",
       "205     GP   F   17       U     GT3        T    3.0    4.0   at_home   \n",
       "215     GP   F   17       U     LE3        T    3.0    2.0     other   \n",
       "216     GP   F   17       U     GT3        T    4.0    3.0     other   \n",
       "222     GP   F   16       U     GT3        T    2.0    3.0  services   \n",
       "227     GP   M   17       U     LE3      NaN    2.0    3.0  services   \n",
       "254     GP   M   17     NaN     NaN        T    2.0    1.0     other   \n",
       "260     GP   F   18       U     GT3      NaN    4.0    3.0       NaN   \n",
       "265     GP   M   18       R     LE3      NaN    3.0    4.0       NaN   \n",
       "270     GP   F   19     NaN     GT3        T    3.0    3.0     other   \n",
       "276     GP   F   18       R     GT3        A    3.0    2.0     other   \n",
       "277     GP   M   18       U     GT3        T    4.0    4.0       NaN   \n",
       "280     GP   M   17       U     NaN        A    4.0    NaN  services   \n",
       "307     GP   M   19       U     GT3      NaN    4.0    4.0   teacher   \n",
       "313     GP   F   19       U     NaN      NaN    3.0    2.0  services   \n",
       "315     GP   F   19       R     GT3        T    2.0    3.0     other   \n",
       "320     GP   F   17       U     GT3        A    4.0    3.0  services   \n",
       "352     MS   M   18       U     LE3        T    1.0    3.0   at_home   \n",
       "390     MS   M   20       U     LE3        A    2.0    2.0  services   \n",
       "\n",
       "        f_job  ... studytime, granular higher  internet  romantic  famrel  \\\n",
       "24     health  ...                -9.0    yes       yes        no     4.0   \n",
       "40      other  ...                -6.0    yes       yes       yes     3.0   \n",
       "74   services  ...                -6.0    yes       yes        no     4.0   \n",
       "101   teacher  ...                -9.0    yes       yes       yes     4.0   \n",
       "103     other  ...                -6.0    yes       yes        no     4.0   \n",
       "120       NaN  ...                -6.0    yes       yes        no     3.0   \n",
       "129   teacher  ...                 NaN    yes       yes        no     3.0   \n",
       "150     other  ...                -3.0     no       yes       yes     2.0   \n",
       "172     other  ...                -6.0    yes       yes        no     4.0   \n",
       "183     other  ...                -6.0    yes       yes       yes     5.0   \n",
       "198   teacher  ...                -3.0    yes       NaN        no     4.0   \n",
       "205  services  ...                -9.0    yes       yes       yes     4.0   \n",
       "215     other  ...                -6.0    yes       NaN        no     4.0   \n",
       "216       NaN  ...                -6.0    yes       yes       yes     3.0   \n",
       "222   teacher  ...                -6.0    yes       yes        no     2.0   \n",
       "227  services  ...                 NaN    NaN       yes        no     5.0   \n",
       "254     other  ...                -3.0    yes       yes        no     4.0   \n",
       "260     other  ...                -6.0    yes       yes       yes     3.0   \n",
       "265     other  ...                -6.0    yes       yes        no     4.0   \n",
       "270  services  ...                -6.0    yes       yes        no     4.0   \n",
       "276  services  ...                -6.0     no       yes       yes     NaN   \n",
       "277  services  ...                -3.0    yes       yes        no     3.0   \n",
       "280     other  ...                -3.0    yes       yes       NaN     4.0   \n",
       "307  services  ...                -3.0    yes       yes       yes     4.0   \n",
       "313     other  ...                -6.0    yes       yes       yes     4.0   \n",
       "315     other  ...                -9.0    yes       yes       yes     4.0   \n",
       "320  services  ...                -6.0    NaN       yes       yes     5.0   \n",
       "352  services  ...                -3.0     no       yes       yes     4.0   \n",
       "390  services  ...                -6.0    yes        no        no     5.0   \n",
       "\n",
       "    freetime goout health absences score  \n",
       "24       3.0   2.0    5.0      NaN  40.0  \n",
       "40       3.0   3.0    3.0     25.0  55.0  \n",
       "74       NaN   3.0    5.0     54.0  55.0  \n",
       "101      4.0   3.0    4.0      NaN  85.0  \n",
       "103      3.0   5.0    2.0     26.0  30.0  \n",
       "120      2.0   3.0    1.0      NaN  75.0  \n",
       "129      5.0   5.0    4.0      NaN  90.0  \n",
       "150      3.0   5.0    4.0      NaN   0.0  \n",
       "172      4.0   4.0    5.0      NaN  50.0  \n",
       "183      3.0   3.0    1.0     56.0  40.0  \n",
       "198      2.0   4.0    2.0     24.0  90.0  \n",
       "205      4.0   3.0    5.0     28.0  45.0  \n",
       "215      4.0   4.0    1.0      NaN  75.0  \n",
       "216      4.0   5.0    1.0     22.0  20.0  \n",
       "222      3.0   1.0    3.0    385.0  85.0  \n",
       "227      3.0   3.0    3.0      NaN  60.0  \n",
       "254      4.0   2.0    5.0      NaN  60.0  \n",
       "260      1.0   2.0    2.0     21.0  90.0  \n",
       "265      2.0   5.0    1.0      NaN  85.0  \n",
       "270      3.0   5.0    5.0      NaN   NaN  \n",
       "276      1.0   1.0    5.0     75.0  45.0  \n",
       "277      2.0   4.0    3.0     22.0  45.0  \n",
       "280      NaN   4.0    5.0     30.0  40.0  \n",
       "307      3.0   4.0    4.0     38.0  40.0  \n",
       "313      2.0   2.0    1.0     22.0  55.0  \n",
       "315      1.0   2.0    3.0     40.0  55.0  \n",
       "320      2.0   2.0    5.0     23.0  65.0  \n",
       "352      3.0   3.0    3.0      NaN  40.0  \n",
       "390      5.0   4.0    4.0    212.0  45.0  \n",
       "\n",
       "[29 rows x 30 columns]"
      ]
     },
     "metadata": {},
     "execution_count": 1818
    }
   ],
   "metadata": {
    "scrolled": true
   }
  },
  {
   "cell_type": "markdown",
   "source": [
    "Согласно методу Дж.Тьюки мы получили достаточно много значений определяемых как выброс. В связи со смещением графика вправо(экспоненциальное распределение) принято решение определить выбросы используя внешнюю границу равную 3 межквартильным размахам. Данное решение позволит избежать удаления потенциально значимых наблюдений, так как пропуск занятий скорее всего сильно влияет на итоговую оценку по экзамену."
   ],
   "metadata": {}
  },
  {
   "cell_type": "code",
   "execution_count": 1819,
   "source": [
    "perc_25 = students['absences'].quantile(0.25)\n",
    "perc_75 = students['absences'].quantile(0.75)\n",
    "IQR = students['absences'].quantile(0.75) - students['absences'].quantile(0.25)\n",
    "\n",
    "out = students.loc[(~students['absences'].between(\n",
    "    perc_25 - 3*IQR, perc_75 + 3*IQR)) & (students['absences'].isna() == False)]"
   ],
   "outputs": [],
   "metadata": {
    "scrolled": true
   }
  },
  {
   "cell_type": "code",
   "execution_count": 1820,
   "source": [
    "students = students.drop(out.index, axis=0)"
   ],
   "outputs": [],
   "metadata": {}
  },
  {
   "cell_type": "markdown",
   "source": [
    "### Заполним пропуски в количественных признаках"
   ],
   "metadata": {}
  },
  {
   "cell_type": "markdown",
   "source": [
    "##### Количество пропущенных занятий"
   ],
   "metadata": {}
  },
  {
   "cell_type": "code",
   "execution_count": 1821,
   "source": [
    "students['absences'].hist();"
   ],
   "outputs": [
    {
     "output_type": "display_data",
     "data": {
      "image/png": "[encoded data removed]",
      "text/plain": [
       "<Figure size 432x288 with 1 Axes>"
      ]
     },
     "metadata": {
      "needs_background": "light"
     }
    }
   ],
   "metadata": {}
  },
  {
   "cell_type": "code",
   "execution_count": 1822,
   "source": [
    "students['absences'].isna().value_counts()"
   ],
   "outputs": [
    {
     "output_type": "execute_result",
     "data": {
      "text/plain": [
       "False    374\n",
       "True      12\n",
       "Name: absences, dtype: int64"
      ]
     },
     "metadata": {},
     "execution_count": 1822
    }
   ],
   "metadata": {}
  },
  {
   "cell_type": "markdown",
   "source": [
    "Так как распределение смещено вправо, для заполнения 12 пропущенных значений воспользуемся медианой"
   ],
   "metadata": {}
  },
  {
   "cell_type": "code",
   "execution_count": 1823,
   "source": [
    "students['absences'].fillna(students['absences'].median(), inplace=True)"
   ],
   "outputs": [],
   "metadata": {}
  },
  {
   "cell_type": "markdown",
   "source": [
    "##### Итоговая оценка"
   ],
   "metadata": {}
  },
  {
   "cell_type": "code",
   "execution_count": 1824,
   "source": [
    "students['score'].hist();"
   ],
   "outputs": [
    {
     "output_type": "display_data",
     "data": {
      "image/png": "[encoded data removed]",
      "text/plain": [
       "<Figure size 432x288 with 1 Axes>"
      ]
     },
     "metadata": {
      "needs_background": "light"
     }
    }
   ],
   "metadata": {}
  },
  {
   "cell_type": "code",
   "execution_count": 1825,
   "source": [
    "students['score'].isna().value_counts()"
   ],
   "outputs": [
    {
     "output_type": "execute_result",
     "data": {
      "text/plain": [
       "False    380\n",
       "True       6\n",
       "Name: score, dtype: int64"
      ]
     },
     "metadata": {},
     "execution_count": 1825
    }
   ],
   "metadata": {}
  },
  {
   "cell_type": "markdown",
   "source": [
    "Анализируя распределение итоговой оценки можно заметить, что большинство оценок распределено между 20 и 100 баллами. Отдельно выделяется группа людей набравших 0 баллов(возможно они не явились на экзамен). Так как признак является целевым заполнение средними значениями может ухудшить нашу модель. В связи с небольшим количеством пропусков (6), решено удалить наблюдения."
   ],
   "metadata": {}
  },
  {
   "cell_type": "code",
   "execution_count": 1826,
   "source": [
    "students.dropna(subset=['score'], inplace=True)"
   ],
   "outputs": [],
   "metadata": {}
  },
  {
   "cell_type": "markdown",
   "source": [
    "## 3) Распределение признака номинативных переменных, устранение выбросов, заполнение пропусков"
   ],
   "metadata": {}
  },
  {
   "cell_type": "markdown",
   "source": [
    " #### Школа, в которой учится ученик"
   ],
   "metadata": {}
  },
  {
   "cell_type": "code",
   "execution_count": 1827,
   "source": [
    "sns.boxplot(x=students[\"school\"], y='score', data=students)\n",
    "plt.title(\"Boxplot for school\")\n",
    "students['school'].value_counts(dropna=False)"
   ],
   "outputs": [
    {
     "output_type": "execute_result",
     "data": {
      "text/plain": [
       "GP    336\n",
       "MS     44\n",
       "Name: school, dtype: int64"
      ]
     },
     "metadata": {},
     "execution_count": 1827
    },
    {
     "output_type": "display_data",
     "data": {
      "image/png": "[encoded data removed]",
      "text/plain": [
       "<Figure size 432x288 with 1 Axes>"
      ]
     },
     "metadata": {
      "needs_background": "light"
     }
    }
   ],
   "metadata": {}
  },
  {
   "cell_type": "markdown",
   "source": [
    "Имеется 2 категории признака (наименование школы). Пропусков нет."
   ],
   "metadata": {}
  },
  {
   "cell_type": "markdown",
   "source": [
    " #### Пол ученика ('F' - женский, 'M' - мужской)"
   ],
   "metadata": {}
  },
  {
   "cell_type": "code",
   "execution_count": 1828,
   "source": [
    "sns.boxplot(x=students[\"sex\"], y='score', data=students)\n",
    "plt.title(\"Boxplot for sex\")\n",
    "students['sex'].value_counts(dropna=False)"
   ],
   "outputs": [
    {
     "output_type": "execute_result",
     "data": {
      "text/plain": [
       "F    198\n",
       "M    182\n",
       "Name: sex, dtype: int64"
      ]
     },
     "metadata": {},
     "execution_count": 1828
    },
    {
     "output_type": "display_data",
     "data": {
      "image/png": "[encoded data removed]",
      "text/plain": [
       "<Figure size 432x288 with 1 Axes>"
      ]
     },
     "metadata": {
      "needs_background": "light"
     }
    }
   ],
   "metadata": {}
  },
  {
   "cell_type": "markdown",
   "source": [
    "Имеется 2 категории признака (пол). Пропусков нет."
   ],
   "metadata": {}
  },
  {
   "cell_type": "markdown",
   "source": [
    "#### Адрес ученика ('U' - городской, 'R' - за городом)"
   ],
   "metadata": {}
  },
  {
   "cell_type": "code",
   "execution_count": 1829,
   "source": [
    "sns.boxplot(x=students[\"address\"], y='score', data=students)\n",
    "plt.title(\"Boxplot for sex\")\n",
    "students['address'].value_counts(dropna=False)"
   ],
   "outputs": [
    {
     "output_type": "execute_result",
     "data": {
      "text/plain": [
       "U      284\n",
       "R       81\n",
       "NaN     15\n",
       "Name: address, dtype: int64"
      ]
     },
     "metadata": {},
     "execution_count": 1829
    },
    {
     "output_type": "display_data",
     "data": {
      "image/png": "[encoded data removed]",
      "text/plain": [
       "<Figure size 432x288 with 1 Axes>"
      ]
     },
     "metadata": {
      "needs_background": "light"
     }
    }
   ],
   "metadata": {}
  },
  {
   "cell_type": "markdown",
   "source": [
    "Имеется 2 категории признака. 15 Пропусков. Посмотрим на распределение признака в зависимости от школы и времени в пути. "
   ],
   "metadata": {}
  },
  {
   "cell_type": "code",
   "execution_count": 1830,
   "source": [
    "students.groupby(['school', 'traveltime'])['address'].describe()"
   ],
   "outputs": [
    {
     "output_type": "execute_result",
     "data": {
      "text/html": [
       "<div>\n",
       "<style scoped>\n",
       "    .dataframe tbody tr th:only-of-type {\n",
       "        vertical-align: middle;\n",
       "    }\n",
       "\n",
       "    .dataframe tbody tr th {\n",
       "        vertical-align: top;\n",
       "    }\n",
       "\n",
       "    .dataframe thead th {\n",
       "        text-align: right;\n",
       "    }\n",
       "</style>\n",
       "<table border=\"1\" class=\"dataframe\">\n",
       "  <thead>\n",
       "    <tr style=\"text-align: right;\">\n",
       "      <th></th>\n",
       "      <th></th>\n",
       "      <th>count</th>\n",
       "      <th>unique</th>\n",
       "      <th>top</th>\n",
       "      <th>freq</th>\n",
       "    </tr>\n",
       "    <tr>\n",
       "      <th>school</th>\n",
       "      <th>traveltime</th>\n",
       "      <th></th>\n",
       "      <th></th>\n",
       "      <th></th>\n",
       "      <th></th>\n",
       "    </tr>\n",
       "  </thead>\n",
       "  <tbody>\n",
       "    <tr>\n",
       "      <th rowspan=\"4\" valign=\"top\">GP</th>\n",
       "      <th>1.0</th>\n",
       "      <td>214</td>\n",
       "      <td>2</td>\n",
       "      <td>U</td>\n",
       "      <td>186</td>\n",
       "    </tr>\n",
       "    <tr>\n",
       "      <th>2.0</th>\n",
       "      <td>70</td>\n",
       "      <td>2</td>\n",
       "      <td>U</td>\n",
       "      <td>53</td>\n",
       "    </tr>\n",
       "    <tr>\n",
       "      <th>3.0</th>\n",
       "      <td>14</td>\n",
       "      <td>2</td>\n",
       "      <td>U</td>\n",
       "      <td>9</td>\n",
       "    </tr>\n",
       "    <tr>\n",
       "      <th>4.0</th>\n",
       "      <td>6</td>\n",
       "      <td>2</td>\n",
       "      <td>U</td>\n",
       "      <td>3</td>\n",
       "    </tr>\n",
       "    <tr>\n",
       "      <th rowspan=\"4\" valign=\"top\">MS</th>\n",
       "      <th>1.0</th>\n",
       "      <td>12</td>\n",
       "      <td>2</td>\n",
       "      <td>U</td>\n",
       "      <td>7</td>\n",
       "    </tr>\n",
       "    <tr>\n",
       "      <th>2.0</th>\n",
       "      <td>17</td>\n",
       "      <td>2</td>\n",
       "      <td>U</td>\n",
       "      <td>9</td>\n",
       "    </tr>\n",
       "    <tr>\n",
       "      <th>3.0</th>\n",
       "      <td>7</td>\n",
       "      <td>1</td>\n",
       "      <td>R</td>\n",
       "      <td>7</td>\n",
       "    </tr>\n",
       "    <tr>\n",
       "      <th>4.0</th>\n",
       "      <td>1</td>\n",
       "      <td>1</td>\n",
       "      <td>R</td>\n",
       "      <td>1</td>\n",
       "    </tr>\n",
       "  </tbody>\n",
       "</table>\n",
       "</div>"
      ],
      "text/plain": [
       "                  count unique top freq\n",
       "school traveltime                      \n",
       "GP     1.0          214      2   U  186\n",
       "       2.0           70      2   U   53\n",
       "       3.0           14      2   U    9\n",
       "       4.0            6      2   U    3\n",
       "MS     1.0           12      2   U    7\n",
       "       2.0           17      2   U    9\n",
       "       3.0            7      1   R    7\n",
       "       4.0            1      1   R    1"
      ]
     },
     "metadata": {},
     "execution_count": 1830
    }
   ],
   "metadata": {}
  },
  {
   "cell_type": "code",
   "execution_count": 1831,
   "source": [
    "students[(students['school'] == 'MS') & (\n",
    "    students['traveltime'] > 2)]['address'].value_counts()"
   ],
   "outputs": [
    {
     "output_type": "execute_result",
     "data": {
      "text/plain": [
       "R    8\n",
       "Name: address, dtype: int64"
      ]
     },
     "metadata": {},
     "execution_count": 1831
    }
   ],
   "metadata": {}
  },
  {
   "cell_type": "code",
   "execution_count": 1832,
   "source": [
    "students[(students['school'] == 'GP') & (\n",
    "    students['traveltime'] > 2)]['address'].value_counts()"
   ],
   "outputs": [
    {
     "output_type": "execute_result",
     "data": {
      "text/plain": [
       "U    12\n",
       "R     8\n",
       "Name: address, dtype: int64"
      ]
     },
     "metadata": {},
     "execution_count": 1832
    }
   ],
   "metadata": {}
  },
  {
   "cell_type": "markdown",
   "source": [
    "Проанализировав можно сделать выводы что большинство учеников имеют городской адрес (U), за исключением тех кто добирается до школы больше чем 2 часа, заполним пропуски на основании этого вывода."
   ],
   "metadata": {}
  },
  {
   "cell_type": "code",
   "execution_count": 1833,
   "source": [
    "students['address'] = students.apply(lambda x: ('R' if x['traveltime'] > 2 else 'U')\n",
    "                                     if pd.isna(x['address']) else x['address'], axis=1)"
   ],
   "outputs": [],
   "metadata": {}
  },
  {
   "cell_type": "markdown",
   "source": [
    "#### Размер семьи('LE3' <= 3, 'GT3' >3)"
   ],
   "metadata": {}
  },
  {
   "cell_type": "code",
   "execution_count": 1834,
   "source": [
    "sns.boxplot(x=students[\"famsize\"], y='score', data=students)\n",
    "plt.title(\"Boxplot for famsize\")\n",
    "students['famsize'].value_counts(dropna=False)"
   ],
   "outputs": [
    {
     "output_type": "execute_result",
     "data": {
      "text/plain": [
       "GT3    248\n",
       "LE3    105\n",
       "NaN     27\n",
       "Name: famsize, dtype: int64"
      ]
     },
     "metadata": {},
     "execution_count": 1834
    },
    {
     "output_type": "display_data",
     "data": {
      "image/png": "[encoded data removed]",
      "text/plain": [
       "<Figure size 432x288 with 1 Axes>"
      ]
     },
     "metadata": {
      "needs_background": "light"
     }
    }
   ],
   "metadata": {}
  },
  {
   "cell_type": "markdown",
   "source": [
    "Имеется 2 категории признака (состав семье более 3 и менее). Имеется 27 пропусков"
   ],
   "metadata": {}
  },
  {
   "cell_type": "code",
   "execution_count": 1835,
   "source": [
    "students.groupby('p_status')['famsize'].value_counts(normalize=True)"
   ],
   "outputs": [
    {
     "output_type": "execute_result",
     "data": {
      "text/plain": [
       "p_status  famsize\n",
       "A         GT3        0.612903\n",
       "          LE3        0.387097\n",
       "T         GT3        0.715789\n",
       "          LE3        0.284211\n",
       "Name: famsize, dtype: float64"
      ]
     },
     "metadata": {},
     "execution_count": 1835
    }
   ],
   "metadata": {}
  },
  {
   "cell_type": "markdown",
   "source": [
    "Большинство семей имеет состав более 3 человек, доплнительным фактором является признак живут ли родители вместе. Заменим пропуски в зависимости от факта совместного проживания родителей."
   ],
   "metadata": {}
  },
  {
   "cell_type": "code",
   "execution_count": 1836,
   "source": [
    "students['famsize'].value_counts()"
   ],
   "outputs": [
    {
     "output_type": "execute_result",
     "data": {
      "text/plain": [
       "GT3    248\n",
       "LE3    105\n",
       "Name: famsize, dtype: int64"
      ]
     },
     "metadata": {},
     "execution_count": 1836
    }
   ],
   "metadata": {}
  },
  {
   "cell_type": "code",
   "execution_count": 1837,
   "source": [
    "students['famsize'] = students.apply(lambda x: ('GT3' if x['p_status'] == 'T' else 'LE3')\n",
    "                                     if pd.isna(x['famsize']) else x['famsize'], axis=1)"
   ],
   "outputs": [],
   "metadata": {}
  },
  {
   "cell_type": "markdown",
   "source": [
    "#### Cтатус совместного жилья родителей ('T' - живут вместе 'A' - раздельно)"
   ],
   "metadata": {}
  },
  {
   "cell_type": "code",
   "execution_count": 1838,
   "source": [
    "sns.boxplot(x=students[\"p_status\"], y='score', data=students)\n",
    "plt.title(\"Boxplot for p_status\")\n",
    "students['p_status'].value_counts(dropna=False)"
   ],
   "outputs": [
    {
     "output_type": "execute_result",
     "data": {
      "text/plain": [
       "T      305\n",
       "NaN     41\n",
       "A       34\n",
       "Name: p_status, dtype: int64"
      ]
     },
     "metadata": {},
     "execution_count": 1838
    },
    {
     "output_type": "display_data",
     "data": {
      "image/png": "[encoded data removed]",
      "text/plain": [
       "<Figure size 432x288 with 1 Axes>"
      ]
     },
     "metadata": {
      "needs_background": "light"
     }
    }
   ],
   "metadata": {}
  },
  {
   "cell_type": "markdown",
   "source": [
    "Имеется 2 категории признака (живут вместе или раздельно). Имеется 41 пропусков."
   ],
   "metadata": {}
  },
  {
   "cell_type": "code",
   "execution_count": 1839,
   "source": [
    "students.groupby('famsize')[\"p_status\"].value_counts(normalize=True)"
   ],
   "outputs": [
    {
     "output_type": "execute_result",
     "data": {
      "text/plain": [
       "famsize  p_status\n",
       "GT3      T           0.921811\n",
       "         A           0.078189\n",
       "LE3      T           0.843750\n",
       "         A           0.156250\n",
       "Name: p_status, dtype: float64"
      ]
     },
     "metadata": {},
     "execution_count": 1839
    }
   ],
   "metadata": {}
  },
  {
   "cell_type": "markdown",
   "source": [
    "Заменим пропуски на основании количества состава семьи >3: родители живут вместе, <3: раздельно"
   ],
   "metadata": {}
  },
  {
   "cell_type": "code",
   "execution_count": 1840,
   "source": [
    "students['p_status'] = students.apply(lambda x: ('T' if x['famsize'] == 'GT3' else 'A')\n",
    "                                      if pd.isna(x['p_status']) else x['p_status'], axis=1)"
   ],
   "outputs": [],
   "metadata": {}
  },
  {
   "cell_type": "markdown",
   "source": [
    "#### Образование матери (0 - нет, 1 - 4 класса, 2 - 5-9 классы, 3 - среднее специальное или 11 классов, 4 - высшее)\n",
    "\n",
    "\n"
   ],
   "metadata": {}
  },
  {
   "cell_type": "code",
   "execution_count": 1841,
   "source": [
    "sns.boxplot(x=students[\"m_edu\"], y='score', data=students)\n",
    "plt.title(\"Boxplot for m_edu\")\n",
    "students['m_edu'].value_counts(dropna=False)"
   ],
   "outputs": [
    {
     "output_type": "execute_result",
     "data": {
      "text/plain": [
       "4.0    130\n",
       "2.0     96\n",
       "3.0     92\n",
       "1.0     56\n",
       "NaN      3\n",
       "0.0      3\n",
       "Name: m_edu, dtype: int64"
      ]
     },
     "metadata": {},
     "execution_count": 1841
    },
    {
     "output_type": "display_data",
     "data": {
      "image/png": "[encoded data removed]",
      "text/plain": [
       "<Figure size 432x288 with 1 Axes>"
      ]
     },
     "metadata": {
      "needs_background": "light"
     }
    }
   ],
   "metadata": {}
  },
  {
   "cell_type": "markdown",
   "source": [
    "Имеется 5 категорий признака. Имеется 3 пропускa."
   ],
   "metadata": {}
  },
  {
   "cell_type": "code",
   "execution_count": 1842,
   "source": [
    "students['m_edu'].describe()"
   ],
   "outputs": [
    {
     "output_type": "execute_result",
     "data": {
      "text/plain": [
       "count    377.000000\n",
       "mean       2.769231\n",
       "std        1.102371\n",
       "min        0.000000\n",
       "25%        2.000000\n",
       "50%        3.000000\n",
       "75%        4.000000\n",
       "max        4.000000\n",
       "Name: m_edu, dtype: float64"
      ]
     },
     "metadata": {},
     "execution_count": 1842
    }
   ],
   "metadata": {}
  },
  {
   "cell_type": "markdown",
   "source": [
    "Заменим пропуски на среднее значение равное 3"
   ],
   "metadata": {}
  },
  {
   "cell_type": "code",
   "execution_count": 1843,
   "source": [
    "students['m_edu'].fillna(3, inplace=True)"
   ],
   "outputs": [],
   "metadata": {}
  },
  {
   "cell_type": "markdown",
   "source": [
    "#### Образование отца (0 - нет, 1 - 4 класса, 2 - 5-9 классы, 3 - среднее специальное или 11 классов, 4 - высшее)\n",
    "\n",
    "\n",
    "\n"
   ],
   "metadata": {}
  },
  {
   "cell_type": "code",
   "execution_count": 1844,
   "source": [
    "sns.boxplot(x=students[\"f_edu\"], y='score', data=students)\n",
    "plt.title(\"Boxplot for f_edu\")\n",
    "students['f_edu'].value_counts(dropna=False)"
   ],
   "outputs": [
    {
     "output_type": "execute_result",
     "data": {
      "text/plain": [
       "2.0     102\n",
       "3.0      90\n",
       "4.0      87\n",
       "1.0      74\n",
       "NaN      24\n",
       "0.0       2\n",
       "40.0      1\n",
       "Name: f_edu, dtype: int64"
      ]
     },
     "metadata": {},
     "execution_count": 1844
    },
    {
     "output_type": "display_data",
     "data": {
      "image/png": "[encoded data removed]",
      "text/plain": [
       "<Figure size 432x288 with 1 Axes>"
      ]
     },
     "metadata": {
      "needs_background": "light"
     }
    }
   ],
   "metadata": {}
  },
  {
   "cell_type": "markdown",
   "source": [
    "Имеется 5 категорий признака. Имеется 1 выброс равный 40. Имеется 24 пропуска. Будем считать что выброс является опечаткой и заменим его на значение 4. "
   ],
   "metadata": {}
  },
  {
   "cell_type": "code",
   "execution_count": 1845,
   "source": [
    "students.loc[students['f_edu'] == 40, [\"f_edu\"]] = 4\n",
    "students['f_edu'].describe()"
   ],
   "outputs": [
    {
     "output_type": "execute_result",
     "data": {
      "text/plain": [
       "count    356.000000\n",
       "mean       2.528090\n",
       "std        1.093797\n",
       "min        0.000000\n",
       "25%        2.000000\n",
       "50%        2.500000\n",
       "75%        3.000000\n",
       "max        4.000000\n",
       "Name: f_edu, dtype: float64"
      ]
     },
     "metadata": {},
     "execution_count": 1845
    }
   ],
   "metadata": {}
  },
  {
   "cell_type": "code",
   "execution_count": 1846,
   "source": [
    "students.groupby('f_job')['f_edu'].value_counts()"
   ],
   "outputs": [
    {
     "output_type": "execute_result",
     "data": {
      "text/plain": [
       "f_job     f_edu\n",
       "at_home   2.0       6\n",
       "          1.0       3\n",
       "          3.0       3\n",
       "          4.0       2\n",
       "health    4.0       8\n",
       "          3.0       3\n",
       "          1.0       1\n",
       "          2.0       1\n",
       "other     2.0      57\n",
       "          3.0      48\n",
       "          1.0      46\n",
       "          4.0      31\n",
       "          0.0       2\n",
       "services  3.0      29\n",
       "          2.0      24\n",
       "          1.0      18\n",
       "          4.0      16\n",
       "teacher   4.0      25\n",
       "Name: f_edu, dtype: int64"
      ]
     },
     "metadata": {},
     "execution_count": 1846
    }
   ],
   "metadata": {}
  },
  {
   "cell_type": "markdown",
   "source": [
    "Пропуски заменим средними значениями равными 2, за исключением людей которые работают учителем и сфере здравоохранения, для них уровень образования 4"
   ],
   "metadata": {}
  },
  {
   "cell_type": "code",
   "execution_count": 1847,
   "source": [
    "students['f_edu'] = students.apply(lambda x: (4 if x['f_job'] in ['teacher', 'health'] else 2)\n",
    "                                   if pd.isna(x['f_edu']) else x['f_edu'], axis=1)"
   ],
   "outputs": [],
   "metadata": {}
  },
  {
   "cell_type": "markdown",
   "source": [
    "#### Работа матери ('teacher' - учитель, 'health' - сфера здравоохранения, 'services' - гос служба, 'at_home' - не работает, 'other' - другое)"
   ],
   "metadata": {}
  },
  {
   "cell_type": "code",
   "execution_count": 1848,
   "source": [
    "sns.boxplot(x=students[\"m_job\"], y='score', data=students)\n",
    "plt.title(\"Boxplot for m_job\")\n",
    "students['m_job'].value_counts(dropna=False)"
   ],
   "outputs": [
    {
     "output_type": "execute_result",
     "data": {
      "text/plain": [
       "other       123\n",
       "services     95\n",
       "at_home      57\n",
       "teacher      54\n",
       "health       32\n",
       "NaN          19\n",
       "Name: m_job, dtype: int64"
      ]
     },
     "metadata": {},
     "execution_count": 1848
    },
    {
     "output_type": "display_data",
     "data": {
      "image/png": "[encoded data removed]",
      "text/plain": [
       "<Figure size 432x288 with 1 Axes>"
      ]
     },
     "metadata": {
      "needs_background": "light"
     }
    }
   ],
   "metadata": {}
  },
  {
   "cell_type": "markdown",
   "source": [
    "Выбросы отсутствуют. 19 пропусков. Заменим пропуски на наиболее часто встречающююся категорию 'other'"
   ],
   "metadata": {}
  },
  {
   "cell_type": "code",
   "execution_count": 1739,
   "source": [
    "students['m_job'].fillna('other', inplace=True)"
   ],
   "outputs": [],
   "metadata": {}
  },
  {
   "cell_type": "markdown",
   "source": [
    "#### Работа отца ('teacher' - учитель, 'health' - сфера здравоохранения, 'services' - гос служба, 'at_home' - не работает, 'other' - другое)"
   ],
   "metadata": {}
  },
  {
   "cell_type": "code",
   "execution_count": 1740,
   "source": [
    "sns.boxplot(x=students[\"f_job\"], y='score', data=students)\n",
    "plt.title(\"Boxplot for f_job\")\n",
    "students['f_job'].value_counts(dropna=False)"
   ],
   "outputs": [
    {
     "output_type": "execute_result",
     "data": {
      "text/plain": [
       "other       191\n",
       "services     95\n",
       "NaN          35\n",
       "teacher      28\n",
       "at_home      16\n",
       "health       15\n",
       "Name: f_job, dtype: int64"
      ]
     },
     "metadata": {},
     "execution_count": 1740
    },
    {
     "output_type": "display_data",
     "data": {
      "image/png": "[encoded data removed]",
      "text/plain": [
       "<Figure size 432x288 with 1 Axes>"
      ]
     },
     "metadata": {
      "needs_background": "light"
     }
    }
   ],
   "metadata": {}
  },
  {
   "cell_type": "markdown",
   "source": [
    "Выбросы отсутствуют. 35 пропусков. Заменим пропуски на наиболее часто встречающююся категорию 'other'"
   ],
   "metadata": {}
  },
  {
   "cell_type": "code",
   "execution_count": 1741,
   "source": [
    "students['f_job'].fillna('other', inplace=True)"
   ],
   "outputs": [],
   "metadata": {}
  },
  {
   "cell_type": "markdown",
   "source": [
    "#### Причина выбора школы ('home' - близость к дому, 'reputation' - репутация школы, 'course' - образовательная программа, 'other' - другое)"
   ],
   "metadata": {}
  },
  {
   "cell_type": "code",
   "execution_count": 1742,
   "source": [
    "sns.boxplot(x=students[\"reason\"], y='score', data=students)\n",
    "plt.title(\"Boxplot for reason\")\n",
    "students['reason'].value_counts(dropna=False)"
   ],
   "outputs": [
    {
     "output_type": "execute_result",
     "data": {
      "text/plain": [
       "course        134\n",
       "home           99\n",
       "reputation     99\n",
       "other          32\n",
       "NaN            16\n",
       "Name: reason, dtype: int64"
      ]
     },
     "metadata": {},
     "execution_count": 1742
    },
    {
     "output_type": "display_data",
     "data": {
      "image/png": "[encoded data removed]",
      "text/plain": [
       "<Figure size 432x288 with 1 Axes>"
      ]
     },
     "metadata": {
      "needs_background": "light"
     }
    }
   ],
   "metadata": {}
  },
  {
   "cell_type": "markdown",
   "source": [
    "Признак категориальный. Выбросов нет, имеется 16 пропусков. Истиную причину выбора школы установить сложно, заменим пропуски на 'other', кроме школьников у которых категориальный признак 'travel_time'(время в пути)  равняется 1, для них причина выбора школы будет являться ее близость к дому"
   ],
   "metadata": {}
  },
  {
   "cell_type": "code",
   "execution_count": 1743,
   "source": [
    "students['reason'] = students.apply(lambda x: ('home' if x['traveltime'] == 1 else 'other')\n",
    "                                    if pd.isna(x['reason']) else x['reason'], axis=1)"
   ],
   "outputs": [],
   "metadata": {}
  },
  {
   "cell_type": "code",
   "execution_count": 1744,
   "source": [
    "students['reason'].value_counts(dropna=False)"
   ],
   "outputs": [
    {
     "output_type": "execute_result",
     "data": {
      "text/plain": [
       "course        134\n",
       "home          112\n",
       "reputation     99\n",
       "other          35\n",
       "Name: reason, dtype: int64"
      ]
     },
     "metadata": {},
     "execution_count": 1744
    }
   ],
   "metadata": {}
  },
  {
   "cell_type": "markdown",
   "source": [
    "#### Опекун ('mother' - мать, 'father' - отец, 'other' - другое)"
   ],
   "metadata": {}
  },
  {
   "cell_type": "code",
   "execution_count": 1745,
   "source": [
    "sns.boxplot(x=students[\"guardian\"], y='score', data=students)\n",
    "plt.title(\"Boxplot for guardian\")\n",
    "students['guardian'].value_counts(dropna=False)"
   ],
   "outputs": [
    {
     "output_type": "execute_result",
     "data": {
      "text/plain": [
       "mother    242\n",
       "father     86\n",
       "NaN        30\n",
       "other      22\n",
       "Name: guardian, dtype: int64"
      ]
     },
     "metadata": {},
     "execution_count": 1745
    },
    {
     "output_type": "display_data",
     "data": {
      "image/png": "[encoded data removed]",
      "text/plain": [
       "<Figure size 432x288 with 1 Axes>"
      ]
     },
     "metadata": {
      "needs_background": "light"
     }
    }
   ],
   "metadata": {}
  },
  {
   "cell_type": "markdown",
   "source": [
    "Заменим пропуски на значение 'mother' так как мать чаще всего является опекуном"
   ],
   "metadata": {}
  },
  {
   "cell_type": "code",
   "execution_count": 1746,
   "source": [
    "students['guardian'].fillna('mother', inplace=True)"
   ],
   "outputs": [],
   "metadata": {}
  },
  {
   "cell_type": "markdown",
   "source": [
    "#### Время в пути до школы (1 - <15 мин., 2 - 15-30 мин., 3 - 30-60 мин., 4 - >60 мин.)"
   ],
   "metadata": {}
  },
  {
   "cell_type": "code",
   "execution_count": 1747,
   "source": [
    "sns.boxplot(x=students[\"traveltime\"], y='score', data=students)\n",
    "plt.title(\"Boxplot for traveltime\")\n",
    "students['traveltime'].value_counts(dropna=False)"
   ],
   "outputs": [
    {
     "output_type": "execute_result",
     "data": {
      "text/plain": [
       "1.0    233\n",
       "2.0     92\n",
       "NaN     27\n",
       "3.0     21\n",
       "4.0      7\n",
       "Name: traveltime, dtype: int64"
      ]
     },
     "metadata": {},
     "execution_count": 1747
    },
    {
     "output_type": "display_data",
     "data": {
      "image/png": "[encoded data removed]",
      "text/plain": [
       "<Figure size 432x288 with 1 Axes>"
      ]
     },
     "metadata": {
      "needs_background": "light"
     }
    }
   ],
   "metadata": {}
  },
  {
   "cell_type": "markdown",
   "source": [
    "Признак категориальный, выбросов нет. Имеется 27 пропусков, заменим пропуски на 1 если школьник живет в городе и на 2 если за городом"
   ],
   "metadata": {}
  },
  {
   "cell_type": "code",
   "execution_count": 1748,
   "source": [
    "students['traveltime'] = students.apply(lambda x: (1 if x['address'] == 'U' else 2)\n",
    "                                        if pd.isna(x['traveltime']) else x['traveltime'], axis=1)"
   ],
   "outputs": [],
   "metadata": {}
  },
  {
   "cell_type": "markdown",
   "source": [
    "#### Время на учёбу помимо школы в неделю (1 - <2 часов, 2 - 2-5 часов, 3 - 5-10 часов, 4 - >10 часов)"
   ],
   "metadata": {}
  },
  {
   "cell_type": "code",
   "execution_count": 1749,
   "source": [
    "sns.boxplot(x=students[\"studytime\"], y='score', data=students)\n",
    "plt.title(\"Boxplot for studytime\")\n",
    "students['studytime'].value_counts(dropna=False)"
   ],
   "outputs": [
    {
     "output_type": "execute_result",
     "data": {
      "text/plain": [
       "2.0    184\n",
       "1.0    102\n",
       "3.0     62\n",
       "4.0     27\n",
       "NaN      5\n",
       "Name: studytime, dtype: int64"
      ]
     },
     "metadata": {},
     "execution_count": 1749
    },
    {
     "output_type": "display_data",
     "data": {
      "image/png": "[encoded data removed]",
      "text/plain": [
       "<Figure size 432x288 with 1 Axes>"
      ]
     },
     "metadata": {
      "needs_background": "light"
     }
    }
   ],
   "metadata": {}
  },
  {
   "cell_type": "markdown",
   "source": [
    "Признак категориальный, выбросы отсутствуют. Имеется 5 пропусков. Заменим пропуски на 2(наиболее часто встречающееся)"
   ],
   "metadata": {}
  },
  {
   "cell_type": "code",
   "execution_count": 1750,
   "source": [
    "students['studytime'].fillna(2, inplace=True)"
   ],
   "outputs": [],
   "metadata": {}
  },
  {
   "cell_type": "markdown",
   "source": [
    "#### Количество внеучебных неудач (n, если 1<=n<=3, иначе 0)"
   ],
   "metadata": {}
  },
  {
   "cell_type": "code",
   "execution_count": 1751,
   "source": [
    "sns.boxplot(x=students[\"failures\"], y='score', data=students)\n",
    "plt.title(\"Boxplot for failures\")\n",
    "students['failures'].value_counts(dropna=False)"
   ],
   "outputs": [
    {
     "output_type": "execute_result",
     "data": {
      "text/plain": [
       "0.0    285\n",
       "1.0     45\n",
       "NaN     22\n",
       "3.0     14\n",
       "2.0     14\n",
       "Name: failures, dtype: int64"
      ]
     },
     "metadata": {},
     "execution_count": 1751
    },
    {
     "output_type": "display_data",
     "data": {
      "image/png": "[encoded data removed]",
      "text/plain": [
       "<Figure size 432x288 with 1 Axes>"
      ]
     },
     "metadata": {
      "needs_background": "light"
     }
    }
   ],
   "metadata": {}
  },
  {
   "cell_type": "markdown",
   "source": [
    "Признак категориальный, выбросов нет. 22 пропуска заменим на 0(наиболее часто встречающееся)"
   ],
   "metadata": {}
  },
  {
   "cell_type": "code",
   "execution_count": 1752,
   "source": [
    "students['failures'].fillna(0, inplace=True)"
   ],
   "outputs": [],
   "metadata": {}
  },
  {
   "cell_type": "markdown",
   "source": [
    "#### Дополнительная образовательная поддержка (yes или no)"
   ],
   "metadata": {}
  },
  {
   "cell_type": "code",
   "execution_count": 1753,
   "source": [
    "sns.boxplot(x=students[\"schoolsup\"], y='score', data=students)\n",
    "plt.title(\"Boxplot for schoolsup\")\n",
    "students['schoolsup'].value_counts(dropna=False)"
   ],
   "outputs": [
    {
     "output_type": "execute_result",
     "data": {
      "text/plain": [
       "no     325\n",
       "yes     46\n",
       "NaN      9\n",
       "Name: schoolsup, dtype: int64"
      ]
     },
     "metadata": {},
     "execution_count": 1753
    },
    {
     "output_type": "display_data",
     "data": {
      "image/png": "[encoded data removed]",
      "text/plain": [
       "<Figure size 432x288 with 1 Axes>"
      ]
     },
     "metadata": {
      "needs_background": "light"
     }
    }
   ],
   "metadata": {}
  },
  {
   "cell_type": "markdown",
   "source": [
    "Выбросов нет, 9 пропусков заменим на 'no'(наиболее часто встречающееся)"
   ],
   "metadata": {}
  },
  {
   "cell_type": "code",
   "execution_count": 1754,
   "source": [
    "students['schoolsup'].fillna('no', inplace=True)"
   ],
   "outputs": [],
   "metadata": {}
  },
  {
   "cell_type": "markdown",
   "source": [
    "#### Cемейная образовательная поддержка (yes или no)"
   ],
   "metadata": {}
  },
  {
   "cell_type": "code",
   "execution_count": 1755,
   "source": [
    "sns.boxplot(x=students[\"famsup\"], y='score', data=students)\n",
    "plt.title(\"Boxplot for famsup\")\n",
    "students['famsup'].value_counts(dropna=False)"
   ],
   "outputs": [
    {
     "output_type": "execute_result",
     "data": {
      "text/plain": [
       "yes    212\n",
       "no     132\n",
       "NaN     36\n",
       "Name: famsup, dtype: int64"
      ]
     },
     "metadata": {},
     "execution_count": 1755
    },
    {
     "output_type": "display_data",
     "data": {
      "image/png": "[encoded data removed]",
      "text/plain": [
       "<Figure size 432x288 with 1 Axes>"
      ]
     },
     "metadata": {
      "needs_background": "light"
     }
    }
   ],
   "metadata": {}
  },
  {
   "cell_type": "markdown",
   "source": [
    "Выбросы отсутствуют, имеется 36 пропусков. Посмотрим наличие поддержки дома в зависимости от образования родителей"
   ],
   "metadata": {}
  },
  {
   "cell_type": "code",
   "execution_count": 1756,
   "source": [
    "plt.figure(figsize=(14, 13))\n",
    "plt.subplot(321)\n",
    "sns.countplot(x='f_edu', data=students, hue='famsup')\n",
    "plt.title('Поддержка дома в зависимости от образования отца')\n",
    "plt.subplot(322)\n",
    "sns.countplot(x='m_edu', data=students, hue='famsup')\n",
    "plt.title('Поддержка дома в зависимости от образования матери');"
   ],
   "outputs": [
    {
     "output_type": "display_data",
     "data": {
      "image/png": "[encoded data removed]",
      "text/plain": [
       "<Figure size 1008x936 with 2 Axes>"
      ]
     },
     "metadata": {
      "needs_background": "light"
     }
    }
   ],
   "metadata": {}
  },
  {
   "cell_type": "markdown",
   "source": [
    "Можно сделать вывод что помощь чаще оказывается чем не оказывается, начиная с уровня образования родителей(отца или матери) равного 2. Заменим пропуски исходя из этого наблюдения"
   ],
   "metadata": {}
  },
  {
   "cell_type": "code",
   "execution_count": 1757,
   "source": [
    "students['famsup'] = students.apply(lambda x: ('yes' if (x['f_edu'] >= 2) or (x['m_edu'] >= 2) else 'no')\n",
    "                                    if pd.isna(x['famsup']) else x['famsup'], axis=1)"
   ],
   "outputs": [],
   "metadata": {}
  },
  {
   "cell_type": "markdown",
   "source": [
    "#### Дополнительные платные занятия по математике (yes или no)"
   ],
   "metadata": {}
  },
  {
   "cell_type": "code",
   "execution_count": 1758,
   "source": [
    "sns.boxplot(x=students[\"paid\"], y='score', data=students)\n",
    "plt.title(\"Boxplot for paid\")\n",
    "students['paid'].value_counts(dropna=False)"
   ],
   "outputs": [
    {
     "output_type": "execute_result",
     "data": {
      "text/plain": [
       "no     192\n",
       "yes    149\n",
       "NaN     39\n",
       "Name: paid, dtype: int64"
      ]
     },
     "metadata": {},
     "execution_count": 1758
    },
    {
     "output_type": "display_data",
     "data": {
      "image/png": "[encoded data removed]",
      "text/plain": [
       "<Figure size 432x288 with 1 Axes>"
      ]
     },
     "metadata": {
      "needs_background": "light"
     }
    }
   ],
   "metadata": {}
  },
  {
   "cell_type": "markdown",
   "source": [
    "Выбросы отсутствуют, имеется 39 пропусков. Достаточно трудно определить принадлженость к одному из классов. Посмотрим сколько времени тратит школьник на учебу, хочет ли получить высшее образование и посещает ли при этом курсы"
   ],
   "metadata": {}
  },
  {
   "cell_type": "code",
   "execution_count": 1759,
   "source": [
    "plt.figure(figsize=(14, 13))\n",
    "plt.subplot(321)\n",
    "sns.countplot(x='higher', data=students, hue='paid')\n",
    "plt.title('Желание получить высшее образование')\n",
    "plt.subplot(322)\n",
    "sns.countplot(x='studytime', data=students, hue='paid')\n",
    "plt.title('Время на обучение');"
   ],
   "outputs": [
    {
     "output_type": "display_data",
     "data": {
      "image/png": "[encoded data removed]",
      "text/plain": [
       "<Figure size 1008x936 with 2 Axes>"
      ]
     },
     "metadata": {
      "needs_background": "light"
     }
    }
   ],
   "metadata": {}
  },
  {
   "cell_type": "markdown",
   "source": [
    "Можно сделать вывод, что если школьник мало тратит время на учебу и не хочет получать высшее образование, то скорее всего он не ходит на курсы. Заполним пропуски исходя из этого наблюдения"
   ],
   "metadata": {}
  },
  {
   "cell_type": "code",
   "execution_count": 1760,
   "source": [
    "students['paid'] = students.apply(lambda x: ('no' if (x['studytime'] == 1) or (x['higher'] == 'no') else 'yes')\n",
    "                                  if pd.isna(x['paid']) else x['paid'], axis=1)"
   ],
   "outputs": [],
   "metadata": {}
  },
  {
   "cell_type": "markdown",
   "source": [
    "#### Дополнительные внеучебные занятия (yes или no)"
   ],
   "metadata": {}
  },
  {
   "cell_type": "code",
   "execution_count": 1761,
   "source": [
    "sns.boxplot(x=students[\"activities\"], y='score', data=students)\n",
    "plt.title(\"Boxplot for activities\")\n",
    "students['activities'].value_counts(dropna=False)"
   ],
   "outputs": [
    {
     "output_type": "execute_result",
     "data": {
      "text/plain": [
       "yes    188\n",
       "no     178\n",
       "NaN     14\n",
       "Name: activities, dtype: int64"
      ]
     },
     "metadata": {},
     "execution_count": 1761
    },
    {
     "output_type": "display_data",
     "data": {
      "image/png": "[encoded data removed]",
      "text/plain": [
       "<Figure size 432x288 with 1 Axes>"
      ]
     },
     "metadata": {
      "needs_background": "light"
     }
    }
   ],
   "metadata": {}
  },
  {
   "cell_type": "markdown",
   "source": [
    "Выбосов нет, 14 пропусков. Распределение примерно одинаковое, заполним пропуски случайным образом"
   ],
   "metadata": {}
  },
  {
   "cell_type": "code",
   "execution_count": 1762,
   "source": [
    "students['activities'].fillna(random.choice(['yes', 'no']), inplace=True)"
   ],
   "outputs": [],
   "metadata": {}
  },
  {
   "cell_type": "markdown",
   "source": [
    "#### Посещал детский сад (yes или no)"
   ],
   "metadata": {}
  },
  {
   "cell_type": "code",
   "execution_count": 1763,
   "source": [
    "sns.boxplot(x=students[\"nursery\"], y='score', data=students)\n",
    "plt.title(\"Boxplot for nursery\")\n",
    "students['nursery'].value_counts(dropna=False)"
   ],
   "outputs": [
    {
     "output_type": "execute_result",
     "data": {
      "text/plain": [
       "yes    289\n",
       "no      76\n",
       "NaN     15\n",
       "Name: nursery, dtype: int64"
      ]
     },
     "metadata": {},
     "execution_count": 1763
    },
    {
     "output_type": "display_data",
     "data": {
      "image/png": "[encoded data removed]",
      "text/plain": [
       "<Figure size 432x288 with 1 Axes>"
      ]
     },
     "metadata": {
      "needs_background": "light"
     }
    }
   ],
   "metadata": {}
  },
  {
   "cell_type": "markdown",
   "source": [
    "Выбросы отсутствуют, 15 пропусков. Явной корреляции с другими признаками не наблюдается, заменим пропуски на наиболее часто встречающееся 'yes'"
   ],
   "metadata": {}
  },
  {
   "cell_type": "code",
   "execution_count": 1764,
   "source": [
    "students['nursery'].fillna('yes', inplace=True)"
   ],
   "outputs": [],
   "metadata": {}
  },
  {
   "cell_type": "markdown",
   "source": [
    "#### Признак 'studytime, granular' которого нет в описании"
   ],
   "metadata": {}
  },
  {
   "cell_type": "code",
   "execution_count": 1765,
   "source": [
    "sns.boxplot(x=students['studytime, granular'], y='score', data=students)\n",
    "plt.title(\"Boxplot for studytime, granular\")\n",
    "students['studytime, granular'].value_counts(dropna=False)"
   ],
   "outputs": [
    {
     "output_type": "execute_result",
     "data": {
      "text/plain": [
       "-6.0     184\n",
       "-3.0     102\n",
       "-9.0      62\n",
       "-12.0     27\n",
       " NaN       5\n",
       "Name: studytime, granular, dtype: int64"
      ]
     },
     "metadata": {},
     "execution_count": 1765
    },
    {
     "output_type": "display_data",
     "data": {
      "image/png": "[encoded data removed]",
      "text/plain": [
       "<Figure size 432x288 with 1 Axes>"
      ]
     },
     "metadata": {
      "needs_background": "light"
     }
    }
   ],
   "metadata": {}
  },
  {
   "cell_type": "code",
   "execution_count": 1766,
   "source": [
    "students['studytime'].value_counts(dropna=False)"
   ],
   "outputs": [
    {
     "output_type": "execute_result",
     "data": {
      "text/plain": [
       "2.0    189\n",
       "1.0    102\n",
       "3.0     62\n",
       "4.0     27\n",
       "Name: studytime, dtype: int64"
      ]
     },
     "metadata": {},
     "execution_count": 1766
    }
   ],
   "metadata": {}
  },
  {
   "cell_type": "code",
   "execution_count": 1767,
   "source": [
    "plt.figure(figsize=(14, 6))\n",
    "sns.heatmap(students.corr(), annot=True);"
   ],
   "outputs": [
    {
     "output_type": "execute_result",
     "data": {
      "text/plain": [
       "<AxesSubplot:>"
      ]
     },
     "metadata": {},
     "execution_count": 1767
    },
    {
     "output_type": "display_data",
     "data": {
      "image/png": "[encoded data removed]",
      "text/plain": [
       "<Figure size 1008x432 with 2 Axes>"
      ]
     },
     "metadata": {
      "needs_background": "light"
     }
    }
   ],
   "metadata": {}
  },
  {
   "cell_type": "markdown",
   "source": [
    "Выявлена 100% корреляция между признаками 'studytime, granular' и 'studytime'. От одного из признаков можно избавиться"
   ],
   "metadata": {}
  },
  {
   "cell_type": "markdown",
   "source": [
    "students.drop('studytime, granular',axis=1,inplace=True)"
   ],
   "metadata": {}
  },
  {
   "cell_type": "markdown",
   "source": [
    "#### Хочет получить высшее образование (yes или no)"
   ],
   "metadata": {}
  },
  {
   "cell_type": "code",
   "execution_count": 1768,
   "source": [
    "sns.boxplot(x=students['higher'], y='score', data=students)\n",
    "plt.title(\"Boxplot for higher\")\n",
    "students['higher'].value_counts(dropna=False)"
   ],
   "outputs": [
    {
     "output_type": "execute_result",
     "data": {
      "text/plain": [
       "yes    342\n",
       "NaN     20\n",
       "no      18\n",
       "Name: higher, dtype: int64"
      ]
     },
     "metadata": {},
     "execution_count": 1768
    },
    {
     "output_type": "display_data",
     "data": {
      "image/png": "[encoded data removed]",
      "text/plain": [
       "<Figure size 432x288 with 1 Axes>"
      ]
     },
     "metadata": {
      "needs_background": "light"
     }
    }
   ],
   "metadata": {}
  },
  {
   "cell_type": "markdown",
   "source": [
    "Выбросы отсутствуют, 20 пропусков. Подавляющее большинство хочет получить высшее образование, заполним пропуски на этом основании "
   ],
   "metadata": {}
  },
  {
   "cell_type": "code",
   "execution_count": 1769,
   "source": [
    "students['higher'].fillna('yes', inplace=True)"
   ],
   "outputs": [],
   "metadata": {}
  },
  {
   "cell_type": "markdown",
   "source": [
    "####  Наличие интернета дома (yes или no)"
   ],
   "metadata": {}
  },
  {
   "cell_type": "code",
   "execution_count": 1770,
   "source": [
    "sns.boxplot(x=students['internet'], y='score', data=students)\n",
    "plt.title(\"Boxplot for internet\")\n",
    "students['internet'].value_counts(dropna=False)"
   ],
   "outputs": [
    {
     "output_type": "execute_result",
     "data": {
      "text/plain": [
       "yes    292\n",
       "no      54\n",
       "NaN     34\n",
       "Name: internet, dtype: int64"
      ]
     },
     "metadata": {},
     "execution_count": 1770
    },
    {
     "output_type": "display_data",
     "data": {
      "image/png": "[encoded data removed]",
      "text/plain": [
       "<Figure size 432x288 with 1 Axes>"
      ]
     },
     "metadata": {
      "needs_background": "light"
     }
    }
   ],
   "metadata": {}
  },
  {
   "cell_type": "markdown",
   "source": [
    "Выбросов нет, 34 пропуска. У большинства интернет дома имеется. Заполним пропуски 'yes', так как отсутствие интернета не типично для современного мира"
   ],
   "metadata": {}
  },
  {
   "cell_type": "code",
   "execution_count": 1771,
   "source": [
    "students['internet'].fillna('yes', inplace=True)"
   ],
   "outputs": [],
   "metadata": {}
  },
  {
   "cell_type": "markdown",
   "source": [
    "####  В романтических отношениях (yes или no)"
   ],
   "metadata": {}
  },
  {
   "cell_type": "code",
   "execution_count": 1772,
   "source": [
    "sns.boxplot(x=students['romantic'], y='score', data=students)\n",
    "plt.title(\"Boxplot for romantic\")\n",
    "students['romantic'].value_counts(dropna=False)"
   ],
   "outputs": [
    {
     "output_type": "execute_result",
     "data": {
      "text/plain": [
       "no     232\n",
       "yes    119\n",
       "NaN     29\n",
       "Name: romantic, dtype: int64"
      ]
     },
     "metadata": {},
     "execution_count": 1772
    },
    {
     "output_type": "display_data",
     "data": {
      "image/png": "[encoded data removed]",
      "text/plain": [
       "<Figure size 432x288 with 1 Axes>"
      ]
     },
     "metadata": {
      "needs_background": "light"
     }
    }
   ],
   "metadata": {}
  },
  {
   "cell_type": "markdown",
   "source": [
    "Выбросов нет, 29 пропусков. Большинство без отношений, заполним пропуски 'no'"
   ],
   "metadata": {}
  },
  {
   "cell_type": "code",
   "execution_count": 1773,
   "source": [
    "students['romantic'].fillna('no', inplace=True)"
   ],
   "outputs": [],
   "metadata": {}
  },
  {
   "cell_type": "markdown",
   "source": [
    "####  Cемейные отношения (от 1 - очень плохо до 5 - очень хорошо)"
   ],
   "metadata": {}
  },
  {
   "cell_type": "code",
   "execution_count": 1774,
   "source": [
    "sns.boxplot(x=students['famrel'], y='score', data=students)\n",
    "plt.title(\"Boxplot for famrel\")\n",
    "students['famrel'].value_counts(dropna=False)"
   ],
   "outputs": [
    {
     "output_type": "execute_result",
     "data": {
      "text/plain": [
       " 4.0    175\n",
       " 5.0     94\n",
       " 3.0     61\n",
       " NaN     26\n",
       " 2.0     16\n",
       " 1.0      7\n",
       "-1.0      1\n",
       "Name: famrel, dtype: int64"
      ]
     },
     "metadata": {},
     "execution_count": 1774
    },
    {
     "output_type": "display_data",
     "data": {
      "image/png": "[encoded data removed]",
      "text/plain": [
       "<Figure size 432x288 with 1 Axes>"
      ]
     },
     "metadata": {
      "needs_background": "light"
     }
    }
   ],
   "metadata": {}
  },
  {
   "cell_type": "markdown",
   "source": [
    "Имеется выброс равный -1 , пропущено 26 значений. Выброс будем считать опечаткой и заменим на 1. Пропущенные значения заменим на среднее равное 4"
   ],
   "metadata": {}
  },
  {
   "cell_type": "code",
   "execution_count": 1775,
   "source": [
    "students.loc[students['famrel'] == -1, [\"famrel\"]] = 1\n",
    "students['famrel'].fillna(4, inplace=True)"
   ],
   "outputs": [],
   "metadata": {}
  },
  {
   "cell_type": "markdown",
   "source": [
    "####  Cвободное время после школы (от 1 - очень мало до 5 - очень мого)"
   ],
   "metadata": {}
  },
  {
   "cell_type": "code",
   "execution_count": 1776,
   "source": [
    "sns.boxplot(x=students['freetime'], y='score', data=students)\n",
    "plt.title(\"Boxplot for freetime\")\n",
    "students['freetime'].value_counts(dropna=False)"
   ],
   "outputs": [
    {
     "output_type": "execute_result",
     "data": {
      "text/plain": [
       "3.0    149\n",
       "4.0    109\n",
       "2.0     63\n",
       "5.0     36\n",
       "1.0     15\n",
       "NaN      8\n",
       "Name: freetime, dtype: int64"
      ]
     },
     "metadata": {},
     "execution_count": 1776
    },
    {
     "output_type": "display_data",
     "data": {
      "image/png": "[encoded data removed]",
      "text/plain": [
       "<Figure size 432x288 with 1 Axes>"
      ]
     },
     "metadata": {
      "needs_background": "light"
     }
    }
   ],
   "metadata": {}
  },
  {
   "cell_type": "markdown",
   "source": [
    "Выбросы отсутствуют, 8 пропусков. Заменим пропуски на среднее равное 3"
   ],
   "metadata": {}
  },
  {
   "cell_type": "code",
   "execution_count": 1777,
   "source": [
    "students['freetime'].describe()"
   ],
   "outputs": [
    {
     "output_type": "execute_result",
     "data": {
      "text/plain": [
       "count    372.000000\n",
       "mean       3.236559\n",
       "std        0.978451\n",
       "min        1.000000\n",
       "25%        3.000000\n",
       "50%        3.000000\n",
       "75%        4.000000\n",
       "max        5.000000\n",
       "Name: freetime, dtype: float64"
      ]
     },
     "metadata": {},
     "execution_count": 1777
    }
   ],
   "metadata": {}
  },
  {
   "cell_type": "code",
   "execution_count": 1778,
   "source": [
    "students['freetime'].fillna(3, inplace=True)"
   ],
   "outputs": [],
   "metadata": {}
  },
  {
   "cell_type": "markdown",
   "source": [
    "####  Проведение времени с друзьями (от 1 - очень мало до 5 - очень много)"
   ],
   "metadata": {}
  },
  {
   "cell_type": "code",
   "execution_count": 1779,
   "source": [
    "sns.boxplot(x=students['goout'], y='score', data=students)\n",
    "plt.title(\"Boxplot for goout\")\n",
    "students['goout'].value_counts(dropna=False)"
   ],
   "outputs": [
    {
     "output_type": "execute_result",
     "data": {
      "text/plain": [
       "3.0    124\n",
       "2.0     99\n",
       "4.0     78\n",
       "5.0     51\n",
       "1.0     21\n",
       "NaN      7\n",
       "Name: goout, dtype: int64"
      ]
     },
     "metadata": {},
     "execution_count": 1779
    },
    {
     "output_type": "display_data",
     "data": {
      "image/png": "[encoded data removed]",
      "text/plain": [
       "<Figure size 432x288 with 1 Axes>"
      ]
     },
     "metadata": {
      "needs_background": "light"
     }
    }
   ],
   "metadata": {}
  },
  {
   "cell_type": "markdown",
   "source": [
    "Выбросы отсутствуют, 7 пропусков. Заменим пропуски на среднее равное 3"
   ],
   "metadata": {}
  },
  {
   "cell_type": "code",
   "execution_count": 1780,
   "source": [
    "students['goout'].describe()"
   ],
   "outputs": [
    {
     "output_type": "execute_result",
     "data": {
      "text/plain": [
       "count    373.000000\n",
       "mean       3.104558\n",
       "std        1.113121\n",
       "min        1.000000\n",
       "25%        2.000000\n",
       "50%        3.000000\n",
       "75%        4.000000\n",
       "max        5.000000\n",
       "Name: goout, dtype: float64"
      ]
     },
     "metadata": {},
     "execution_count": 1780
    }
   ],
   "metadata": {}
  },
  {
   "cell_type": "code",
   "execution_count": 1781,
   "source": [
    "students['goout'].fillna(3, inplace=True)"
   ],
   "outputs": [],
   "metadata": {}
  },
  {
   "cell_type": "markdown",
   "source": [
    "####  Текущее состояние здоровья (от 1 - очень плохо до 5 - очень хорошо)"
   ],
   "metadata": {}
  },
  {
   "cell_type": "code",
   "execution_count": 1782,
   "source": [
    "sns.boxplot(x=students['health'], y='score', data=students)\n",
    "plt.title(\"Boxplot for health\")\n",
    "students['health'].value_counts(dropna=False)"
   ],
   "outputs": [
    {
     "output_type": "execute_result",
     "data": {
      "text/plain": [
       "5.0    134\n",
       "3.0     86\n",
       "4.0     58\n",
       "1.0     46\n",
       "2.0     42\n",
       "NaN     14\n",
       "Name: health, dtype: int64"
      ]
     },
     "metadata": {},
     "execution_count": 1782
    },
    {
     "output_type": "display_data",
     "data": {
      "image/png": "[encoded data removed]",
      "text/plain": [
       "<Figure size 432x288 with 1 Axes>"
      ]
     },
     "metadata": {
      "needs_background": "light"
     }
    }
   ],
   "metadata": {}
  },
  {
   "cell_type": "markdown",
   "source": [
    "Выбросов нет, 14 пропусков. Заменим пропуски на среднее значение равное 4"
   ],
   "metadata": {}
  },
  {
   "cell_type": "code",
   "execution_count": 1783,
   "source": [
    "students['health'].describe()"
   ],
   "outputs": [
    {
     "output_type": "execute_result",
     "data": {
      "text/plain": [
       "count    366.00000\n",
       "mean       3.52459\n",
       "std        1.40379\n",
       "min        1.00000\n",
       "25%        3.00000\n",
       "50%        4.00000\n",
       "75%        5.00000\n",
       "max        5.00000\n",
       "Name: health, dtype: float64"
      ]
     },
     "metadata": {},
     "execution_count": 1783
    }
   ],
   "metadata": {}
  },
  {
   "cell_type": "code",
   "execution_count": 1784,
   "source": [
    "students['health'].fillna(4, inplace=True)"
   ],
   "outputs": [],
   "metadata": {}
  },
  {
   "cell_type": "markdown",
   "source": [
    "### Посмотрим на информацию обо всем датасете"
   ],
   "metadata": {}
  },
  {
   "cell_type": "code",
   "execution_count": 1785,
   "source": [
    "students.info()"
   ],
   "outputs": [
    {
     "output_type": "stream",
     "name": "stdout",
     "text": [
      "<class 'pandas.core.frame.DataFrame'>\n",
      "Int64Index: 380 entries, 0 to 394\n",
      "Data columns (total 30 columns):\n",
      " #   Column               Non-Null Count  Dtype  \n",
      "---  ------               --------------  -----  \n",
      " 0   school               380 non-null    object \n",
      " 1   sex                  380 non-null    object \n",
      " 2   age                  380 non-null    int64  \n",
      " 3   address              380 non-null    object \n",
      " 4   famsize              380 non-null    object \n",
      " 5   p_status             380 non-null    object \n",
      " 6   m_edu                380 non-null    float64\n",
      " 7   f_edu                380 non-null    float64\n",
      " 8   m_job                380 non-null    object \n",
      " 9   f_job                380 non-null    object \n",
      " 10  reason               380 non-null    object \n",
      " 11  guardian             380 non-null    object \n",
      " 12  traveltime           380 non-null    float64\n",
      " 13  studytime            380 non-null    float64\n",
      " 14  failures             380 non-null    float64\n",
      " 15  schoolsup            380 non-null    object \n",
      " 16  famsup               380 non-null    object \n",
      " 17  paid                 380 non-null    object \n",
      " 18  activities           380 non-null    object \n",
      " 19  nursery              380 non-null    object \n",
      " 20  studytime, granular  375 non-null    float64\n",
      " 21  higher               380 non-null    object \n",
      " 22  internet             380 non-null    object \n",
      " 23  romantic             380 non-null    object \n",
      " 24  famrel               380 non-null    float64\n",
      " 25  freetime             380 non-null    float64\n",
      " 26  goout                380 non-null    float64\n",
      " 27  health               380 non-null    float64\n",
      " 28  absences             380 non-null    float64\n",
      " 29  score                380 non-null    float64\n",
      "dtypes: float64(12), int64(1), object(17)\n",
      "memory usage: 100.1+ KB\n"
     ]
    }
   ],
   "metadata": {}
  },
  {
   "cell_type": "markdown",
   "source": [
    "Пропуски и выбросы устранены, можно приступать к отбору параметров"
   ],
   "metadata": {}
  },
  {
   "cell_type": "markdown",
   "source": [
    "## 4) Корреляционный анализ и отбор параметров"
   ],
   "metadata": {}
  },
  {
   "cell_type": "markdown",
   "source": [
    "#### Произведем корреляционный анализ для количественных переменных"
   ],
   "metadata": {}
  },
  {
   "cell_type": "code",
   "execution_count": 1786,
   "source": [
    "z = students[numeric_columns].corr()"
   ],
   "outputs": [],
   "metadata": {}
  },
  {
   "cell_type": "code",
   "execution_count": 1787,
   "source": [
    "sns.heatmap(z, annot=True)"
   ],
   "outputs": [
    {
     "output_type": "display_data",
     "data": {
      "image/png": "[encoded data removed]",
      "text/plain": [
       "<Figure size 432x288 with 2 Axes>"
      ]
     },
     "metadata": {
      "needs_background": "light"
     }
    }
   ],
   "metadata": {}
  },
  {
   "cell_type": "markdown",
   "source": [
    "Корреляция отсутствует. Все количественные парметры можно оставить"
   ],
   "metadata": {}
  },
  {
   "cell_type": "markdown",
   "source": [
    "#### Произведем  анализ для номинативных переменных"
   ],
   "metadata": {}
  },
  {
   "cell_type": "code",
   "execution_count": 1803,
   "source": [
    "for column in numeric_columns:\n",
    "    significance.append(column)"
   ],
   "outputs": [],
   "metadata": {}
  },
  {
   "cell_type": "code",
   "execution_count": 1788,
   "source": [
    "categorical_columns = ['school', 'sex', 'address', 'famsize', 'p_status', 'm_edu',\n",
    "                       'f_edu', 'm_job', 'f_job', 'reason', 'guardian', 'traveltime',\n",
    "                       'studytime', 'failures', 'schoolsup', 'famsup', 'paid', 'activities',\n",
    "                       'nursery', 'higher', 'internet', 'romantic',\n",
    "                       'famrel', 'freetime', 'goout', 'health']"
   ],
   "outputs": [],
   "metadata": {}
  },
  {
   "cell_type": "code",
   "execution_count": 1789,
   "source": [
    "for column in categorical_columns:\n",
    "    get_boxplot(column)"
   ],
   "outputs": [
    {
     "output_type": "display_data",
     "data": {
      "image/png": "[encoded data removed]",
      "text/plain": [
       "<Figure size 504x288 with 1 Axes>"
      ]
     },
     "metadata": {
      "needs_background": "light"
     }
    },
    {
     "output_type": "display_data",
     "data": {
      "image/png": "[encoded data removed]",
      "text/plain": [
       "<Figure size 504x288 with 1 Axes>"
      ]
     },
     "metadata": {
      "needs_background": "light"
     }
    },
    {
     "output_type": "display_data",
     "data": {
      "image/png": "[encoded data removed]",
      "text/plain": [
       "<Figure size 504x288 with 1 Axes>"
      ]
     },
     "metadata": {
      "needs_background": "light"
     }
    },
    {
     "output_type": "display_data",
     "data": {
      "image/png": "[encoded data removed]",
      "text/plain": [
       "<Figure size 504x288 with 1 Axes>"
      ]
     },
     "metadata": {
      "needs_background": "light"
     }
    },
    {
     "output_type": "display_data",
     "data": {
      "image/png": "[encoded data removed]",
      "text/plain": [
       "<Figure size 504x288 with 1 Axes>"
      ]
     },
     "metadata": {
      "needs_background": "light"
     }
    },
    {
     "output_type": "display_data",
     "data": {
      "image/png": "[encoded data removed]",
      "text/plain": [
       "<Figure size 504x288 with 1 Axes>"
      ]
     },
     "metadata": {
      "needs_background": "light"
     }
    },
    {
     "output_type": "display_data",
     "data": {
      "image/png": "[encoded data removed]",
      "text/plain": [
       "<Figure size 504x288 with 1 Axes>"
      ]
     },
     "metadata": {
      "needs_background": "light"
     }
    },
    {
     "output_type": "display_data",
     "data": {
      "image/png": "[encoded data removed]",
      "text/plain": [
       "<Figure size 504x288 with 1 Axes>"
      ]
     },
     "metadata": {
      "needs_background": "light"
     }
    },
    {
     "output_type": "display_data",
     "data": {
      "image/png": "[encoded data removed]",
      "text/plain": [
       "<Figure size 504x288 with 1 Axes>"
      ]
     },
     "metadata": {
      "needs_background": "light"
     }
    },
    {
     "output_type": "display_data",
     "data": {
      "image/png": "[encoded data removed]",
      "text/plain": [
       "<Figure size 504x288 with 1 Axes>"
      ]
     },
     "metadata": {
      "needs_background": "light"
     }
    },
    {
     "output_type": "display_data",
     "data": {
      "image/png": "[encoded data removed]",
      "text/plain": [
       "<Figure size 504x288 with 1 Axes>"
      ]
     },
     "metadata": {
      "needs_background": "light"
     }
    },
    {
     "output_type": "display_data",
     "data": {
      "image/png": "[encoded data removed]",
      "text/plain": [
       "<Figure size 504x288 with 1 Axes>"
      ]
     },
     "metadata": {
      "needs_background": "light"
     }
    },
    {
     "output_type": "display_data",
     "data": {
      "image/png": "[encoded data removed]",
      "text/plain": [
       "<Figure size 504x288 with 1 Axes>"
      ]
     },
     "metadata": {
      "needs_background": "light"
     }
    },
    {
     "output_type": "display_data",
     "data": {
      "image/png": "[encoded data removed]",
      "text/plain": [
       "<Figure size 504x288 with 1 Axes>"
      ]
     },
     "metadata": {
      "needs_background": "light"
     }
    },
    {
     "output_type": "display_data",
     "data": {
      "image/png": "[encoded data removed]",
      "text/plain": [
       "<Figure size 504x288 with 1 Axes>"
      ]
     },
     "metadata": {
      "needs_background": "light"
     }
    },
    {
     "output_type": "display_data",
     "data": {
      "image/png": "[encoded data removed]",
      "text/plain": [
       "<Figure size 504x288 with 1 Axes>"
      ]
     },
     "metadata": {
      "needs_background": "light"
     }
    },
    {
     "output_type": "display_data",
     "data": {
      "image/png": "[encoded data removed]",
      "text/plain": [
       "<Figure size 504x288 with 1 Axes>"
      ]
     },
     "metadata": {
      "needs_background": "light"
     }
    },
    {
     "output_type": "display_data",
     "data": {
      "image/png": "[encoded data removed]",
      "text/plain": [
       "<Figure size 504x288 with 1 Axes>"
      ]
     },
     "metadata": {
      "needs_background": "light"
     }
    },
    {
     "output_type": "display_data",
     "data": {
      "image/png": "[encoded data removed]",
      "text/plain": [
       "<Figure size 504x288 with 1 Axes>"
      ]
     },
     "metadata": {
      "needs_background": "light"
     }
    },
    {
     "output_type": "display_data",
     "data": {
      "image/png": "[encoded data removed]",
      "text/plain": [
       "<Figure size 504x288 with 1 Axes>"
      ]
     },
     "metadata": {
      "needs_background": "light"
     }
    },
    {
     "output_type": "display_data",
     "data": {
      "image/png": "[encoded data removed]",
      "text/plain": [
       "<Figure size 504x288 with 1 Axes>"
      ]
     },
     "metadata": {
      "needs_background": "light"
     }
    },
    {
     "output_type": "display_data",
     "data": {
      "image/png": "[encoded data removed]",
      "text/plain": [
       "<Figure size 504x288 with 1 Axes>"
      ]
     },
     "metadata": {
      "needs_background": "light"
     }
    },
    {
     "output_type": "display_data",
     "data": {
      "image/png": "[encoded data removed]",
      "text/plain": [
       "<Figure size 504x288 with 1 Axes>"
      ]
     },
     "metadata": {
      "needs_background": "light"
     }
    },
    {
     "output_type": "display_data",
     "data": {
      "image/png": "[encoded data removed]",
      "text/plain": [
       "<Figure size 504x288 with 1 Axes>"
      ]
     },
     "metadata": {
      "needs_background": "light"
     }
    },
    {
     "output_type": "display_data",
     "data": {
      "image/png": "[encoded data removed]",
      "text/plain": [
       "<Figure size 504x288 with 1 Axes>"
      ]
     },
     "metadata": {
      "needs_background": "light"
     }
    },
    {
     "output_type": "display_data",
     "data": {
      "image/png": "[encoded data removed]",
      "text/plain": [
       "<Figure size 504x288 with 1 Axes>"
      ]
     },
     "metadata": {
      "needs_background": "light"
     }
    }
   ],
   "metadata": {}
  },
  {
   "cell_type": "code",
   "execution_count": 1790,
   "source": [
    "for column in categorical_columns:\n",
    "    get_stat_dif(column)"
   ],
   "outputs": [
    {
     "output_type": "stream",
     "name": "stdout",
     "text": [
      "Найдены статистически значимые различия для колонки sex\n",
      "Найдены статистически значимые различия для колонки address\n",
      "Найдены статистически значимые различия для колонки m_edu\n",
      "Найдены статистически значимые различия для колонки f_edu\n",
      "Найдены статистически значимые различия для колонки m_job\n",
      "Найдены статистически значимые различия для колонки failures\n",
      "Найдены статистически значимые различия для колонки schoolsup\n",
      "Найдены статистически значимые различия для колонки paid\n",
      "Найдены статистически значимые различия для колонки higher\n",
      "Найдены статистически значимые различия для колонки romantic\n"
     ]
    }
   ],
   "metadata": {}
  },
  {
   "cell_type": "markdown",
   "source": [
    "Создадим новый датасет с отобранными признаками "
   ],
   "metadata": {}
  },
  {
   "cell_type": "code",
   "execution_count": 1805,
   "source": [
    "students_model = students[significance]"
   ],
   "outputs": [],
   "metadata": {}
  },
  {
   "cell_type": "markdown",
   "source": [
    "##  5) Выводы"
   ],
   "metadata": {}
  },
  {
   "cell_type": "markdown",
   "source": [
    "В результате EDA для анализа влияния условий жизни учащихся в возрасте от 15 до 22 лет на их успеваемость по математике, чтобы на ранней стадии выявлять студентов, находящихся в группе риска.\n",
    "\n",
    "-В данных достаточно мало пустых значений.\n",
    "\n",
    "-Выбросы найдены только в столбцах 'f_edu' и 'famrel' с образованием отца, семейных отношениях и в столбце с пропущенными занятиями 'absences'.\n",
    "\n",
    "-В изначальном датасете наблюдалась 100% корреляция между колонками studytime и studytime, granular. Возомжно целью было усилить значение времени затраченного на учебу на итоговую оценку.\n",
    "\n",
    "-Самые важные параметры, которые предлагается использовать в дальнейшем для построения модели, это sex, address, m_edu, f_edu, m_job, failures, schoolsup, paid, higher, romantic, age, absences.\n",
    "\n",
    "-Дальнейшие выводы по данным можно будет сделать только после внедрения модели."
   ],
   "metadata": {}
  }
 ],
 "metadata": {
  "kernelspec": {
   "display_name": "Python 3 (ipykernel)",
   "language": "python",
   "name": "python3"
  },
  "language_info": {
   "codemirror_mode": {
    "name": "ipython",
    "version": 3
   },
   "file_extension": ".py",
   "mimetype": "text/x-python",
   "name": "python",
   "nbconvert_exporter": "python",
   "pygments_lexer": "ipython3",
   "version": "3.8.11"
  }
 },
 "nbformat": 4,
 "nbformat_minor": 5
}