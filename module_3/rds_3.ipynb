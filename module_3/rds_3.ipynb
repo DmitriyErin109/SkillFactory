{
 "cells": [
  {
   "cell_type": "markdown",
   "id": "152111cb",
   "metadata": {},
   "source": [
    "### Проект №3 \"О вкусной и здоровой пище\""
   ]
  },
  {
   "cell_type": "markdown",
   "id": "4318f210",
   "metadata": {},
   "source": [
    "#### Импорт библиотек "
   ]
  },
  {
   "cell_type": "code",
   "execution_count": 4520,
   "id": "d322e58b",
   "metadata": {},
   "outputs": [],
   "source": [
    "import pandas as pd\n",
    "from datetime import datetime\n",
    "from sklearn.model_selection import train_test_split\n",
    "from sklearn.preprocessing import StandardScaler, MinMaxScaler\n",
    "from sklearn.ensemble import RandomForestRegressor\n",
    "from sklearn import metrics\n",
    "import numpy as np\n",
    "import seaborn as sns\n",
    "from emoji import UNICODE_EMOJI\n",
    "import pandas_profiling\n",
    "import random\n",
    "import matplotlib.pyplot as plt\n",
    "from sklearn.preprocessing import LabelEncoder\n",
    "%matplotlib inline\n",
    "random.seed(42)\n",
    "np.random.seed(42)\n",
    "pd.set_option('display.max_columns', 200)"
   ]
  },
  {
   "cell_type": "markdown",
   "id": "b5123fe9",
   "metadata": {},
   "source": [
    "#### Функции"
   ]
  },
  {
   "cell_type": "code",
   "execution_count": 4521,
   "id": "dfb38149",
   "metadata": {},
   "outputs": [],
   "source": [
    "def edit_cuisine(x): \n",
    "    if type(x) == float:\n",
    "        return x\n",
    "    return x[1:-1].strip(' ').split(', ')\n",
    "\n",
    "\n",
    "def from_reviews_date(x): #извлечение даты из отзывов\n",
    "    l = []\n",
    "    z = x[:-2].split('], [')[1].split(', ')\n",
    "    for i in range(len(z)):\n",
    "        l.append(z[i])\n",
    "    return l\n",
    "\n",
    "\n",
    "def is_emoji(s): # наличие смайлов\n",
    "    decode = s.encode('unicode-escape')\n",
    "    l = [c for c in s if c in UNICODE_EMOJI['en']]\n",
    "    if len(l) > 0:\n",
    "        return 1\n",
    "    return 0\n",
    "\n",
    "\n",
    "def tonal(s): # определение тональности\n",
    "    s = s.lower()\n",
    "    for i in bag_of_words['positive']:\n",
    "        if s.count(i):\n",
    "            return('positive')\n",
    "    for i in bag_of_words['negative']:\n",
    "        if s.count(i):\n",
    "            return('negative')\n",
    "    return('neutral')\n",
    "\n",
    "\n",
    "def is_popular(x):\n",
    "    if type(x) == float:\n",
    "        return 0\n",
    "    for i in x:\n",
    "        if i in top_kit:\n",
    "            return 1\n",
    "    return 0\n",
    "\n",
    "\n",
    "def is_rare(x):\n",
    "    if type(x) == float:\n",
    "        return 0\n",
    "    for i in x:\n",
    "        if i in rare_kit:\n",
    "            return 1\n",
    "    return 0\n",
    "\n",
    "\n",
    "def is_alco(x): \n",
    "    for i in alco:\n",
    "        if str(x).count(i):\n",
    "            return 1\n",
    "        return 0\n",
    "\n",
    "\n",
    "def borders_of_outliers(x): # функция поиска доверительных интервалов\n",
    "    IQR = x.quantile(0.75) - x.quantile(0.25)\n",
    "    perc25 = x.quantile(0.25)\n",
    "    perc75 = x.quantile(0.75)\n",
    "    f = perc25 - 1.5*IQR\n",
    "    l = perc75 + 1.5*IQR\n",
    "    print('25-й перцентиль: {},'.format(perc25), '75-й перцентиль: {},'.format(perc75),\n",
    "          \"IQR: {}, \".format(IQR), \"Границы выбросов: [{}, {}].\".format(f, l))\n",
    "    return f, l\n",
    "\n"
   ]
  },
  {
   "cell_type": "markdown",
   "id": "42919670",
   "metadata": {},
   "source": [
    "#### Импорт данных"
   ]
  },
  {
   "cell_type": "code",
   "execution_count": 4522,
   "id": "b330de1c",
   "metadata": {},
   "outputs": [],
   "source": [
    "df_train = pd.read_csv('main_task_new.csv')\n",
    "df_test = pd.read_csv('kaggle_task.csv')"
   ]
  },
  {
   "cell_type": "code",
   "execution_count": 4523,
   "id": "c29c9d0b",
   "metadata": {},
   "outputs": [],
   "source": [
    "df_train['sample'] = 1  # помечаем где у нас трейн\n",
    "df_test['sample'] = 0  # помечаем где у нас тест\n",
    "# в тесте у нас нет значения Rating, мы его должны предсказать, по этому пока просто заполняем нулями\n",
    "df_test['Rating'] = 0\n",
    "\n",
    "data = df_test.append(df_train, sort=False).reset_index(\n",
    "    drop=True)  # объединяем"
   ]
  },
  {
   "cell_type": "code",
   "execution_count": 4524,
   "id": "ca7fb9a5",
   "metadata": {},
   "outputs": [
    {
     "data": {
      "text/html": [
       "<div>\n",
       "<style scoped>\n",
       "    .dataframe tbody tr th:only-of-type {\n",
       "        vertical-align: middle;\n",
       "    }\n",
       "\n",
       "    .dataframe tbody tr th {\n",
       "        vertical-align: top;\n",
       "    }\n",
       "\n",
       "    .dataframe thead th {\n",
       "        text-align: right;\n",
       "    }\n",
       "</style>\n",
       "<table border=\"1\" class=\"dataframe\">\n",
       "  <thead>\n",
       "    <tr style=\"text-align: right;\">\n",
       "      <th></th>\n",
       "      <th>Restaurant_id</th>\n",
       "      <th>City</th>\n",
       "      <th>Cuisine Style</th>\n",
       "      <th>Ranking</th>\n",
       "      <th>Rating</th>\n",
       "      <th>Price Range</th>\n",
       "      <th>Number of Reviews</th>\n",
       "      <th>Reviews</th>\n",
       "      <th>URL_TA</th>\n",
       "      <th>ID_TA</th>\n",
       "      <th>sample</th>\n",
       "    </tr>\n",
       "  </thead>\n",
       "  <tbody>\n",
       "    <tr>\n",
       "      <th>0</th>\n",
       "      <td>id_5569</td>\n",
       "      <td>Paris</td>\n",
       "      <td>['European', 'French', 'International']</td>\n",
       "      <td>5570.0</td>\n",
       "      <td>3.5</td>\n",
       "      <td>$$ - $$$</td>\n",
       "      <td>194.0</td>\n",
       "      <td>[['Good food at your doorstep', 'A good hotel ...</td>\n",
       "      <td>/Restaurant_Review-g187147-d1912643-Reviews-R_...</td>\n",
       "      <td>d1912643</td>\n",
       "      <td>1</td>\n",
       "    </tr>\n",
       "    <tr>\n",
       "      <th>1</th>\n",
       "      <td>id_1535</td>\n",
       "      <td>Stockholm</td>\n",
       "      <td>NaN</td>\n",
       "      <td>1537.0</td>\n",
       "      <td>4.0</td>\n",
       "      <td>NaN</td>\n",
       "      <td>10.0</td>\n",
       "      <td>[['Unique cuisine', 'Delicious Nepalese food']...</td>\n",
       "      <td>/Restaurant_Review-g189852-d7992032-Reviews-Bu...</td>\n",
       "      <td>d7992032</td>\n",
       "      <td>1</td>\n",
       "    </tr>\n",
       "    <tr>\n",
       "      <th>2</th>\n",
       "      <td>id_352</td>\n",
       "      <td>London</td>\n",
       "      <td>['Japanese', 'Sushi', 'Asian', 'Grill', 'Veget...</td>\n",
       "      <td>353.0</td>\n",
       "      <td>4.5</td>\n",
       "      <td>$$$$</td>\n",
       "      <td>688.0</td>\n",
       "      <td>[['Catch up with friends', 'Not exceptional'],...</td>\n",
       "      <td>/Restaurant_Review-g186338-d8632781-Reviews-RO...</td>\n",
       "      <td>d8632781</td>\n",
       "      <td>1</td>\n",
       "    </tr>\n",
       "    <tr>\n",
       "      <th>3</th>\n",
       "      <td>id_3456</td>\n",
       "      <td>Berlin</td>\n",
       "      <td>NaN</td>\n",
       "      <td>3458.0</td>\n",
       "      <td>5.0</td>\n",
       "      <td>NaN</td>\n",
       "      <td>3.0</td>\n",
       "      <td>[[], []]</td>\n",
       "      <td>/Restaurant_Review-g187323-d1358776-Reviews-Es...</td>\n",
       "      <td>d1358776</td>\n",
       "      <td>1</td>\n",
       "    </tr>\n",
       "    <tr>\n",
       "      <th>4</th>\n",
       "      <td>id_615</td>\n",
       "      <td>Munich</td>\n",
       "      <td>['German', 'Central European', 'Vegetarian Fri...</td>\n",
       "      <td>621.0</td>\n",
       "      <td>4.0</td>\n",
       "      <td>$$ - $$$</td>\n",
       "      <td>84.0</td>\n",
       "      <td>[['Best place to try a Bavarian food', 'Nice b...</td>\n",
       "      <td>/Restaurant_Review-g187309-d6864963-Reviews-Au...</td>\n",
       "      <td>d6864963</td>\n",
       "      <td>1</td>\n",
       "    </tr>\n",
       "  </tbody>\n",
       "</table>\n",
       "</div>"
      ],
      "text/plain": [
       "  Restaurant_id       City                                      Cuisine Style  \\\n",
       "0       id_5569      Paris            ['European', 'French', 'International']   \n",
       "1       id_1535  Stockholm                                                NaN   \n",
       "2        id_352     London  ['Japanese', 'Sushi', 'Asian', 'Grill', 'Veget...   \n",
       "3       id_3456     Berlin                                                NaN   \n",
       "4        id_615     Munich  ['German', 'Central European', 'Vegetarian Fri...   \n",
       "\n",
       "   Ranking  Rating Price Range  Number of Reviews  \\\n",
       "0   5570.0     3.5    $$ - $$$              194.0   \n",
       "1   1537.0     4.0         NaN               10.0   \n",
       "2    353.0     4.5        $$$$              688.0   \n",
       "3   3458.0     5.0         NaN                3.0   \n",
       "4    621.0     4.0    $$ - $$$               84.0   \n",
       "\n",
       "                                             Reviews  \\\n",
       "0  [['Good food at your doorstep', 'A good hotel ...   \n",
       "1  [['Unique cuisine', 'Delicious Nepalese food']...   \n",
       "2  [['Catch up with friends', 'Not exceptional'],...   \n",
       "3                                           [[], []]   \n",
       "4  [['Best place to try a Bavarian food', 'Nice b...   \n",
       "\n",
       "                                              URL_TA     ID_TA  sample  \n",
       "0  /Restaurant_Review-g187147-d1912643-Reviews-R_...  d1912643       1  \n",
       "1  /Restaurant_Review-g189852-d7992032-Reviews-Bu...  d7992032       1  \n",
       "2  /Restaurant_Review-g186338-d8632781-Reviews-RO...  d8632781       1  \n",
       "3  /Restaurant_Review-g187323-d1358776-Reviews-Es...  d1358776       1  \n",
       "4  /Restaurant_Review-g187309-d6864963-Reviews-Au...  d6864963       1  "
      ]
     },
     "metadata": {},
     "output_type": "display_data"
    },
    {
     "data": {
      "text/html": [
       "<div>\n",
       "<style scoped>\n",
       "    .dataframe tbody tr th:only-of-type {\n",
       "        vertical-align: middle;\n",
       "    }\n",
       "\n",
       "    .dataframe tbody tr th {\n",
       "        vertical-align: top;\n",
       "    }\n",
       "\n",
       "    .dataframe thead th {\n",
       "        text-align: right;\n",
       "    }\n",
       "</style>\n",
       "<table border=\"1\" class=\"dataframe\">\n",
       "  <thead>\n",
       "    <tr style=\"text-align: right;\">\n",
       "      <th></th>\n",
       "      <th>Restaurant_id</th>\n",
       "      <th>City</th>\n",
       "      <th>Cuisine Style</th>\n",
       "      <th>Ranking</th>\n",
       "      <th>Price Range</th>\n",
       "      <th>Number of Reviews</th>\n",
       "      <th>Reviews</th>\n",
       "      <th>URL_TA</th>\n",
       "      <th>ID_TA</th>\n",
       "      <th>sample</th>\n",
       "      <th>Rating</th>\n",
       "    </tr>\n",
       "  </thead>\n",
       "  <tbody>\n",
       "    <tr>\n",
       "      <th>0</th>\n",
       "      <td>id_0</td>\n",
       "      <td>Paris</td>\n",
       "      <td>['Bar', 'Pub']</td>\n",
       "      <td>12963.0</td>\n",
       "      <td>$$ - $$$</td>\n",
       "      <td>4.0</td>\n",
       "      <td>[[], []]</td>\n",
       "      <td>/Restaurant_Review-g187147-d10746918-Reviews-L...</td>\n",
       "      <td>d10746918</td>\n",
       "      <td>0</td>\n",
       "      <td>0</td>\n",
       "    </tr>\n",
       "    <tr>\n",
       "      <th>1</th>\n",
       "      <td>id_1</td>\n",
       "      <td>Helsinki</td>\n",
       "      <td>['European', 'Scandinavian', 'Gluten Free Opti...</td>\n",
       "      <td>106.0</td>\n",
       "      <td>$$ - $$$</td>\n",
       "      <td>97.0</td>\n",
       "      <td>[['Very good reviews!', 'Fine dining in Hakani...</td>\n",
       "      <td>/Restaurant_Review-g189934-d6674944-Reviews-Ra...</td>\n",
       "      <td>d6674944</td>\n",
       "      <td>0</td>\n",
       "      <td>0</td>\n",
       "    </tr>\n",
       "    <tr>\n",
       "      <th>2</th>\n",
       "      <td>id_2</td>\n",
       "      <td>Edinburgh</td>\n",
       "      <td>['Vegetarian Friendly']</td>\n",
       "      <td>810.0</td>\n",
       "      <td>$$ - $$$</td>\n",
       "      <td>28.0</td>\n",
       "      <td>[['Better than the Links', 'Ivy Black'], ['12/...</td>\n",
       "      <td>/Restaurant_Review-g186525-d13129638-Reviews-B...</td>\n",
       "      <td>d13129638</td>\n",
       "      <td>0</td>\n",
       "      <td>0</td>\n",
       "    </tr>\n",
       "    <tr>\n",
       "      <th>3</th>\n",
       "      <td>id_3</td>\n",
       "      <td>London</td>\n",
       "      <td>['Italian', 'Mediterranean', 'European', 'Vege...</td>\n",
       "      <td>1669.0</td>\n",
       "      <td>$$$$</td>\n",
       "      <td>202.0</td>\n",
       "      <td>[['Most exquisite', 'Delicious and authentic']...</td>\n",
       "      <td>/Restaurant_Review-g186338-d680417-Reviews-Qui...</td>\n",
       "      <td>d680417</td>\n",
       "      <td>0</td>\n",
       "      <td>0</td>\n",
       "    </tr>\n",
       "    <tr>\n",
       "      <th>4</th>\n",
       "      <td>id_4</td>\n",
       "      <td>Bratislava</td>\n",
       "      <td>['Italian', 'Mediterranean', 'European', 'Seaf...</td>\n",
       "      <td>37.0</td>\n",
       "      <td>$$$$</td>\n",
       "      <td>162.0</td>\n",
       "      <td>[['Always the best in bratislava', 'Very good ...</td>\n",
       "      <td>/Restaurant_Review-g274924-d1112354-Reviews-Ma...</td>\n",
       "      <td>d1112354</td>\n",
       "      <td>0</td>\n",
       "      <td>0</td>\n",
       "    </tr>\n",
       "  </tbody>\n",
       "</table>\n",
       "</div>"
      ],
      "text/plain": [
       "  Restaurant_id        City  \\\n",
       "0          id_0       Paris   \n",
       "1          id_1    Helsinki   \n",
       "2          id_2   Edinburgh   \n",
       "3          id_3      London   \n",
       "4          id_4  Bratislava   \n",
       "\n",
       "                                       Cuisine Style  Ranking Price Range  \\\n",
       "0                                     ['Bar', 'Pub']  12963.0    $$ - $$$   \n",
       "1  ['European', 'Scandinavian', 'Gluten Free Opti...    106.0    $$ - $$$   \n",
       "2                            ['Vegetarian Friendly']    810.0    $$ - $$$   \n",
       "3  ['Italian', 'Mediterranean', 'European', 'Vege...   1669.0        $$$$   \n",
       "4  ['Italian', 'Mediterranean', 'European', 'Seaf...     37.0        $$$$   \n",
       "\n",
       "   Number of Reviews                                            Reviews  \\\n",
       "0                4.0                                           [[], []]   \n",
       "1               97.0  [['Very good reviews!', 'Fine dining in Hakani...   \n",
       "2               28.0  [['Better than the Links', 'Ivy Black'], ['12/...   \n",
       "3              202.0  [['Most exquisite', 'Delicious and authentic']...   \n",
       "4              162.0  [['Always the best in bratislava', 'Very good ...   \n",
       "\n",
       "                                              URL_TA      ID_TA  sample  \\\n",
       "0  /Restaurant_Review-g187147-d10746918-Reviews-L...  d10746918       0   \n",
       "1  /Restaurant_Review-g189934-d6674944-Reviews-Ra...   d6674944       0   \n",
       "2  /Restaurant_Review-g186525-d13129638-Reviews-B...  d13129638       0   \n",
       "3  /Restaurant_Review-g186338-d680417-Reviews-Qui...    d680417       0   \n",
       "4  /Restaurant_Review-g274924-d1112354-Reviews-Ma...   d1112354       0   \n",
       "\n",
       "   Rating  \n",
       "0       0  \n",
       "1       0  \n",
       "2       0  \n",
       "3       0  \n",
       "4       0  "
      ]
     },
     "metadata": {},
     "output_type": "display_data"
    }
   ],
   "source": [
    "display(df_train.head())\n",
    "display(df_test.head())"
   ]
  },
  {
   "cell_type": "markdown",
   "id": "3c121118",
   "metadata": {},
   "source": [
    "#### Анализ данных по переменным"
   ]
  },
  {
   "cell_type": "markdown",
   "id": "1ae32207",
   "metadata": {},
   "source": [
    "##### 1) Restaurant_id"
   ]
  },
  {
   "cell_type": "code",
   "execution_count": 4525,
   "id": "166b9722",
   "metadata": {},
   "outputs": [
    {
     "data": {
      "text/plain": [
       "0    5569.0\n",
       "1    1535.0\n",
       "2     352.0\n",
       "3    3456.0\n",
       "4     615.0\n",
       "Name: Restaurant_id, dtype: float64"
      ]
     },
     "metadata": {},
     "output_type": "display_data"
    }
   ],
   "source": [
    "display(df_train['Restaurant_id'].apply(lambda x: float(x[3:])).head(5))\n"
   ]
  },
  {
   "cell_type": "markdown",
   "id": "789133cd",
   "metadata": {},
   "source": [
    "Значения похожи на значения из столбца Ranking, проведем корреляционный анализ"
   ]
  },
  {
   "cell_type": "code",
   "execution_count": 4526,
   "id": "6487655f",
   "metadata": {},
   "outputs": [
    {
     "data": {
      "text/plain": [
       "0.9999995570800101"
      ]
     },
     "execution_count": 4526,
     "metadata": {},
     "output_type": "execute_result"
    }
   ],
   "source": [
    "df_train['Restaurant_id'].apply(lambda x: float(x[3:])).corr(df_train['Ranking'])"
   ]
  },
  {
   "cell_type": "markdown",
   "id": "17e1ff0f",
   "metadata": {},
   "source": [
    "Наблюдается высокая корреляция с признаком Ranking. Признак \"Restaurant_id\" можно удалить из датасета"
   ]
  },
  {
   "cell_type": "code",
   "execution_count": 4527,
   "id": "36e75716",
   "metadata": {},
   "outputs": [],
   "source": [
    "data.drop('Restaurant_id',axis=1,inplace=True)"
   ]
  },
  {
   "cell_type": "markdown",
   "id": "773e88cf",
   "metadata": {},
   "source": [
    "##### 2) Cuisine Style"
   ]
  },
  {
   "cell_type": "code",
   "execution_count": 4528,
   "id": "6e76bab0",
   "metadata": {},
   "outputs": [
    {
     "data": {
      "text/plain": [
       "NaN                       11590\n",
       "['Italian']                1332\n",
       "['French']                 1019\n",
       "['Spanish']                 860\n",
       "['French', 'European']      503\n",
       "Name: Cuisine Style, dtype: int64"
      ]
     },
     "execution_count": 4528,
     "metadata": {},
     "output_type": "execute_result"
    }
   ],
   "source": [
    "data['Cuisine Style'].value_counts(dropna=False).head()"
   ]
  },
  {
   "cell_type": "markdown",
   "id": "388756d5",
   "metadata": {},
   "source": [
    "В датасете присутствует достаточно много пропусков, заполним пропущенные значением \"Other\""
   ]
  },
  {
   "cell_type": "code",
   "execution_count": 4529,
   "id": "05fbdb41",
   "metadata": {},
   "outputs": [],
   "source": [
    "data['Cuisine Style'].fillna(\"[Other]\",inplace=True)"
   ]
  },
  {
   "cell_type": "code",
   "execution_count": 4530,
   "id": "4660b7c9",
   "metadata": {},
   "outputs": [],
   "source": [
    "data['Cuisine Style'] = data['Cuisine Style'].apply(lambda x: edit_cuisine(x)) #преобразуем столбец со списком кухонь\n",
    "\n",
    "\n",
    "top_kit = list(data['Cuisine Style'].explode().value_counts().head(10).index) # создадим список топ кухонь \n",
    "rare_kit=list(data['Cuisine Style'].explode().value_counts().tail(35).index) #создадим список наиболее редких кухонь \n",
    "alco = ['Bar', 'Pub', 'Wine Bar', 'Brew Pub'] # создадим список c видами баров\n",
    "\n",
    "#относится ли ресторан к списку самых распространенных кухонь\n",
    "data['is_popular'] = data['Cuisine Style'].apply(lambda x: is_popular(x)) \n",
    "#относится ли ресторан к списку редких кухонь\n",
    "data['is_rare'] = data['Cuisine Style'].apply(lambda x: is_rare(x))\n",
    "#относится ли ресторан к списку баров\n",
    "data[\"is_alco\"] = data['Cuisine Style'].apply(lambda x: is_alco(x))\n",
    "#количество кухонь представленных в ресторане\n",
    "data['len'] = data['Cuisine Style'].apply(lambda x: len(x))  \n"
   ]
  },
  {
   "cell_type": "markdown",
   "id": "2ed28baa",
   "metadata": {},
   "source": [
    "Добавили в датасет следующие признаки: <br>\n",
    "1) Количество видов кухонь в ресторане <br>\n",
    "2) Является ли кухня распространенной <br>\n",
    "3) Является ли кухня уникальной<br>\n",
    "4) Является ли заведение баром"
   ]
  },
  {
   "cell_type": "code",
   "execution_count": 4531,
   "id": "c3c17ded",
   "metadata": {},
   "outputs": [
    {
     "data": {
      "image/png": "[encoded data removed]",
      "text/plain": [
       "<Figure size 432x288 with 1 Axes>"
      ]
     },
     "metadata": {
      "needs_background": "light"
     },
     "output_type": "display_data"
    }
   ],
   "source": [
    "ax=sns.countplot(x='len',data=data,palette='rocket')\n",
    "ax.set(xlabel='Разнобразие кухонь',ylabel='Количество ресторанов',title='Количество разнообразных кухонь');"
   ]
  },
  {
   "cell_type": "code",
   "execution_count": 4532,
   "id": "f6bd3b91",
   "metadata": {},
   "outputs": [
    {
     "data": {
      "image/png": "[encoded data removed]",
      "text/plain": [
       "<Figure size 576x360 with 1 Axes>"
      ]
     },
     "metadata": {
      "needs_background": "light"
     },
     "output_type": "display_data"
    }
   ],
   "source": [
    "plt.figure(figsize=(8,5))\n",
    "ax=sns.countplot(x='is_popular',data=data,palette='rocket')\n",
    "ax.set(xlabel='',ylabel='Количество ресторанов',title='Имеется ли в ресторане самая распространенная кухня',\n",
    "       xticklabels=('Нет','Да'))\n",
    "for p in ax.patches:\n",
    "        ax.annotate(p.get_height(), (p.get_x()+0.34, p.get_height()+350));"
   ]
  },
  {
   "cell_type": "code",
   "execution_count": 4533,
   "id": "6d841793",
   "metadata": {},
   "outputs": [
    {
     "data": {
      "image/png": "[encoded data removed]",
      "text/plain": [
       "<Figure size 576x360 with 1 Axes>"
      ]
     },
     "metadata": {
      "needs_background": "light"
     },
     "output_type": "display_data"
    }
   ],
   "source": [
    "plt.figure(figsize=(8,5))\n",
    "ax=sns.countplot(x='is_rare',data=data,palette='rocket')\n",
    "ax.set(xlabel='Разнобразие кухонь',ylabel='Количество ресторанов',title='Наличие самых редких кухонь',\n",
    "       xticklabels=('Нет','Да'))\n",
    "for p in ax.patches:\n",
    "        ax.annotate(p.get_height(), (p.get_x()+0.34, p.get_height()+350));"
   ]
  },
  {
   "cell_type": "code",
   "execution_count": 4534,
   "id": "aeb93ddc",
   "metadata": {},
   "outputs": [
    {
     "data": {
      "image/png": "[encoded data removed]",
      "text/plain": [
       "<Figure size 576x360 with 1 Axes>"
      ]
     },
     "metadata": {
      "needs_background": "light"
     },
     "output_type": "display_data"
    }
   ],
   "source": [
    "plt.figure(figsize=(8,5))\n",
    "ax=sns.countplot(x='is_alco',data=data,palette='rocket')\n",
    "ax.set(xlabel='Бар',ylabel='Количество ресторанов',title='Является ли заведение баром',\n",
    "       xticklabels=('Нет','Да'))\n",
    "for p in ax.patches:\n",
    "        ax.annotate(p.get_height(), (p.get_x()+0.34, p.get_height()+350));"
   ]
  },
  {
   "cell_type": "markdown",
   "id": "d13f76c6",
   "metadata": {},
   "source": [
    "##### 3) Price Range"
   ]
  },
  {
   "cell_type": "code",
   "execution_count": 4535,
   "id": "312caeea",
   "metadata": {},
   "outputs": [
    {
     "data": {
      "text/plain": [
       "$$ - $$$    23041\n",
       "NaN         17361\n",
       "$            7816\n",
       "$$$$         1782\n",
       "Name: Price Range, dtype: int64"
      ]
     },
     "execution_count": 4535,
     "metadata": {},
     "output_type": "execute_result"
    }
   ],
   "source": [
    "data['Price Range'].value_counts(dropna=False)"
   ]
  },
  {
   "cell_type": "code",
   "execution_count": 4536,
   "id": "2c67bf98",
   "metadata": {},
   "outputs": [],
   "source": [
    "data['Price Range'].replace({'$$ - $$$': 2, '$': 1, '$$$$': 3, }, inplace=True)"
   ]
  },
  {
   "cell_type": "markdown",
   "id": "503e9351",
   "metadata": {},
   "source": [
    "В столбце Price Range имеется большое количество пропусков (17361). Заполним пропуски значением 0, так как заполнение модой приведет к еще большему дисбалансу классов"
   ]
  },
  {
   "cell_type": "code",
   "execution_count": 4537,
   "id": "1e99229b",
   "metadata": {},
   "outputs": [],
   "source": [
    "data['Price Range'].value_counts()\n",
    "data['Price Range'].fillna(0, inplace=True)"
   ]
  },
  {
   "cell_type": "code",
   "execution_count": 4538,
   "id": "cf5410fe",
   "metadata": {},
   "outputs": [
    {
     "data": {
      "image/png": "[encoded data removed]",
      "text/plain": [
       "<Figure size 576x360 with 1 Axes>"
      ]
     },
     "metadata": {
      "needs_background": "light"
     },
     "output_type": "display_data"
    }
   ],
   "source": [
    "plt.figure(figsize=(8,5))\n",
    "ax=sns.countplot(x='Price Range',data=data,palette='rocket')\n",
    "ax.set(xlabel='Средний человек',ylabel='Количество ресторанов',title='Средний чек в ресторане',\n",
    "       xticklabels=('Нет данных','S','SS-SSS',\"SSSS\"))\n",
    "for p in ax.patches:\n",
    "        ax.annotate(p.get_height(), (p.get_x()+0.3, p.get_height()+350));"
   ]
  },
  {
   "cell_type": "markdown",
   "id": "e8a00c1e",
   "metadata": {},
   "source": [
    "##### 4) Number of Reviews"
   ]
  },
  {
   "cell_type": "code",
   "execution_count": 4539,
   "id": "6765a4ad",
   "metadata": {},
   "outputs": [
    {
     "data": {
      "text/plain": [
       "NaN       3200\n",
       "2.0       2403\n",
       "3.0       2042\n",
       "4.0       1707\n",
       "5.0       1471\n",
       "          ... \n",
       "2366.0       1\n",
       "1757.0       1\n",
       "4996.0       1\n",
       "2236.0       1\n",
       "2297.0       1\n",
       "Name: Number of Reviews, Length: 1574, dtype: int64"
      ]
     },
     "execution_count": 4539,
     "metadata": {},
     "output_type": "execute_result"
    }
   ],
   "source": [
    "data['Number of Reviews'].value_counts(dropna=False)"
   ]
  },
  {
   "cell_type": "markdown",
   "id": "34e35779",
   "metadata": {},
   "source": [
    "Признак Number of Reviews имеет небольшое количество пропусков (3200). "
   ]
  },
  {
   "cell_type": "code",
   "execution_count": 4540,
   "id": "a4ff3ca3",
   "metadata": {},
   "outputs": [
    {
     "data": {
      "text/plain": [
       "count    46800.000000\n",
       "mean       124.471197\n",
       "std        294.114345\n",
       "min          2.000000\n",
       "25%          9.000000\n",
       "50%         33.000000\n",
       "75%        115.000000\n",
       "max       9660.000000\n",
       "Name: Number_of_Reviews, dtype: float64"
      ]
     },
     "execution_count": 4540,
     "metadata": {},
     "output_type": "execute_result"
    }
   ],
   "source": [
    "data.rename(columns={'Number of Reviews': 'Number_of_Reviews'}, inplace=True)\n",
    "data['Number_of_Reviews'].describe()"
   ]
  },
  {
   "cell_type": "code",
   "execution_count": 4541,
   "id": "9425f978",
   "metadata": {},
   "outputs": [
    {
     "data": {
      "text/plain": [
       "<AxesSubplot:xlabel='Number_of_Reviews', ylabel='Count'>"
      ]
     },
     "execution_count": 4541,
     "metadata": {},
     "output_type": "execute_result"
    },
    {
     "data": {
      "image/png": "[encoded data removed]",
      "text/plain": [
       "<Figure size 720x360 with 1 Axes>"
      ]
     },
     "metadata": {
      "needs_background": "light"
     },
     "output_type": "display_data"
    }
   ],
   "source": [
    "plt.figure(figsize=(10,5))\n",
    "sns.histplot(data['Number_of_Reviews'],bins=10000)"
   ]
  },
  {
   "cell_type": "markdown",
   "id": "f838e7ab",
   "metadata": {},
   "source": [
    "В качестве эксперимента был произведен парсинг сайта TripAdvisor с целью заполнения пропусков. Но, метрика показала уменьшение точности, возможно это связано с тем что c 2017 года изменилось количество отзывов и это отражается на целевой переменной. Заполним пропущенные значения 1 для последующего логарифмирования"
   ]
  },
  {
   "cell_type": "code",
   "execution_count": 4542,
   "id": "3a5d4f8a",
   "metadata": {},
   "outputs": [],
   "source": [
    "'''from selenium.webdriver import Chrome\n",
    "keys = ['ID_TA']\n",
    "webdriver = \"chromedriver\"\n",
    "driver = Chrome(webdriver)\n",
    "url = \"https://www.tripadvisor.ru\"\n",
    "for i in range(len(data_without_reviews)):\n",
    "    c=data_without_reviews[\"URL_TA\"].iloc[i]\n",
    "    driver.get(f\"{url}{c}\")\n",
    "    rev_dict[data_without_reviews[\"ID_TA\"].iloc[i]]=0\n",
    "    try:\n",
    "        rev_dict[data_without_reviews[\"ID_TA\"].iloc[i]]=driver.find_element_by_class_name('eBTWs').text.split(' ')[0]\n",
    "    except:\n",
    "        continue\n",
    "reviews_pars=pd.DataFrame(rev_dict.items(),columns=['ID_TA','Number of Reviews'])\n",
    "data_without_reviews = data_without_reviews.set_index(keys).fillna(reviews_pars.set_index(keys)).reset_index()\n",
    "data_without_reviews=data_without_reviews[data_without_reviews['Number of Reviews'].isna()]''';"
   ]
  },
  {
   "cell_type": "code",
   "execution_count": 4543,
   "id": "34683d65",
   "metadata": {},
   "outputs": [],
   "source": [
    "data['Number_of_Reviews'].fillna(1, inplace=True)\n",
    "#data['Number of Reviews']=data['Number of Reviews']+0.00000001\n",
    "data['Number_of_Reviews'] = np.log(data['Number_of_Reviews'])"
   ]
  },
  {
   "cell_type": "code",
   "execution_count": 4544,
   "id": "a8265e43",
   "metadata": {},
   "outputs": [
    {
     "data": {
      "text/plain": [
       "<AxesSubplot:xlabel='Number_of_Reviews', ylabel='Count'>"
      ]
     },
     "execution_count": 4544,
     "metadata": {},
     "output_type": "execute_result"
    },
    {
     "data": {
      "image/png": "[encoded data removed]",
      "text/plain": [
       "<Figure size 720x360 with 1 Axes>"
      ]
     },
     "metadata": {
      "needs_background": "light"
     },
     "output_type": "display_data"
    }
   ],
   "source": [
    "plt.figure(figsize=(10,5))\n",
    "sns.histplot(data['Number_of_Reviews'],bins=50)"
   ]
  },
  {
   "cell_type": "markdown",
   "id": "c3726f4c",
   "metadata": {},
   "source": [
    "Для удаления выбросов воспользуемся доверительным интервалом. Получилось 7 выбросов. По условию задачи мы не можем удалять строки, заменим аномальные значения пограничными\n"
   ]
  },
  {
   "cell_type": "code",
   "execution_count": 4545,
   "id": "5114dcb3",
   "metadata": {},
   "outputs": [
    {
     "name": "stdout",
     "output_type": "stream",
     "text": [
      "25-й перцентиль: 1.9459101490553132, 75-й перцентиль: 4.653960350157523, IQR: 2.7080502011022096,  Границы выбросов: [-2.1161651525980005, 8.716035651810838].\n"
     ]
    }
   ],
   "source": [
    "f=borders_of_outliers(data['Number_of_Reviews'])[1]"
   ]
  },
  {
   "cell_type": "code",
   "execution_count": 4546,
   "id": "1badb84e",
   "metadata": {},
   "outputs": [],
   "source": [
    "data.loc[data.loc[:,\"Number_of_Reviews\"]>8.71,'Number_of_Reviews']=f"
   ]
  },
  {
   "cell_type": "markdown",
   "id": "b468e1b0",
   "metadata": {},
   "source": [
    "##### 5) Reviews"
   ]
  },
  {
   "cell_type": "code",
   "execution_count": 4547,
   "id": "29d4334b",
   "metadata": {},
   "outputs": [
    {
     "data": {
      "text/plain": [
       "count        49998\n",
       "unique       41857\n",
       "top       [[], []]\n",
       "freq          8112\n",
       "Name: Reviews, dtype: object"
      ]
     },
     "execution_count": 4547,
     "metadata": {},
     "output_type": "execute_result"
    }
   ],
   "source": [
    "data['Reviews'].describe()"
   ]
  },
  {
   "cell_type": "markdown",
   "id": "e190a555",
   "metadata": {},
   "source": [
    "В Reviews имеется 2 пропуска заполним их значениями \"[[], []]\""
   ]
  },
  {
   "cell_type": "code",
   "execution_count": 4548,
   "id": "f4bbfb4e",
   "metadata": {},
   "outputs": [],
   "source": [
    "data['Reviews'].fillna(\"[[], []]\", inplace=True)"
   ]
  },
  {
   "cell_type": "code",
   "execution_count": 4549,
   "id": "12df3ebb",
   "metadata": {},
   "outputs": [],
   "source": [
    "# извлечем из отзывов даты\n",
    "data['date_1'] = data['Reviews'].apply(lambda x: from_reviews_date(x)[\n",
    "    0] if (len(x) != 8) else None)\n",
    "data['date_2'] = data['Reviews'].apply(lambda x: from_reviews_date(\n",
    "    x)[1] if (len(from_reviews_date(x)) > 1) else None)\n",
    "data['date_1'] = data['date_1'].apply(lambda x: datetime.strptime(\n",
    "    x.strip(\"'\"), \"%m/%d/%Y\") if (x != None) else None)\n",
    "data['date_2'] = data['date_2'].apply(lambda x: datetime.strptime(\n",
    "    x.strip(\"'\"), \"%m/%d/%Y\") if (x != None) else None)"
   ]
  },
  {
   "cell_type": "code",
   "execution_count": 4550,
   "id": "9c774dde",
   "metadata": {},
   "outputs": [
    {
     "data": {
      "text/plain": [
       "NaT           8114\n",
       "2018-01-07     607\n",
       "2018-01-03     534\n",
       "2018-01-06     498\n",
       "2018-01-04     461\n",
       "              ... \n",
       "2013-09-26       1\n",
       "2013-11-01       1\n",
       "2013-10-25       1\n",
       "2012-07-01       1\n",
       "2012-08-10       1\n",
       "Name: date_1, Length: 1977, dtype: int64"
      ]
     },
     "execution_count": 4550,
     "metadata": {},
     "output_type": "execute_result"
    }
   ],
   "source": [
    "data['date_1'].value_counts(dropna=False)"
   ]
  },
  {
   "cell_type": "code",
   "execution_count": 4551,
   "id": "0c63f85f",
   "metadata": {},
   "outputs": [
    {
     "data": {
      "text/plain": [
       "NaT           13794\n",
       "2018-01-03      250\n",
       "2018-01-04      218\n",
       "2017-12-30      209\n",
       "2018-01-01      203\n",
       "              ...  \n",
       "2012-05-30        1\n",
       "2012-04-01        1\n",
       "2013-06-02        1\n",
       "2012-11-20        1\n",
       "2012-07-04        1\n",
       "Name: date_2, Length: 2070, dtype: int64"
      ]
     },
     "execution_count": 4551,
     "metadata": {},
     "output_type": "execute_result"
    }
   ],
   "source": [
    "data['date_2'].value_counts(dropna=False)"
   ]
  },
  {
   "cell_type": "markdown",
   "id": "2f43dbd8",
   "metadata": {},
   "source": [
    "В датах имеется много пропусков, посчитаем разницу в днях между отзывами и насколько старыми являются отзывы по сравнению с сегодняшним числом"
   ]
  },
  {
   "cell_type": "code",
   "execution_count": 4552,
   "id": "e91c6014",
   "metadata": {},
   "outputs": [],
   "source": [
    "data[\"delta\"] = (np.abs(data[\"date_1\"]-data[\"date_2\"])).dt.days"
   ]
  },
  {
   "cell_type": "code",
   "execution_count": 4553,
   "id": "44eb3e36",
   "metadata": {},
   "outputs": [],
   "source": [
    "data['from_now_1']=data[\"date_1\"].apply(lambda x:(datetime.now()-x).days)\n",
    "data['from_now_2']=data[\"date_2\"].apply(lambda x:(datetime.now()-x).days)"
   ]
  },
  {
   "cell_type": "markdown",
   "id": "782a97d6",
   "metadata": {},
   "source": [
    "Заполним пропуски 0"
   ]
  },
  {
   "cell_type": "code",
   "execution_count": 4554,
   "id": "b83d35fe",
   "metadata": {},
   "outputs": [],
   "source": [
    "data[\"delta\"].fillna(0,inplace=True)"
   ]
  },
  {
   "cell_type": "code",
   "execution_count": 4555,
   "id": "b9cf1687",
   "metadata": {},
   "outputs": [],
   "source": [
    "data[\"from_now_1\"].fillna(0,inplace=True)\n",
    "data[\"from_now_2\"].fillna(0,inplace=True)"
   ]
  },
  {
   "cell_type": "markdown",
   "id": "e0764064",
   "metadata": {},
   "source": [
    "Посмотрим на наличие emoji в отзывах, зачастую смайлы оставляют люди с позитивными отзывами"
   ]
  },
  {
   "cell_type": "code",
   "execution_count": 4556,
   "id": "f4a5f6df",
   "metadata": {},
   "outputs": [],
   "source": [
    "data['is_smile'] = data['Reviews'].apply(lambda x: is_emoji(str(x)))\n",
    "#data = pd.get_dummies(data, columns=['len_smile'])"
   ]
  },
  {
   "cell_type": "code",
   "execution_count": 4557,
   "id": "85124837",
   "metadata": {},
   "outputs": [
    {
     "data": {
      "image/png": "[encoded data removed]",
      "text/plain": [
       "<Figure size 576x360 with 1 Axes>"
      ]
     },
     "metadata": {
      "needs_background": "light"
     },
     "output_type": "display_data"
    }
   ],
   "source": [
    "plt.figure(figsize=(8,5))\n",
    "ax=sns.countplot(x='is_smile',data=data,palette='rocket')\n",
    "ax.set(xlabel='Наличие emoji',ylabel='Emoji')\n",
    "for p in ax.patches:\n",
    "        ax.annotate(p.get_height(), (p.get_x()+0.34, p.get_height()+350));"
   ]
  },
  {
   "cell_type": "markdown",
   "id": "72361c7b",
   "metadata": {},
   "source": [
    "С помощью  примитивного \"мешка слов\" определим тональность отзывов"
   ]
  },
  {
   "cell_type": "code",
   "execution_count": 4558,
   "id": "fabb3f06",
   "metadata": {},
   "outputs": [],
   "source": [
    "bag_of_words = {'positive': ['excellent', 'best', 'great', 'fantastic', 'wonderful', 'perfect',\n",
    "                             'delicious', 'amazing', 'honest', 'gem','super'], \n",
    "                \"negative\": ['wasting', 'terrible', 'horrible', 'racism', 'worst','bad','damn','garbage','trash']}\n",
    "data['tonal'] = data['Reviews'].apply(lambda x: tonal(str(x)))\n"
   ]
  },
  {
   "cell_type": "code",
   "execution_count": 4559,
   "id": "53a01751",
   "metadata": {},
   "outputs": [
    {
     "data": {
      "image/png": "[encoded data removed]",
      "text/plain": [
       "<Figure size 576x360 with 1 Axes>"
      ]
     },
     "metadata": {
      "needs_background": "light"
     },
     "output_type": "display_data"
    }
   ],
   "source": [
    "plt.figure(figsize=(8,5))\n",
    "ax=sns.countplot(x='tonal',data=data,palette='rocket')\n",
    "ax.set(xlabel='Наличие emoji',ylabel='Emoji')\n",
    "for p in ax.patches:\n",
    "        ax.annotate(p.get_height(), (p.get_x()+0.34, p.get_height()+350));"
   ]
  },
  {
   "cell_type": "code",
   "execution_count": 4560,
   "id": "c5b47e79",
   "metadata": {},
   "outputs": [],
   "source": [
    "data = pd.get_dummies(data, columns=['tonal'])"
   ]
  },
  {
   "cell_type": "markdown",
   "id": "088f0194",
   "metadata": {},
   "source": [
    "##### 6) ID_TA"
   ]
  },
  {
   "cell_type": "code",
   "execution_count": 4561,
   "id": "7e73cbc3",
   "metadata": {},
   "outputs": [],
   "source": [
    "data['code_ID_TA'] = data['ID_TA'].apply(lambda x: float(x[1:]))"
   ]
  },
  {
   "cell_type": "markdown",
   "id": "9bcc7c1c",
   "metadata": {},
   "source": [
    "Дополнительно может быть использован для парсинга данных"
   ]
  },
  {
   "cell_type": "markdown",
   "id": "e6a5cd70",
   "metadata": {},
   "source": [
    "##### 7) URL_TA\n"
   ]
  },
  {
   "cell_type": "code",
   "execution_count": 4562,
   "id": "78898f35",
   "metadata": {},
   "outputs": [],
   "source": [
    "data['code_after_g_URL_TA'] = data['URL_TA'].str.split('-').apply(lambda x: x[1][1:]).astype('float64')"
   ]
  },
  {
   "cell_type": "markdown",
   "id": "3a77fe2c",
   "metadata": {},
   "source": [
    "Дополнительно может быть использован для парсинга данных"
   ]
  },
  {
   "cell_type": "markdown",
   "id": "7b176614",
   "metadata": {},
   "source": [
    "##### 8) Ranking"
   ]
  },
  {
   "cell_type": "code",
   "execution_count": 4563,
   "id": "4c72b15f",
   "metadata": {},
   "outputs": [
    {
     "data": {
      "image/png": "[encoded data removed]",
      "text/plain": [
       "<Figure size 576x432 with 1 Axes>"
      ]
     },
     "metadata": {
      "needs_background": "light"
     },
     "output_type": "display_data"
    }
   ],
   "source": [
    "plt.figure(figsize=(8,6))\n",
    "for x in (data['City'].value_counts())[0:10].index:\n",
    "    data['Ranking'][data['City'] == x].hist(bins=100)\n",
    "plt.show()"
   ]
  },
  {
   "cell_type": "markdown",
   "id": "5214faf7",
   "metadata": {},
   "source": [
    "Отнормируем значения Ranking в зависимости от количества ресторанов в выборке по городам"
   ]
  },
  {
   "cell_type": "code",
   "execution_count": 4564,
   "id": "0a1b8d28",
   "metadata": {},
   "outputs": [],
   "source": [
    "sities_count = {}\n",
    "for k, v in data.groupby('City')['ID_TA'].count().items():\n",
    "    sities_count[k] = v"
   ]
  },
  {
   "cell_type": "code",
   "execution_count": 4565,
   "id": "a98104b9",
   "metadata": {},
   "outputs": [],
   "source": [
    "data['counts_rest'] = data['City'].apply(lambda x: sities_count[x])\n",
    "data[\"coef_Rank\"] = data['Ranking']/data['counts_rest']\n",
    "\n",
    "data.drop('counts_rest', axis=1, inplace=True)"
   ]
  },
  {
   "cell_type": "code",
   "execution_count": 4566,
   "id": "23bc46d5",
   "metadata": {},
   "outputs": [
    {
     "data": {
      "image/png": "[encoded data removed]",
      "text/plain": [
       "<Figure size 576x432 with 1 Axes>"
      ]
     },
     "metadata": {
      "needs_background": "light"
     },
     "output_type": "display_data"
    }
   ],
   "source": [
    "plt.figure(figsize=(8,6))\n",
    "for x in (data['City'].value_counts())[0:10].index:\n",
    "    data['coef_Rank'][data['City'] == x].hist(bins=100)\n",
    "plt.show()"
   ]
  },
  {
   "cell_type": "markdown",
   "id": "dcdab46b",
   "metadata": {},
   "source": [
    "##### 8) City"
   ]
  },
  {
   "cell_type": "code",
   "execution_count": 4567,
   "id": "68c4db99",
   "metadata": {},
   "outputs": [
    {
     "data": {
      "text/plain": [
       "London        7193\n",
       "Paris         6108\n",
       "Madrid        3813\n",
       "Barcelona     3395\n",
       "Berlin        2705\n",
       "Milan         2694\n",
       "Rome          2589\n",
       "Prague        1816\n",
       "Lisbon        1647\n",
       "Vienna        1443\n",
       "Amsterdam     1372\n",
       "Brussels      1314\n",
       "Hamburg       1186\n",
       "Munich        1145\n",
       "Lyon          1126\n",
       "Stockholm     1033\n",
       "Budapest      1021\n",
       "Warsaw         925\n",
       "Dublin         836\n",
       "Copenhagen     819\n",
       "Athens         776\n",
       "Edinburgh      745\n",
       "Zurich         685\n",
       "Oporto         642\n",
       "Geneva         590\n",
       "Krakow         554\n",
       "Oslo           488\n",
       "Helsinki       475\n",
       "Bratislava     380\n",
       "Luxembourg     263\n",
       "Ljubljana      222\n",
       "Name: City, dtype: int64"
      ]
     },
     "execution_count": 4567,
     "metadata": {},
     "output_type": "execute_result"
    }
   ],
   "source": [
    "data['City'].value_counts()"
   ]
  },
  {
   "cell_type": "code",
   "execution_count": 4568,
   "id": "fb1c3a8d",
   "metadata": {},
   "outputs": [],
   "source": [
    " #является ли город столицей\n",
    "list_Of_NotCapitalCity = ['Barcelona', 'Milan', 'Hamburg', 'Munich', \n",
    "                          'Lyon', 'Zurich', 'Oporto', 'Geneva', 'Krakow']\n",
    "data['Capital_City'] = data['City'].apply(lambda x: 0.0 if x in list_Of_NotCapitalCity else 1.0)\n",
    "\n",
    "\n",
    " #Отношение к какой стране\n",
    "dict_Сountries = {'London' : 'England', 'Paris' : 'France', 'Madrid' : 'Spain', \n",
    "                  'Barcelona' : 'Spain', 'Berlin' : 'Germany', 'Milan' : 'Italy', \n",
    "                  'Rome' : 'Italy', 'Prague' : 'Czech_c', 'Lisbon' : 'Portugal', \n",
    "                  'Vienna' : 'Austria', 'Amsterdam' : 'Holland', \n",
    "                  'Brussels' : 'Belgium', 'Hamburg' : 'Germany', 'Munich' : 'Germany', \n",
    "                  'Lyon' : 'France', 'Stockholm' : 'Sweden', 'Budapest' : 'Romania', \n",
    "                  'Warsaw' : 'Poland', 'Dublin' : 'Ireland', 'Copenhagen' : 'Denmark', \n",
    "                  'Athens' : 'Greece', 'Edinburgh' : 'Scotland', 'Zurich' : 'Switzerland', \n",
    "                  'Oporto' : 'Portugal', 'Geneva' : 'Switzerland', 'Krakow' : 'Poland', \n",
    "                  'Oslo' : 'Norway', 'Helsinki' : 'Finland', 'Bratislava' : 'Slovakia', \n",
    "                  'Luxembourg' : 'Luxembourg_c', 'Ljubljana' : 'Slovenia'}\n",
    "data['Сountry'] = data.apply(lambda row: dict_Сountries[row['City']], axis = 1)\n",
    "\n",
    "#Закодируем принадлежность к стране\n",
    "le = LabelEncoder()\n",
    "le.fit(data['Сountry'])\n",
    "data['code_Сountry'] = le.transform(data['Сountry'])\n",
    "data.drop('Сountry', axis=1, inplace=True)\n",
    "\n",
    "#Популяция города\n",
    "dict_Сity_population= {'London' : 8908, 'Paris' : 2206, 'Madrid' : 3223, 'Barcelona' : 1620, \n",
    "                        'Berlin' : 6010, 'Milan' : 1366, 'Rome' : 2872, 'Prague' : 1308, \n",
    "                        'Lisbon' : 506, 'Vienna' : 1888, 'Amsterdam' : 860, 'Brussels' : 179, \n",
    "                        'Hamburg' : 1841, 'Munich' : 1457, 'Lyon' : 506, 'Stockholm' : 961, \n",
    "                        'Budapest' : 1752, 'Warsaw' : 1764, 'Dublin' : 553, \n",
    "                        'Copenhagen' : 616, 'Athens' : 665, 'Edinburgh' : 513, \n",
    "                        'Zurich' : 415, 'Oporto' : 240, 'Geneva' : 201, 'Krakow' : 769, \n",
    "                        'Oslo' : 681, 'Helsinki' : 643, 'Bratislava' : 426, \n",
    "                        'Luxembourg' : 119, 'Ljubljana' : 284}\n",
    "data['Сity_population'] = data.apply(lambda row: dict_Сity_population[row['City']], axis = 1)"
   ]
  },
  {
   "cell_type": "code",
   "execution_count": 4569,
   "id": "000eb7ed",
   "metadata": {},
   "outputs": [],
   "source": [
    "data = pd.get_dummies(data, columns=['City'])"
   ]
  },
  {
   "cell_type": "markdown",
   "id": "1b913075",
   "metadata": {},
   "source": [
    "Добавлены следующие признаки:<br>\n",
    "1) Является ли город столицей <br>\n",
    "2) В какой стране находится город<br>\n",
    "3) Население города"
   ]
  },
  {
   "cell_type": "markdown",
   "id": "1f3cbeed",
   "metadata": {},
   "source": [
    "### Финальная обработка данных перед загрузкой в модель"
   ]
  },
  {
   "cell_type": "code",
   "execution_count": 4570,
   "id": "a93435b0",
   "metadata": {},
   "outputs": [],
   "source": [
    "data.drop(['Cuisine Style','Reviews', 'URL_TA', 'ID_TA', 'date_1',\"date_2\" ], axis=1, inplace=True, errors='ignore')\n"
   ]
  },
  {
   "cell_type": "code",
   "execution_count": 4571,
   "id": "005d46b2",
   "metadata": {},
   "outputs": [],
   "source": [
    "# функция для стандартизации\n",
    "def StandardScaler_column(d_col):\n",
    "    scaler = StandardScaler()\n",
    "    scaler.fit(data[[d_col]])\n",
    "    return scaler.transform(data[[d_col]])\n",
    "# стандартизируем все столбцы кроме целевой и sample\n",
    "for i  in list(data.columns):\n",
    "    if i not in ['Rating','sample']:\n",
    "        data[i] = StandardScaler_column(i)"
   ]
  },
  {
   "cell_type": "code",
   "execution_count": 4572,
   "id": "a890ee67",
   "metadata": {},
   "outputs": [
    {
     "data": {
      "text/html": [
       "<div>\n",
       "<style scoped>\n",
       "    .dataframe tbody tr th:only-of-type {\n",
       "        vertical-align: middle;\n",
       "    }\n",
       "\n",
       "    .dataframe tbody tr th {\n",
       "        vertical-align: top;\n",
       "    }\n",
       "\n",
       "    .dataframe thead th {\n",
       "        text-align: right;\n",
       "    }\n",
       "</style>\n",
       "<table border=\"1\" class=\"dataframe\">\n",
       "  <thead>\n",
       "    <tr style=\"text-align: right;\">\n",
       "      <th></th>\n",
       "      <th>Ranking</th>\n",
       "      <th>Price Range</th>\n",
       "      <th>Number_of_Reviews</th>\n",
       "      <th>sample</th>\n",
       "      <th>Rating</th>\n",
       "      <th>is_popular</th>\n",
       "      <th>is_rare</th>\n",
       "      <th>is_alco</th>\n",
       "      <th>len</th>\n",
       "      <th>delta</th>\n",
       "      <th>from_now_1</th>\n",
       "      <th>from_now_2</th>\n",
       "      <th>is_smile</th>\n",
       "      <th>tonal_negative</th>\n",
       "      <th>tonal_neutral</th>\n",
       "      <th>tonal_positive</th>\n",
       "      <th>code_ID_TA</th>\n",
       "      <th>code_after_g_URL_TA</th>\n",
       "      <th>coef_Rank</th>\n",
       "      <th>Capital_City</th>\n",
       "      <th>code_Сountry</th>\n",
       "      <th>Сity_population</th>\n",
       "      <th>City_Amsterdam</th>\n",
       "      <th>City_Athens</th>\n",
       "      <th>City_Barcelona</th>\n",
       "      <th>City_Berlin</th>\n",
       "      <th>City_Bratislava</th>\n",
       "      <th>City_Brussels</th>\n",
       "      <th>City_Budapest</th>\n",
       "      <th>City_Copenhagen</th>\n",
       "      <th>City_Dublin</th>\n",
       "      <th>City_Edinburgh</th>\n",
       "      <th>City_Geneva</th>\n",
       "      <th>City_Hamburg</th>\n",
       "      <th>City_Helsinki</th>\n",
       "      <th>City_Krakow</th>\n",
       "      <th>City_Lisbon</th>\n",
       "      <th>City_Ljubljana</th>\n",
       "      <th>City_London</th>\n",
       "      <th>City_Luxembourg</th>\n",
       "      <th>City_Lyon</th>\n",
       "      <th>City_Madrid</th>\n",
       "      <th>City_Milan</th>\n",
       "      <th>City_Munich</th>\n",
       "      <th>City_Oporto</th>\n",
       "      <th>City_Oslo</th>\n",
       "      <th>City_Paris</th>\n",
       "      <th>City_Prague</th>\n",
       "      <th>City_Rome</th>\n",
       "      <th>City_Stockholm</th>\n",
       "      <th>City_Vienna</th>\n",
       "      <th>City_Warsaw</th>\n",
       "      <th>City_Zurich</th>\n",
       "    </tr>\n",
       "  </thead>\n",
       "  <tbody>\n",
       "    <tr>\n",
       "      <th>count</th>\n",
       "      <td>50000.0</td>\n",
       "      <td>50000.0</td>\n",
       "      <td>50000.0</td>\n",
       "      <td>50000.0</td>\n",
       "      <td>50000.0</td>\n",
       "      <td>50000.0</td>\n",
       "      <td>50000.0</td>\n",
       "      <td>50000.0</td>\n",
       "      <td>50000.0</td>\n",
       "      <td>50000.0</td>\n",
       "      <td>50000.0</td>\n",
       "      <td>50000.0</td>\n",
       "      <td>50000.0</td>\n",
       "      <td>50000.0</td>\n",
       "      <td>50000.0</td>\n",
       "      <td>50000.0</td>\n",
       "      <td>50000.0</td>\n",
       "      <td>50000.0</td>\n",
       "      <td>50000.0</td>\n",
       "      <td>50000.0</td>\n",
       "      <td>50000.0</td>\n",
       "      <td>50000.0</td>\n",
       "      <td>50000.0</td>\n",
       "      <td>50000.0</td>\n",
       "      <td>50000.0</td>\n",
       "      <td>50000.0</td>\n",
       "      <td>50000.0</td>\n",
       "      <td>50000.0</td>\n",
       "      <td>50000.0</td>\n",
       "      <td>50000.0</td>\n",
       "      <td>50000.0</td>\n",
       "      <td>50000.0</td>\n",
       "      <td>50000.0</td>\n",
       "      <td>50000.0</td>\n",
       "      <td>50000.0</td>\n",
       "      <td>50000.0</td>\n",
       "      <td>50000.0</td>\n",
       "      <td>50000.0</td>\n",
       "      <td>50000.0</td>\n",
       "      <td>50000.0</td>\n",
       "      <td>50000.0</td>\n",
       "      <td>50000.0</td>\n",
       "      <td>50000.0</td>\n",
       "      <td>50000.0</td>\n",
       "      <td>50000.0</td>\n",
       "      <td>50000.0</td>\n",
       "      <td>50000.0</td>\n",
       "      <td>50000.0</td>\n",
       "      <td>50000.0</td>\n",
       "      <td>50000.0</td>\n",
       "      <td>50000.0</td>\n",
       "      <td>50000.0</td>\n",
       "      <td>50000.0</td>\n",
       "    </tr>\n",
       "  </tbody>\n",
       "</table>\n",
       "</div>"
      ],
      "text/plain": [
       "       Ranking  Price Range  Number_of_Reviews   sample   Rating  is_popular  \\\n",
       "count  50000.0      50000.0            50000.0  50000.0  50000.0     50000.0   \n",
       "\n",
       "       is_rare  is_alco      len    delta  from_now_1  from_now_2  is_smile  \\\n",
       "count  50000.0  50000.0  50000.0  50000.0     50000.0     50000.0   50000.0   \n",
       "\n",
       "       tonal_negative  tonal_neutral  tonal_positive  code_ID_TA  \\\n",
       "count         50000.0        50000.0         50000.0     50000.0   \n",
       "\n",
       "       code_after_g_URL_TA  coef_Rank  Capital_City  code_Сountry  \\\n",
       "count              50000.0    50000.0       50000.0       50000.0   \n",
       "\n",
       "       Сity_population  City_Amsterdam  City_Athens  City_Barcelona  \\\n",
       "count          50000.0         50000.0      50000.0         50000.0   \n",
       "\n",
       "       City_Berlin  City_Bratislava  City_Brussels  City_Budapest  \\\n",
       "count      50000.0          50000.0        50000.0        50000.0   \n",
       "\n",
       "       City_Copenhagen  City_Dublin  City_Edinburgh  City_Geneva  \\\n",
       "count          50000.0      50000.0         50000.0      50000.0   \n",
       "\n",
       "       City_Hamburg  City_Helsinki  City_Krakow  City_Lisbon  City_Ljubljana  \\\n",
       "count       50000.0        50000.0      50000.0      50000.0         50000.0   \n",
       "\n",
       "       City_London  City_Luxembourg  City_Lyon  City_Madrid  City_Milan  \\\n",
       "count      50000.0          50000.0    50000.0      50000.0     50000.0   \n",
       "\n",
       "       City_Munich  City_Oporto  City_Oslo  City_Paris  City_Prague  \\\n",
       "count      50000.0      50000.0    50000.0     50000.0      50000.0   \n",
       "\n",
       "       City_Rome  City_Stockholm  City_Vienna  City_Warsaw  City_Zurich  \n",
       "count    50000.0         50000.0      50000.0      50000.0      50000.0  "
      ]
     },
     "metadata": {},
     "output_type": "display_data"
    }
   ],
   "source": [
    "display(data.describe().head(1)) # Проверяем заполненность всех полей"
   ]
  },
  {
   "cell_type": "code",
   "execution_count": 4573,
   "id": "35306bb9",
   "metadata": {},
   "outputs": [],
   "source": [
    "my_submissions = df_test['Restaurant_id']"
   ]
  },
  {
   "cell_type": "markdown",
   "id": "3a559b87",
   "metadata": {},
   "source": [
    "#### Разбиваем датасет на тренировочный и тестовый"
   ]
  },
  {
   "cell_type": "code",
   "execution_count": 4574,
   "id": "74ef7205",
   "metadata": {},
   "outputs": [],
   "source": [
    "train_data = data.query('sample == 1').drop(['sample'], axis=1)\n",
    "test = data.query('sample == 0').drop(['sample'], axis=1)\n",
    "\n",
    "\n",
    "y = train_data.Rating.values            # наш таргет"
   ]
  },
  {
   "cell_type": "code",
   "execution_count": 4575,
   "id": "9ea19b3c",
   "metadata": {},
   "outputs": [],
   "source": [
    "X = train_data.drop('Rating', axis=1)"
   ]
  },
  {
   "cell_type": "code",
   "execution_count": 4576,
   "id": "46d141c1",
   "metadata": {},
   "outputs": [],
   "source": [
    "test = test.drop('Rating', axis=1)"
   ]
  },
  {
   "cell_type": "code",
   "execution_count": 4577,
   "id": "45bf88d6",
   "metadata": {},
   "outputs": [],
   "source": [
    "X_train, X_test, y_train, y_test = train_test_split(X, y, test_size=0.2)"
   ]
  },
  {
   "cell_type": "markdown",
   "id": "b83e00f2",
   "metadata": {},
   "source": [
    "#### Обучаем модель, генерируем результат и сравниваем с тестом"
   ]
  },
  {
   "cell_type": "code",
   "execution_count": 4578,
   "id": "d6a22779",
   "metadata": {},
   "outputs": [],
   "source": [
    "regr = RandomForestRegressor(n_estimators=100)\n",
    "regr.fit(X_train, y_train)\n",
    "y_pred = regr.predict(X_test)\n",
    "y_pred = np.round(y_pred * 2) / 2"
   ]
  },
  {
   "cell_type": "code",
   "execution_count": 4579,
   "id": "b82df75b",
   "metadata": {},
   "outputs": [
    {
     "name": "stdout",
     "output_type": "stream",
     "text": [
      "MAE: 0.162875\n"
     ]
    }
   ],
   "source": [
    "print('MAE:', metrics.mean_absolute_error(y_test, y_pred))"
   ]
  },
  {
   "cell_type": "markdown",
   "id": "aa73d491",
   "metadata": {},
   "source": [
    "LAST MAE: 0.166625"
   ]
  },
  {
   "cell_type": "markdown",
   "id": "e57843b2",
   "metadata": {},
   "source": [
    " BEST   MAE: 0.166625"
   ]
  },
  {
   "cell_type": "code",
   "execution_count": 4580,
   "id": "11fed9fa",
   "metadata": {},
   "outputs": [],
   "source": [
    "predictions = regr.predict(test)\n",
    "predictions = np.round(predictions * 2) / 2\n",
    "\n",
    "my_submissions = pd.DataFrame(\n",
    "    {'Restaurant_id': my_submissions.values, 'Rating': predictions})\n",
    "my_submissions.to_csv('my_submissions.csv', index=False)"
   ]
  },
  {
   "cell_type": "code",
   "execution_count": 4581,
   "id": "cffe8b66",
   "metadata": {},
   "outputs": [
    {
     "data": {
      "text/plain": [
       "<AxesSubplot:>"
      ]
     },
     "execution_count": 4581,
     "metadata": {},
     "output_type": "execute_result"
    },
    {
     "data": {
      "image/png": "[encoded data removed]",
      "text/plain": [
       "<Figure size 864x720 with 1 Axes>"
      ]
     },
     "metadata": {
      "needs_background": "light"
     },
     "output_type": "display_data"
    }
   ],
   "source": [
    "# в RandomForestRegressor есть возможность вывести самые важные признаки для модели\n",
    "plt.rcParams['figure.figsize'] = (12,10)\n",
    "feat_importances = pd.Series(regr.feature_importances_, index=X.columns)\n",
    "feat_importances.nlargest(15).plot(kind='barh')"
   ]
  },
  {
   "cell_type": "code",
   "execution_count": 4582,
   "id": "35d57d3c",
   "metadata": {},
   "outputs": [
    {
     "data": {
      "text/plain": [
       "(15.5, -0.5)"
      ]
     },
     "execution_count": 4582,
     "metadata": {},
     "output_type": "execute_result"
    },
    {
     "data": {
      "image/png": "[encoded data removed]",
      "text/plain": [
       "<Figure size 864x432 with 2 Axes>"
      ]
     },
     "metadata": {
      "needs_background": "light"
     },
     "output_type": "display_data"
    }
   ],
   "source": [
    "df_temp = data.loc[data['sample'] == 1, list(feat_importances.nlargest(15).index[0:15])]\n",
    "plt.rcParams['figure.figsize'] = (12,6)\n",
    "ax = sns.heatmap(df_temp.corr(), annot=True, fmt='.2g')\n",
    "i, k = ax.get_ylim()\n",
    "ax.set_ylim(i+0.5, k-0.5)"
   ]
  },
  {
   "cell_type": "code",
   "execution_count": null,
   "id": "2df68d9f",
   "metadata": {},
   "outputs": [],
   "source": []
  },
  {
   "cell_type": "code",
   "execution_count": 4583,
   "id": "9cd2835f",
   "metadata": {},
   "outputs": [],
   "source": [
    "#MAE=metrics.mean_absolute_error(y_test, y_pred)"
   ]
  },
  {
   "cell_type": "code",
   "execution_count": 4584,
   "id": "106d2ca0",
   "metadata": {},
   "outputs": [],
   "source": [
    "'''# блок тестирования закомментирован так как список критериев для удаления с помощью него уже был сгенерирован\n",
    "# # блок тестирования оптимального набора\n",
    "list_ofAllColumnsSortImportant = list(feat_importances.nlargest(len(train_data.columns)-1).index)\n",
    "min_MAE = round(MAE,3)\n",
    "print(f\"min_MAE = {min_MAE}\")\n",
    "remove_list = []\n",
    "log = []\n",
    "delta =0.002\n",
    "for i in range(0,len(list_ofAllColumnsSortImportant),1):\n",
    "    col = list_ofAllColumnsSortImportant[i]\n",
    "    print(f\"{i}.{col}\")\n",
    "\n",
    "    train_data = data.query('sample == 1').drop(['sample'], axis=1)\n",
    "    test_data = data.query('sample == 0').drop(['sample'], axis=1)\n",
    "\n",
    "    y = train_data.Rating.values            # наш таргет\n",
    "    X = train_data.drop(['Rating']+[col], axis=1)\n",
    "\n",
    "#     # Воспользуемся специальной функцие train_test_split для разбивки тестовых данных\n",
    "#     # выделим 20% данных на валидацию (параметр test_size)\n",
    "    X_train, X_test, y_train, y_test = train_test_split(X, y, test_size=0.2, random_state=42)\n",
    "    print(test_data.shape, train_data.shape, X.shape, X_train.shape, X_test.shape)\n",
    "\n",
    "    regr.fit(X_train, y_train)\n",
    "\n",
    "    y_pred = regr.predict(X_test)\n",
    "\n",
    "    y_pred = np.round(y_pred * 2) / 2\n",
    "    temp_MAE = metrics.mean_absolute_error(y_test, y_pred)\n",
    "#     ###\n",
    "    print(temp_MAE)\n",
    "    log.append([col, temp_MAE])\n",
    "    if round(temp_MAE,3) <= min_MAE-delta:\n",
    "        remove_list.append(col)\n",
    "        print(f\"удаляем:= {col}\")\n",
    "    else:\n",
    "        print(f\"не удаляем:= {col}\")\n",
    "print(f\"i={i}\")\n",
    "print(f\"remove_list: {remove_list}\")\n",
    "print(f\"log_list: {log}\")''';"
   ]
  },
  {
   "cell_type": "code",
   "execution_count": null,
   "id": "f1a6fecd",
   "metadata": {},
   "outputs": [],
   "source": []
  },
  {
   "cell_type": "code",
   "execution_count": 4585,
   "id": "b518da3f",
   "metadata": {},
   "outputs": [],
   "source": [
    "#reviews_pars.to_csv('reviews_pars.csv',index=False)"
   ]
  },
  {
   "cell_type": "code",
   "execution_count": 4586,
   "id": "db5d4ed8",
   "metadata": {},
   "outputs": [],
   "source": [
    "#reviews_pars=pd.DataFrame(rev_dict.items(),columns=['ID_TA','Number of Reviews'])"
   ]
  }
 ],
 "metadata": {
  "kernelspec": {
   "display_name": "Python 3 (ipykernel)",
   "language": "python",
   "name": "python3"
  },
  "language_info": {
   "codemirror_mode": {
    "name": "ipython",
    "version": 3
   },
   "file_extension": ".py",
   "mimetype": "text/x-python",
   "name": "python",
   "nbconvert_exporter": "python",
   "pygments_lexer": "ipython3",
   "version": "3.8.11"
  }
 },
 "nbformat": 4,
 "nbformat_minor": 5
}
