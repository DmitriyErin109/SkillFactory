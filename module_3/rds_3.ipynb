{
 "cells": [
  {
   "cell_type": "markdown",
   "id": "5655266d",
   "metadata": {
    "papermill": {
     "duration": 0.059971,
     "end_time": "2021-12-16T19:34:30.032068",
     "exception": false,
     "start_time": "2021-12-16T19:34:29.972097",
     "status": "completed"
    },
    "tags": []
   },
   "source": [
    "### Проект №3 \"О вкусной и здоровой пище\""
   ]
  },
  {
   "cell_type": "markdown",
   "id": "1614d9b0",
   "metadata": {
    "papermill": {
     "duration": 0.056266,
     "end_time": "2021-12-16T19:34:30.145170",
     "exception": false,
     "start_time": "2021-12-16T19:34:30.088904",
     "status": "completed"
    },
    "tags": []
   },
   "source": [
    "#### Импорт библиотек "
   ]
  },
  {
   "cell_type": "code",
   "execution_count": 1,
   "id": "f89764ee",
   "metadata": {
    "execution": {
     "iopub.execute_input": "2021-12-16T19:34:30.265252Z",
     "iopub.status.busy": "2021-12-16T19:34:30.263736Z",
     "iopub.status.idle": "2021-12-16T19:34:32.442103Z",
     "shell.execute_reply": "2021-12-16T19:34:32.441521Z",
     "shell.execute_reply.started": "2021-12-16T19:29:30.147795Z"
    },
    "papermill": {
     "duration": 2.24055,
     "end_time": "2021-12-16T19:34:32.442275",
     "exception": false,
     "start_time": "2021-12-16T19:34:30.201725",
     "status": "completed"
    },
    "tags": []
   },
   "outputs": [],
   "source": [
    "import pandas as pd\n",
    "from datetime import datetime\n",
    "from sklearn.model_selection import train_test_split\n",
    "from sklearn.preprocessing import StandardScaler, MinMaxScaler\n",
    "from sklearn.ensemble import RandomForestRegressor\n",
    "from sklearn import metrics\n",
    "import numpy as np\n",
    "import seaborn as sns\n",
    "from emoji import UNICODE_EMOJI\n",
    "import pandas_profiling\n",
    "import random\n",
    "import matplotlib.pyplot as plt\n",
    "from sklearn.preprocessing import LabelEncoder\n",
    "%matplotlib inline\n",
    "random.seed(42)\n",
    "np.random.seed(42)\n",
    "pd.set_option('display.max_columns', 200)"
   ]
  },
  {
   "cell_type": "code",
   "execution_count": 2,
   "id": "9c5aaa88",
   "metadata": {
    "execution": {
     "iopub.execute_input": "2021-12-16T19:34:32.562875Z",
     "iopub.status.busy": "2021-12-16T19:34:32.562181Z",
     "iopub.status.idle": "2021-12-16T19:34:32.567399Z",
     "shell.execute_reply": "2021-12-16T19:34:32.567927Z",
     "shell.execute_reply.started": "2021-12-16T19:29:30.163979Z"
    },
    "papermill": {
     "duration": 0.067505,
     "end_time": "2021-12-16T19:34:32.568121",
     "exception": false,
     "start_time": "2021-12-16T19:34:32.500616",
     "status": "completed"
    },
    "tags": []
   },
   "outputs": [
    {
     "name": "stdout",
     "output_type": "stream",
     "text": [
      "/kaggle/input/sf-dst-restaurant-rating/sample_submission.csv\n",
      "/kaggle/input/sf-dst-restaurant-rating/main_task.csv\n",
      "/kaggle/input/sf-dst-restaurant-rating/kaggle_task.csv\n"
     ]
    }
   ],
   "source": [
    "import os\n",
    "for dirname, _, filenames in os.walk('/kaggle/input'):\n",
    "    for filename in filenames:\n",
    "        print(os.path.join(dirname, filename))"
   ]
  },
  {
   "cell_type": "markdown",
   "id": "d65f003a",
   "metadata": {
    "papermill": {
     "duration": 0.057244,
     "end_time": "2021-12-16T19:34:32.683600",
     "exception": false,
     "start_time": "2021-12-16T19:34:32.626356",
     "status": "completed"
    },
    "tags": []
   },
   "source": [
    "#### Функции"
   ]
  },
  {
   "cell_type": "code",
   "execution_count": 3,
   "id": "a9793df1",
   "metadata": {
    "execution": {
     "iopub.execute_input": "2021-12-16T19:34:32.812793Z",
     "iopub.status.busy": "2021-12-16T19:34:32.811985Z",
     "iopub.status.idle": "2021-12-16T19:34:32.813988Z",
     "shell.execute_reply": "2021-12-16T19:34:32.814433Z",
     "shell.execute_reply.started": "2021-12-16T19:29:30.179216Z"
    },
    "papermill": {
     "duration": 0.072992,
     "end_time": "2021-12-16T19:34:32.814575",
     "exception": false,
     "start_time": "2021-12-16T19:34:32.741583",
     "status": "completed"
    },
    "tags": []
   },
   "outputs": [],
   "source": [
    "def edit_cuisine(x): \n",
    "    if type(x) == float:\n",
    "        return x\n",
    "    return x[1:-1].strip(' ').split(', ')\n",
    "\n",
    "\n",
    "def from_reviews_date(x): #извлечение даты из отзывов\n",
    "    l = []\n",
    "    z = x[:-2].split('], [')[1].split(', ')\n",
    "    for i in range(len(z)):\n",
    "        l.append(z[i])\n",
    "    return l\n",
    "\n",
    "\n",
    "def is_emoji(s): # наличие смайлов\n",
    "    decode = s.encode('unicode-escape')\n",
    "    l = [c for c in s if c in UNICODE_EMOJI['en']]\n",
    "    if len(l) > 0:\n",
    "        return 1\n",
    "    return 0\n",
    "\n",
    "\n",
    "def tonal(s): # определение тональности\n",
    "    s = s.lower()\n",
    "    for i in bag_of_words['positive']:\n",
    "        if s.count(i):\n",
    "            return('positive')\n",
    "    for i in bag_of_words['negative']:\n",
    "        if s.count(i):\n",
    "            return('negative')\n",
    "    return('neutral')\n",
    "\n",
    "\n",
    "def is_popular(x):\n",
    "    if type(x) == float:\n",
    "        return 0\n",
    "    for i in x:\n",
    "        if i in top_kit:\n",
    "            return 1\n",
    "    return 0\n",
    "\n",
    "\n",
    "def is_rare(x):\n",
    "    if type(x) == float:\n",
    "        return 0\n",
    "    for i in x:\n",
    "        if i in rare_kit:\n",
    "            return 1\n",
    "    return 0\n",
    "\n",
    "\n",
    "def is_alco(x): \n",
    "    for i in alco:\n",
    "        if str(x).count(i):\n",
    "            return 1\n",
    "        return 0\n",
    "\n",
    "\n",
    "def borders_of_outliers(x): # функция поиска доверительных интервалов\n",
    "    IQR = x.quantile(0.75) - x.quantile(0.25)\n",
    "    perc25 = x.quantile(0.25)\n",
    "    perc75 = x.quantile(0.75)\n",
    "    f = perc25 - 1.5*IQR\n",
    "    l = perc75 + 1.5*IQR\n",
    "    print('25-й перцентиль: {},'.format(perc25), '75-й перцентиль: {},'.format(perc75),\n",
    "          \"IQR: {}, \".format(IQR), \"Границы выбросов: [{}, {}].\".format(f, l))\n",
    "    return f, l\n",
    "\n"
   ]
  },
  {
   "cell_type": "markdown",
   "id": "c18e06fc",
   "metadata": {
    "papermill": {
     "duration": 0.058242,
     "end_time": "2021-12-16T19:34:32.930503",
     "exception": false,
     "start_time": "2021-12-16T19:34:32.872261",
     "status": "completed"
    },
    "tags": []
   },
   "source": [
    "#### Импорт данных"
   ]
  },
  {
   "cell_type": "code",
   "execution_count": 4,
   "id": "02f87260",
   "metadata": {
    "execution": {
     "iopub.execute_input": "2021-12-16T19:34:33.049895Z",
     "iopub.status.busy": "2021-12-16T19:34:33.048207Z",
     "iopub.status.idle": "2021-12-16T19:34:33.373840Z",
     "shell.execute_reply": "2021-12-16T19:34:33.373358Z",
     "shell.execute_reply.started": "2021-12-16T19:29:30.194966Z"
    },
    "papermill": {
     "duration": 0.386219,
     "end_time": "2021-12-16T19:34:33.373969",
     "exception": false,
     "start_time": "2021-12-16T19:34:32.987750",
     "status": "completed"
    },
    "tags": []
   },
   "outputs": [],
   "source": [
    "DATA_DIR = '/kaggle/input/sf-dst-restaurant-rating/'\n",
    "df_train = pd.read_csv(DATA_DIR + '/main_task.csv')\n",
    "df_test = pd.read_csv(DATA_DIR + 'kaggle_task.csv')\n"
   ]
  },
  {
   "cell_type": "code",
   "execution_count": 5,
   "id": "bab186ef",
   "metadata": {
    "execution": {
     "iopub.execute_input": "2021-12-16T19:34:33.507500Z",
     "iopub.status.busy": "2021-12-16T19:34:33.502896Z",
     "iopub.status.idle": "2021-12-16T19:34:33.538371Z",
     "shell.execute_reply": "2021-12-16T19:34:33.537870Z",
     "shell.execute_reply.started": "2021-12-16T19:29:30.476413Z"
    },
    "papermill": {
     "duration": 0.106824,
     "end_time": "2021-12-16T19:34:33.538502",
     "exception": false,
     "start_time": "2021-12-16T19:34:33.431678",
     "status": "completed"
    },
    "tags": []
   },
   "outputs": [],
   "source": [
    "df_train['sample'] = 1  # помечаем где у нас трейн\n",
    "df_test['sample'] = 0  # помечаем где у нас тест\n",
    "# в тесте у нас нет значения Rating, мы его должны предсказать, по этому пока просто заполняем нулями\n",
    "df_test['Rating'] = 0\n",
    "\n",
    "data = df_test.append(df_train, sort=False).reset_index(\n",
    "    drop=True)  # объединяем"
   ]
  },
  {
   "cell_type": "code",
   "execution_count": 6,
   "id": "ccde17dc",
   "metadata": {
    "execution": {
     "iopub.execute_input": "2021-12-16T19:34:33.661314Z",
     "iopub.status.busy": "2021-12-16T19:34:33.660333Z",
     "iopub.status.idle": "2021-12-16T19:34:33.688475Z",
     "shell.execute_reply": "2021-12-16T19:34:33.688006Z",
     "shell.execute_reply.started": "2021-12-16T19:29:30.511897Z"
    },
    "papermill": {
     "duration": 0.091875,
     "end_time": "2021-12-16T19:34:33.688595",
     "exception": false,
     "start_time": "2021-12-16T19:34:33.596720",
     "status": "completed"
    },
    "tags": []
   },
   "outputs": [
    {
     "data": {
      "text/html": [
       "<div>\n",
       "<style scoped>\n",
       "    .dataframe tbody tr th:only-of-type {\n",
       "        vertical-align: middle;\n",
       "    }\n",
       "\n",
       "    .dataframe tbody tr th {\n",
       "        vertical-align: top;\n",
       "    }\n",
       "\n",
       "    .dataframe thead th {\n",
       "        text-align: right;\n",
       "    }\n",
       "</style>\n",
       "<table border=\"1\" class=\"dataframe\">\n",
       "  <thead>\n",
       "    <tr style=\"text-align: right;\">\n",
       "      <th></th>\n",
       "      <th>Restaurant_id</th>\n",
       "      <th>City</th>\n",
       "      <th>Cuisine Style</th>\n",
       "      <th>Ranking</th>\n",
       "      <th>Rating</th>\n",
       "      <th>Price Range</th>\n",
       "      <th>Number of Reviews</th>\n",
       "      <th>Reviews</th>\n",
       "      <th>URL_TA</th>\n",
       "      <th>ID_TA</th>\n",
       "      <th>sample</th>\n",
       "    </tr>\n",
       "  </thead>\n",
       "  <tbody>\n",
       "    <tr>\n",
       "      <th>0</th>\n",
       "      <td>id_5569</td>\n",
       "      <td>Paris</td>\n",
       "      <td>['European', 'French', 'International']</td>\n",
       "      <td>5570.0</td>\n",
       "      <td>3.5</td>\n",
       "      <td>$$ - $$$</td>\n",
       "      <td>194.0</td>\n",
       "      <td>[['Good food at your doorstep', 'A good hotel ...</td>\n",
       "      <td>/Restaurant_Review-g187147-d1912643-Reviews-R_...</td>\n",
       "      <td>d1912643</td>\n",
       "      <td>1</td>\n",
       "    </tr>\n",
       "    <tr>\n",
       "      <th>1</th>\n",
       "      <td>id_1535</td>\n",
       "      <td>Stockholm</td>\n",
       "      <td>NaN</td>\n",
       "      <td>1537.0</td>\n",
       "      <td>4.0</td>\n",
       "      <td>NaN</td>\n",
       "      <td>10.0</td>\n",
       "      <td>[['Unique cuisine', 'Delicious Nepalese food']...</td>\n",
       "      <td>/Restaurant_Review-g189852-d7992032-Reviews-Bu...</td>\n",
       "      <td>d7992032</td>\n",
       "      <td>1</td>\n",
       "    </tr>\n",
       "    <tr>\n",
       "      <th>2</th>\n",
       "      <td>id_352</td>\n",
       "      <td>London</td>\n",
       "      <td>['Japanese', 'Sushi', 'Asian', 'Grill', 'Veget...</td>\n",
       "      <td>353.0</td>\n",
       "      <td>4.5</td>\n",
       "      <td>$$$$</td>\n",
       "      <td>688.0</td>\n",
       "      <td>[['Catch up with friends', 'Not exceptional'],...</td>\n",
       "      <td>/Restaurant_Review-g186338-d8632781-Reviews-RO...</td>\n",
       "      <td>d8632781</td>\n",
       "      <td>1</td>\n",
       "    </tr>\n",
       "    <tr>\n",
       "      <th>3</th>\n",
       "      <td>id_3456</td>\n",
       "      <td>Berlin</td>\n",
       "      <td>NaN</td>\n",
       "      <td>3458.0</td>\n",
       "      <td>5.0</td>\n",
       "      <td>NaN</td>\n",
       "      <td>3.0</td>\n",
       "      <td>[[], []]</td>\n",
       "      <td>/Restaurant_Review-g187323-d1358776-Reviews-Es...</td>\n",
       "      <td>d1358776</td>\n",
       "      <td>1</td>\n",
       "    </tr>\n",
       "    <tr>\n",
       "      <th>4</th>\n",
       "      <td>id_615</td>\n",
       "      <td>Munich</td>\n",
       "      <td>['German', 'Central European', 'Vegetarian Fri...</td>\n",
       "      <td>621.0</td>\n",
       "      <td>4.0</td>\n",
       "      <td>$$ - $$$</td>\n",
       "      <td>84.0</td>\n",
       "      <td>[['Best place to try a Bavarian food', 'Nice b...</td>\n",
       "      <td>/Restaurant_Review-g187309-d6864963-Reviews-Au...</td>\n",
       "      <td>d6864963</td>\n",
       "      <td>1</td>\n",
       "    </tr>\n",
       "  </tbody>\n",
       "</table>\n",
       "</div>"
      ],
      "text/plain": [
       "  Restaurant_id       City                                      Cuisine Style  \\\n",
       "0       id_5569      Paris            ['European', 'French', 'International']   \n",
       "1       id_1535  Stockholm                                                NaN   \n",
       "2        id_352     London  ['Japanese', 'Sushi', 'Asian', 'Grill', 'Veget...   \n",
       "3       id_3456     Berlin                                                NaN   \n",
       "4        id_615     Munich  ['German', 'Central European', 'Vegetarian Fri...   \n",
       "\n",
       "   Ranking  Rating Price Range  Number of Reviews  \\\n",
       "0   5570.0     3.5    $$ - $$$              194.0   \n",
       "1   1537.0     4.0         NaN               10.0   \n",
       "2    353.0     4.5        $$$$              688.0   \n",
       "3   3458.0     5.0         NaN                3.0   \n",
       "4    621.0     4.0    $$ - $$$               84.0   \n",
       "\n",
       "                                             Reviews  \\\n",
       "0  [['Good food at your doorstep', 'A good hotel ...   \n",
       "1  [['Unique cuisine', 'Delicious Nepalese food']...   \n",
       "2  [['Catch up with friends', 'Not exceptional'],...   \n",
       "3                                           [[], []]   \n",
       "4  [['Best place to try a Bavarian food', 'Nice b...   \n",
       "\n",
       "                                              URL_TA     ID_TA  sample  \n",
       "0  /Restaurant_Review-g187147-d1912643-Reviews-R_...  d1912643       1  \n",
       "1  /Restaurant_Review-g189852-d7992032-Reviews-Bu...  d7992032       1  \n",
       "2  /Restaurant_Review-g186338-d8632781-Reviews-RO...  d8632781       1  \n",
       "3  /Restaurant_Review-g187323-d1358776-Reviews-Es...  d1358776       1  \n",
       "4  /Restaurant_Review-g187309-d6864963-Reviews-Au...  d6864963       1  "
      ]
     },
     "metadata": {},
     "output_type": "display_data"
    },
    {
     "data": {
      "text/html": [
       "<div>\n",
       "<style scoped>\n",
       "    .dataframe tbody tr th:only-of-type {\n",
       "        vertical-align: middle;\n",
       "    }\n",
       "\n",
       "    .dataframe tbody tr th {\n",
       "        vertical-align: top;\n",
       "    }\n",
       "\n",
       "    .dataframe thead th {\n",
       "        text-align: right;\n",
       "    }\n",
       "</style>\n",
       "<table border=\"1\" class=\"dataframe\">\n",
       "  <thead>\n",
       "    <tr style=\"text-align: right;\">\n",
       "      <th></th>\n",
       "      <th>Restaurant_id</th>\n",
       "      <th>City</th>\n",
       "      <th>Cuisine Style</th>\n",
       "      <th>Ranking</th>\n",
       "      <th>Price Range</th>\n",
       "      <th>Number of Reviews</th>\n",
       "      <th>Reviews</th>\n",
       "      <th>URL_TA</th>\n",
       "      <th>ID_TA</th>\n",
       "      <th>sample</th>\n",
       "      <th>Rating</th>\n",
       "    </tr>\n",
       "  </thead>\n",
       "  <tbody>\n",
       "    <tr>\n",
       "      <th>0</th>\n",
       "      <td>id_0</td>\n",
       "      <td>Paris</td>\n",
       "      <td>['Bar', 'Pub']</td>\n",
       "      <td>12963.0</td>\n",
       "      <td>$$ - $$$</td>\n",
       "      <td>4.0</td>\n",
       "      <td>[[], []]</td>\n",
       "      <td>/Restaurant_Review-g187147-d10746918-Reviews-L...</td>\n",
       "      <td>d10746918</td>\n",
       "      <td>0</td>\n",
       "      <td>0</td>\n",
       "    </tr>\n",
       "    <tr>\n",
       "      <th>1</th>\n",
       "      <td>id_1</td>\n",
       "      <td>Helsinki</td>\n",
       "      <td>['European', 'Scandinavian', 'Gluten Free Opti...</td>\n",
       "      <td>106.0</td>\n",
       "      <td>$$ - $$$</td>\n",
       "      <td>97.0</td>\n",
       "      <td>[['Very good reviews!', 'Fine dining in Hakani...</td>\n",
       "      <td>/Restaurant_Review-g189934-d6674944-Reviews-Ra...</td>\n",
       "      <td>d6674944</td>\n",
       "      <td>0</td>\n",
       "      <td>0</td>\n",
       "    </tr>\n",
       "    <tr>\n",
       "      <th>2</th>\n",
       "      <td>id_2</td>\n",
       "      <td>Edinburgh</td>\n",
       "      <td>['Vegetarian Friendly']</td>\n",
       "      <td>810.0</td>\n",
       "      <td>$$ - $$$</td>\n",
       "      <td>28.0</td>\n",
       "      <td>[['Better than the Links', 'Ivy Black'], ['12/...</td>\n",
       "      <td>/Restaurant_Review-g186525-d13129638-Reviews-B...</td>\n",
       "      <td>d13129638</td>\n",
       "      <td>0</td>\n",
       "      <td>0</td>\n",
       "    </tr>\n",
       "    <tr>\n",
       "      <th>3</th>\n",
       "      <td>id_3</td>\n",
       "      <td>London</td>\n",
       "      <td>['Italian', 'Mediterranean', 'European', 'Vege...</td>\n",
       "      <td>1669.0</td>\n",
       "      <td>$$$$</td>\n",
       "      <td>202.0</td>\n",
       "      <td>[['Most exquisite', 'Delicious and authentic']...</td>\n",
       "      <td>/Restaurant_Review-g186338-d680417-Reviews-Qui...</td>\n",
       "      <td>d680417</td>\n",
       "      <td>0</td>\n",
       "      <td>0</td>\n",
       "    </tr>\n",
       "    <tr>\n",
       "      <th>4</th>\n",
       "      <td>id_4</td>\n",
       "      <td>Bratislava</td>\n",
       "      <td>['Italian', 'Mediterranean', 'European', 'Seaf...</td>\n",
       "      <td>37.0</td>\n",
       "      <td>$$$$</td>\n",
       "      <td>162.0</td>\n",
       "      <td>[['Always the best in bratislava', 'Very good ...</td>\n",
       "      <td>/Restaurant_Review-g274924-d1112354-Reviews-Ma...</td>\n",
       "      <td>d1112354</td>\n",
       "      <td>0</td>\n",
       "      <td>0</td>\n",
       "    </tr>\n",
       "  </tbody>\n",
       "</table>\n",
       "</div>"
      ],
      "text/plain": [
       "  Restaurant_id        City  \\\n",
       "0          id_0       Paris   \n",
       "1          id_1    Helsinki   \n",
       "2          id_2   Edinburgh   \n",
       "3          id_3      London   \n",
       "4          id_4  Bratislava   \n",
       "\n",
       "                                       Cuisine Style  Ranking Price Range  \\\n",
       "0                                     ['Bar', 'Pub']  12963.0    $$ - $$$   \n",
       "1  ['European', 'Scandinavian', 'Gluten Free Opti...    106.0    $$ - $$$   \n",
       "2                            ['Vegetarian Friendly']    810.0    $$ - $$$   \n",
       "3  ['Italian', 'Mediterranean', 'European', 'Vege...   1669.0        $$$$   \n",
       "4  ['Italian', 'Mediterranean', 'European', 'Seaf...     37.0        $$$$   \n",
       "\n",
       "   Number of Reviews                                            Reviews  \\\n",
       "0                4.0                                           [[], []]   \n",
       "1               97.0  [['Very good reviews!', 'Fine dining in Hakani...   \n",
       "2               28.0  [['Better than the Links', 'Ivy Black'], ['12/...   \n",
       "3              202.0  [['Most exquisite', 'Delicious and authentic']...   \n",
       "4              162.0  [['Always the best in bratislava', 'Very good ...   \n",
       "\n",
       "                                              URL_TA      ID_TA  sample  \\\n",
       "0  /Restaurant_Review-g187147-d10746918-Reviews-L...  d10746918       0   \n",
       "1  /Restaurant_Review-g189934-d6674944-Reviews-Ra...   d6674944       0   \n",
       "2  /Restaurant_Review-g186525-d13129638-Reviews-B...  d13129638       0   \n",
       "3  /Restaurant_Review-g186338-d680417-Reviews-Qui...    d680417       0   \n",
       "4  /Restaurant_Review-g274924-d1112354-Reviews-Ma...   d1112354       0   \n",
       "\n",
       "   Rating  \n",
       "0       0  \n",
       "1       0  \n",
       "2       0  \n",
       "3       0  \n",
       "4       0  "
      ]
     },
     "metadata": {},
     "output_type": "display_data"
    }
   ],
   "source": [
    "display(df_train.head())\n",
    "display(df_test.head())"
   ]
  },
  {
   "cell_type": "markdown",
   "id": "ddec4db0",
   "metadata": {
    "papermill": {
     "duration": 0.058276,
     "end_time": "2021-12-16T19:34:33.807325",
     "exception": false,
     "start_time": "2021-12-16T19:34:33.749049",
     "status": "completed"
    },
    "tags": []
   },
   "source": [
    "#### Анализ данных по переменным"
   ]
  },
  {
   "cell_type": "markdown",
   "id": "a86fa450",
   "metadata": {
    "papermill": {
     "duration": 0.05915,
     "end_time": "2021-12-16T19:34:33.925959",
     "exception": false,
     "start_time": "2021-12-16T19:34:33.866809",
     "status": "completed"
    },
    "tags": []
   },
   "source": [
    "##### 1) Restaurant_id"
   ]
  },
  {
   "cell_type": "code",
   "execution_count": 7,
   "id": "b20b434a",
   "metadata": {
    "execution": {
     "iopub.execute_input": "2021-12-16T19:34:34.074008Z",
     "iopub.status.busy": "2021-12-16T19:34:34.072566Z",
     "iopub.status.idle": "2021-12-16T19:34:34.077327Z",
     "shell.execute_reply": "2021-12-16T19:34:34.076902Z",
     "shell.execute_reply.started": "2021-12-16T19:29:30.541310Z"
    },
    "papermill": {
     "duration": 0.092728,
     "end_time": "2021-12-16T19:34:34.077449",
     "exception": false,
     "start_time": "2021-12-16T19:34:33.984721",
     "status": "completed"
    },
    "tags": []
   },
   "outputs": [
    {
     "data": {
      "text/plain": [
       "0    5569.0\n",
       "1    1535.0\n",
       "2     352.0\n",
       "3    3456.0\n",
       "4     615.0\n",
       "Name: Restaurant_id, dtype: float64"
      ]
     },
     "metadata": {},
     "output_type": "display_data"
    }
   ],
   "source": [
    "display(df_train['Restaurant_id'].apply(lambda x: float(x[3:])).head(5))\n"
   ]
  },
  {
   "cell_type": "markdown",
   "id": "3a8037de",
   "metadata": {
    "papermill": {
     "duration": 0.060928,
     "end_time": "2021-12-16T19:34:34.198501",
     "exception": false,
     "start_time": "2021-12-16T19:34:34.137573",
     "status": "completed"
    },
    "tags": []
   },
   "source": [
    "Значения похожи на значения из столбца Ranking, проведем корреляционный анализ"
   ]
  },
  {
   "cell_type": "code",
   "execution_count": 8,
   "id": "e5132bfa",
   "metadata": {
    "execution": {
     "iopub.execute_input": "2021-12-16T19:34:34.322397Z",
     "iopub.status.busy": "2021-12-16T19:34:34.321660Z",
     "iopub.status.idle": "2021-12-16T19:34:34.352858Z",
     "shell.execute_reply": "2021-12-16T19:34:34.352412Z",
     "shell.execute_reply.started": "2021-12-16T19:29:30.574779Z"
    },
    "papermill": {
     "duration": 0.095324,
     "end_time": "2021-12-16T19:34:34.352980",
     "exception": false,
     "start_time": "2021-12-16T19:34:34.257656",
     "status": "completed"
    },
    "tags": []
   },
   "outputs": [
    {
     "data": {
      "text/plain": [
       "0.9999995570800098"
      ]
     },
     "execution_count": 8,
     "metadata": {},
     "output_type": "execute_result"
    }
   ],
   "source": [
    "df_train['Restaurant_id'].apply(lambda x: float(x[3:])).corr(df_train['Ranking'])"
   ]
  },
  {
   "cell_type": "markdown",
   "id": "dccf069c",
   "metadata": {
    "papermill": {
     "duration": 0.059132,
     "end_time": "2021-12-16T19:34:34.472858",
     "exception": false,
     "start_time": "2021-12-16T19:34:34.413726",
     "status": "completed"
    },
    "tags": []
   },
   "source": [
    "Наблюдается высокая корреляция с признаком Ranking. Признак \"Restaurant_id\" можно удалить из датасета"
   ]
  },
  {
   "cell_type": "code",
   "execution_count": 9,
   "id": "67d4497b",
   "metadata": {
    "execution": {
     "iopub.execute_input": "2021-12-16T19:34:34.603576Z",
     "iopub.status.busy": "2021-12-16T19:34:34.602209Z",
     "iopub.status.idle": "2021-12-16T19:34:34.604272Z",
     "shell.execute_reply": "2021-12-16T19:34:34.604665Z",
     "shell.execute_reply.started": "2021-12-16T19:29:30.610350Z"
    },
    "papermill": {
     "duration": 0.071646,
     "end_time": "2021-12-16T19:34:34.604798",
     "exception": false,
     "start_time": "2021-12-16T19:34:34.533152",
     "status": "completed"
    },
    "tags": []
   },
   "outputs": [],
   "source": [
    "data.drop('Restaurant_id',axis=1,inplace=True)"
   ]
  },
  {
   "cell_type": "markdown",
   "id": "7227d529",
   "metadata": {
    "papermill": {
     "duration": 0.059487,
     "end_time": "2021-12-16T19:34:34.724628",
     "exception": false,
     "start_time": "2021-12-16T19:34:34.665141",
     "status": "completed"
    },
    "tags": []
   },
   "source": [
    "##### 2) Cuisine Style"
   ]
  },
  {
   "cell_type": "code",
   "execution_count": 10,
   "id": "db255a99",
   "metadata": {
    "execution": {
     "iopub.execute_input": "2021-12-16T19:34:34.859002Z",
     "iopub.status.busy": "2021-12-16T19:34:34.858471Z",
     "iopub.status.idle": "2021-12-16T19:34:34.866111Z",
     "shell.execute_reply": "2021-12-16T19:34:34.866622Z",
     "shell.execute_reply.started": "2021-12-16T19:29:30.626453Z"
    },
    "papermill": {
     "duration": 0.082692,
     "end_time": "2021-12-16T19:34:34.866769",
     "exception": false,
     "start_time": "2021-12-16T19:34:34.784077",
     "status": "completed"
    },
    "tags": []
   },
   "outputs": [
    {
     "data": {
      "text/plain": [
       "NaN                       11590\n",
       "['Italian']                1332\n",
       "['French']                 1019\n",
       "['Spanish']                 860\n",
       "['French', 'European']      503\n",
       "Name: Cuisine Style, dtype: int64"
      ]
     },
     "execution_count": 10,
     "metadata": {},
     "output_type": "execute_result"
    }
   ],
   "source": [
    "data['Cuisine Style'].value_counts(dropna=False).head()"
   ]
  },
  {
   "cell_type": "markdown",
   "id": "8f2b03f9",
   "metadata": {
    "papermill": {
     "duration": 0.059229,
     "end_time": "2021-12-16T19:34:34.986858",
     "exception": false,
     "start_time": "2021-12-16T19:34:34.927629",
     "status": "completed"
    },
    "tags": []
   },
   "source": [
    "В датасете присутствует достаточно много пропусков, заполним пропущенные значением \"Other\""
   ]
  },
  {
   "cell_type": "code",
   "execution_count": 11,
   "id": "508e9ad6",
   "metadata": {
    "execution": {
     "iopub.execute_input": "2021-12-16T19:34:35.118209Z",
     "iopub.status.busy": "2021-12-16T19:34:35.112150Z",
     "iopub.status.idle": "2021-12-16T19:34:35.120647Z",
     "shell.execute_reply": "2021-12-16T19:34:35.120133Z",
     "shell.execute_reply.started": "2021-12-16T19:29:30.652373Z"
    },
    "papermill": {
     "duration": 0.073916,
     "end_time": "2021-12-16T19:34:35.120779",
     "exception": false,
     "start_time": "2021-12-16T19:34:35.046863",
     "status": "completed"
    },
    "tags": []
   },
   "outputs": [],
   "source": [
    "data['Cuisine Style'].fillna(\"[Other]\",inplace=True)"
   ]
  },
  {
   "cell_type": "code",
   "execution_count": 12,
   "id": "39f6d367",
   "metadata": {
    "execution": {
     "iopub.execute_input": "2021-12-16T19:34:35.243541Z",
     "iopub.status.busy": "2021-12-16T19:34:35.242703Z",
     "iopub.status.idle": "2021-12-16T19:34:35.613920Z",
     "shell.execute_reply": "2021-12-16T19:34:35.614395Z",
     "shell.execute_reply.started": "2021-12-16T19:29:30.666315Z"
    },
    "papermill": {
     "duration": 0.433904,
     "end_time": "2021-12-16T19:34:35.614551",
     "exception": false,
     "start_time": "2021-12-16T19:34:35.180647",
     "status": "completed"
    },
    "tags": []
   },
   "outputs": [],
   "source": [
    "data['Cuisine Style'] = data['Cuisine Style'].apply(lambda x: edit_cuisine(x)) #преобразуем столбец со списком кухонь\n",
    "\n",
    "\n",
    "top_kit = list(data['Cuisine Style'].explode().value_counts().head(10).index) # создадим список топ кухонь \n",
    "rare_kit=list(data['Cuisine Style'].explode().value_counts().tail(35).index) #создадим список наиболее редких кухонь \n",
    "alco = ['Bar', 'Pub', 'Wine Bar', 'Brew Pub'] # создадим список c видами баров\n",
    "\n",
    "#относится ли ресторан к списку самых распространенных кухонь\n",
    "data['is_popular'] = data['Cuisine Style'].apply(lambda x: is_popular(x)) \n",
    "#относится ли ресторан к списку редких кухонь\n",
    "data['is_rare'] = data['Cuisine Style'].apply(lambda x: is_rare(x))\n",
    "#относится ли ресторан к списку баров\n",
    "data[\"is_alco\"] = data['Cuisine Style'].apply(lambda x: is_alco(x))\n",
    "#количество кухонь представленных в ресторане\n",
    "data['len'] = data['Cuisine Style'].apply(lambda x: len(x))  \n"
   ]
  },
  {
   "cell_type": "markdown",
   "id": "d92ce136",
   "metadata": {
    "papermill": {
     "duration": 0.059933,
     "end_time": "2021-12-16T19:34:35.735121",
     "exception": false,
     "start_time": "2021-12-16T19:34:35.675188",
     "status": "completed"
    },
    "tags": []
   },
   "source": [
    "Добавили в датасет следующие признаки: <br>\n",
    "1) Количество видов кухонь в ресторане <br>\n",
    "2) Является ли кухня распространенной <br>\n",
    "3) Является ли кухня уникальной<br>\n",
    "4) Является ли заведение баром"
   ]
  },
  {
   "cell_type": "code",
   "execution_count": 13,
   "id": "5f4c1c61",
   "metadata": {
    "execution": {
     "iopub.execute_input": "2021-12-16T19:34:35.861103Z",
     "iopub.status.busy": "2021-12-16T19:34:35.860159Z",
     "iopub.status.idle": "2021-12-16T19:34:36.142085Z",
     "shell.execute_reply": "2021-12-16T19:34:36.142735Z",
     "shell.execute_reply.started": "2021-12-16T19:29:31.504907Z"
    },
    "papermill": {
     "duration": 0.34827,
     "end_time": "2021-12-16T19:34:36.142888",
     "exception": false,
     "start_time": "2021-12-16T19:34:35.794618",
     "status": "completed"
    },
    "tags": []
   },
   "outputs": [
    {
     "data": {
      "image/png": "[encoded data removed]",
      "text/plain": [
       "<Figure size 432x288 with 1 Axes>"
      ]
     },
     "metadata": {
      "needs_background": "light"
     },
     "output_type": "display_data"
    }
   ],
   "source": [
    "ax=sns.countplot(x='len',data=data,palette='rocket')\n",
    "ax.set(xlabel='Разнобразие кухонь',ylabel='Количество ресторанов',title='Количество разнообразных кухонь');"
   ]
  },
  {
   "cell_type": "code",
   "execution_count": 14,
   "id": "5d209778",
   "metadata": {
    "execution": {
     "iopub.execute_input": "2021-12-16T19:34:36.272120Z",
     "iopub.status.busy": "2021-12-16T19:34:36.271336Z",
     "iopub.status.idle": "2021-12-16T19:34:36.457729Z",
     "shell.execute_reply": "2021-12-16T19:34:36.458097Z",
     "shell.execute_reply.started": "2021-12-16T19:29:31.783787Z"
    },
    "papermill": {
     "duration": 0.254577,
     "end_time": "2021-12-16T19:34:36.458270",
     "exception": false,
     "start_time": "2021-12-16T19:34:36.203693",
     "status": "completed"
    },
    "tags": []
   },
   "outputs": [
    {
     "data": {
      "image/png": "[encoded data removed]",
      "text/plain": [
       "<Figure size 576x360 with 1 Axes>"
      ]
     },
     "metadata": {
      "needs_background": "light"
     },
     "output_type": "display_data"
    }
   ],
   "source": [
    "plt.figure(figsize=(8,5))\n",
    "ax=sns.countplot(x='is_popular',data=data,palette='rocket')\n",
    "ax.set(xlabel='',ylabel='Количество ресторанов',title='Имеется ли в ресторане самая распространенная кухня',\n",
    "       xticklabels=('Нет','Да'))\n",
    "for p in ax.patches:\n",
    "        ax.annotate(p.get_height(), (p.get_x()+0.34, p.get_height()+350));"
   ]
  },
  {
   "cell_type": "code",
   "execution_count": 15,
   "id": "4c3d6a0f",
   "metadata": {
    "execution": {
     "iopub.execute_input": "2021-12-16T19:34:36.590016Z",
     "iopub.status.busy": "2021-12-16T19:34:36.589222Z",
     "iopub.status.idle": "2021-12-16T19:34:36.766468Z",
     "shell.execute_reply": "2021-12-16T19:34:36.765906Z",
     "shell.execute_reply.started": "2021-12-16T19:29:31.991598Z"
    },
    "papermill": {
     "duration": 0.245894,
     "end_time": "2021-12-16T19:34:36.766607",
     "exception": false,
     "start_time": "2021-12-16T19:34:36.520713",
     "status": "completed"
    },
    "tags": []
   },
   "outputs": [
    {
     "data": {
      "image/png": "[encoded data removed]",
      "text/plain": [
       "<Figure size 576x360 with 1 Axes>"
      ]
     },
     "metadata": {
      "needs_background": "light"
     },
     "output_type": "display_data"
    }
   ],
   "source": [
    "plt.figure(figsize=(8,5))\n",
    "ax=sns.countplot(x='is_rare',data=data,palette='rocket')\n",
    "ax.set(xlabel='Разнобразие кухонь',ylabel='Количество ресторанов',title='Наличие самых редких кухонь',\n",
    "       xticklabels=('Нет','Да'))\n",
    "for p in ax.patches:\n",
    "        ax.annotate(p.get_height(), (p.get_x()+0.34, p.get_height()+350));"
   ]
  },
  {
   "cell_type": "code",
   "execution_count": 16,
   "id": "a492edd5",
   "metadata": {
    "execution": {
     "iopub.execute_input": "2021-12-16T19:34:36.898019Z",
     "iopub.status.busy": "2021-12-16T19:34:36.897268Z",
     "iopub.status.idle": "2021-12-16T19:34:37.068933Z",
     "shell.execute_reply": "2021-12-16T19:34:37.069374Z",
     "shell.execute_reply.started": "2021-12-16T19:29:32.188265Z"
    },
    "papermill": {
     "duration": 0.241151,
     "end_time": "2021-12-16T19:34:37.069547",
     "exception": false,
     "start_time": "2021-12-16T19:34:36.828396",
     "status": "completed"
    },
    "tags": []
   },
   "outputs": [
    {
     "data": {
      "image/png": "[encoded data removed]",
      "text/plain": [
       "<Figure size 576x360 with 1 Axes>"
      ]
     },
     "metadata": {
      "needs_background": "light"
     },
     "output_type": "display_data"
    }
   ],
   "source": [
    "plt.figure(figsize=(8,5))\n",
    "ax=sns.countplot(x='is_alco',data=data,palette='rocket')\n",
    "ax.set(xlabel='Бар',ylabel='Количество ресторанов',title='Является ли заведение баром',\n",
    "       xticklabels=('Нет','Да'))\n",
    "for p in ax.patches:\n",
    "        ax.annotate(p.get_height(), (p.get_x()+0.34, p.get_height()+350));"
   ]
  },
  {
   "cell_type": "markdown",
   "id": "aaf5adec",
   "metadata": {
    "papermill": {
     "duration": 0.062748,
     "end_time": "2021-12-16T19:34:37.194614",
     "exception": false,
     "start_time": "2021-12-16T19:34:37.131866",
     "status": "completed"
    },
    "tags": []
   },
   "source": [
    "##### 3) Price Range"
   ]
  },
  {
   "cell_type": "code",
   "execution_count": 17,
   "id": "438ecc92",
   "metadata": {
    "execution": {
     "iopub.execute_input": "2021-12-16T19:34:37.331014Z",
     "iopub.status.busy": "2021-12-16T19:34:37.330217Z",
     "iopub.status.idle": "2021-12-16T19:34:37.333022Z",
     "shell.execute_reply": "2021-12-16T19:34:37.333426Z",
     "shell.execute_reply.started": "2021-12-16T19:29:32.379040Z"
    },
    "papermill": {
     "duration": 0.076818,
     "end_time": "2021-12-16T19:34:37.333567",
     "exception": false,
     "start_time": "2021-12-16T19:34:37.256749",
     "status": "completed"
    },
    "tags": []
   },
   "outputs": [
    {
     "data": {
      "text/plain": [
       "$$ - $$$    23041\n",
       "NaN         17361\n",
       "$            7816\n",
       "$$$$         1782\n",
       "Name: Price Range, dtype: int64"
      ]
     },
     "execution_count": 17,
     "metadata": {},
     "output_type": "execute_result"
    }
   ],
   "source": [
    "data['Price Range'].value_counts(dropna=False)"
   ]
  },
  {
   "cell_type": "code",
   "execution_count": 18,
   "id": "8af01ddd",
   "metadata": {
    "execution": {
     "iopub.execute_input": "2021-12-16T19:34:37.467774Z",
     "iopub.status.busy": "2021-12-16T19:34:37.467018Z",
     "iopub.status.idle": "2021-12-16T19:34:37.491385Z",
     "shell.execute_reply": "2021-12-16T19:34:37.490927Z",
     "shell.execute_reply.started": "2021-12-16T19:29:32.395063Z"
    },
    "papermill": {
     "duration": 0.095317,
     "end_time": "2021-12-16T19:34:37.491504",
     "exception": false,
     "start_time": "2021-12-16T19:34:37.396187",
     "status": "completed"
    },
    "tags": []
   },
   "outputs": [],
   "source": [
    "data['Price Range'].replace({'$$ - $$$': 2, '$': 1, '$$$$': 3, }, inplace=True)"
   ]
  },
  {
   "cell_type": "markdown",
   "id": "ace6c78d",
   "metadata": {
    "papermill": {
     "duration": 0.062279,
     "end_time": "2021-12-16T19:34:37.617312",
     "exception": false,
     "start_time": "2021-12-16T19:34:37.555033",
     "status": "completed"
    },
    "tags": []
   },
   "source": [
    "В столбце Price Range имеется большое количество пропусков (17361). Заполним пропуски значением 0, так как заполнение модой приведет к еще большему дисбалансу классов"
   ]
  },
  {
   "cell_type": "code",
   "execution_count": 19,
   "id": "bd512607",
   "metadata": {
    "execution": {
     "iopub.execute_input": "2021-12-16T19:34:37.751325Z",
     "iopub.status.busy": "2021-12-16T19:34:37.750386Z",
     "iopub.status.idle": "2021-12-16T19:34:37.753683Z",
     "shell.execute_reply": "2021-12-16T19:34:37.754107Z",
     "shell.execute_reply.started": "2021-12-16T19:29:32.433796Z"
    },
    "papermill": {
     "duration": 0.074658,
     "end_time": "2021-12-16T19:34:37.754255",
     "exception": false,
     "start_time": "2021-12-16T19:34:37.679597",
     "status": "completed"
    },
    "tags": []
   },
   "outputs": [],
   "source": [
    "data['Price Range'].value_counts()\n",
    "data['Price Range'].fillna(0, inplace=True)"
   ]
  },
  {
   "cell_type": "code",
   "execution_count": 20,
   "id": "a06954c4",
   "metadata": {
    "execution": {
     "iopub.execute_input": "2021-12-16T19:34:37.887187Z",
     "iopub.status.busy": "2021-12-16T19:34:37.886384Z",
     "iopub.status.idle": "2021-12-16T19:34:38.077868Z",
     "shell.execute_reply": "2021-12-16T19:34:38.078406Z",
     "shell.execute_reply.started": "2021-12-16T19:29:32.442404Z"
    },
    "papermill": {
     "duration": 0.261867,
     "end_time": "2021-12-16T19:34:38.078559",
     "exception": false,
     "start_time": "2021-12-16T19:34:37.816692",
     "status": "completed"
    },
    "tags": []
   },
   "outputs": [
    {
     "data": {
      "image/png": "[encoded data removed]",
      "text/plain": [
       "<Figure size 576x360 with 1 Axes>"
      ]
     },
     "metadata": {
      "needs_background": "light"
     },
     "output_type": "display_data"
    }
   ],
   "source": [
    "plt.figure(figsize=(8,5))\n",
    "ax=sns.countplot(x='Price Range',data=data,palette='rocket')\n",
    "ax.set(xlabel='Средний человек',ylabel='Количество ресторанов',title='Средний чек в ресторане',\n",
    "       xticklabels=('Нет данных','S','SS-SSS',\"SSSS\"))\n",
    "for p in ax.patches:\n",
    "        ax.annotate(p.get_height(), (p.get_x()+0.3, p.get_height()+350));"
   ]
  },
  {
   "cell_type": "markdown",
   "id": "a8c7f7a2",
   "metadata": {
    "papermill": {
     "duration": 0.063242,
     "end_time": "2021-12-16T19:34:38.205694",
     "exception": false,
     "start_time": "2021-12-16T19:34:38.142452",
     "status": "completed"
    },
    "tags": []
   },
   "source": [
    "##### 4) Number of Reviews"
   ]
  },
  {
   "cell_type": "code",
   "execution_count": 21,
   "id": "518cd64f",
   "metadata": {
    "execution": {
     "iopub.execute_input": "2021-12-16T19:34:38.339113Z",
     "iopub.status.busy": "2021-12-16T19:34:38.338306Z",
     "iopub.status.idle": "2021-12-16T19:34:38.344753Z",
     "shell.execute_reply": "2021-12-16T19:34:38.344258Z",
     "shell.execute_reply.started": "2021-12-16T19:29:32.662046Z"
    },
    "papermill": {
     "duration": 0.075884,
     "end_time": "2021-12-16T19:34:38.344880",
     "exception": false,
     "start_time": "2021-12-16T19:34:38.268996",
     "status": "completed"
    },
    "tags": []
   },
   "outputs": [
    {
     "data": {
      "text/plain": [
       "NaN       3200\n",
       "2.0       2403\n",
       "3.0       2042\n",
       "4.0       1707\n",
       "5.0       1471\n",
       "          ... \n",
       "2366.0       1\n",
       "1757.0       1\n",
       "4996.0       1\n",
       "2236.0       1\n",
       "2297.0       1\n",
       "Name: Number of Reviews, Length: 1574, dtype: int64"
      ]
     },
     "execution_count": 21,
     "metadata": {},
     "output_type": "execute_result"
    }
   ],
   "source": [
    "data['Number of Reviews'].value_counts(dropna=False)"
   ]
  },
  {
   "cell_type": "markdown",
   "id": "1221db28",
   "metadata": {
    "papermill": {
     "duration": 0.063725,
     "end_time": "2021-12-16T19:34:38.476357",
     "exception": false,
     "start_time": "2021-12-16T19:34:38.412632",
     "status": "completed"
    },
    "tags": []
   },
   "source": [
    "Признак Number of Reviews имеет небольшое количество пропусков (3200). "
   ]
  },
  {
   "cell_type": "code",
   "execution_count": 22,
   "id": "3809a534",
   "metadata": {
    "execution": {
     "iopub.execute_input": "2021-12-16T19:34:38.613258Z",
     "iopub.status.busy": "2021-12-16T19:34:38.612327Z",
     "iopub.status.idle": "2021-12-16T19:34:38.620591Z",
     "shell.execute_reply": "2021-12-16T19:34:38.621073Z",
     "shell.execute_reply.started": "2021-12-16T19:29:32.676314Z"
    },
    "papermill": {
     "duration": 0.080406,
     "end_time": "2021-12-16T19:34:38.621304",
     "exception": false,
     "start_time": "2021-12-16T19:34:38.540898",
     "status": "completed"
    },
    "tags": []
   },
   "outputs": [
    {
     "data": {
      "text/plain": [
       "count    46800.000000\n",
       "mean       124.471197\n",
       "std        294.114345\n",
       "min          2.000000\n",
       "25%          9.000000\n",
       "50%         33.000000\n",
       "75%        115.000000\n",
       "max       9660.000000\n",
       "Name: Number_of_Reviews, dtype: float64"
      ]
     },
     "execution_count": 22,
     "metadata": {},
     "output_type": "execute_result"
    }
   ],
   "source": [
    "data.rename(columns={'Number of Reviews': 'Number_of_Reviews'}, inplace=True)\n",
    "data['Number_of_Reviews'].describe()"
   ]
  },
  {
   "cell_type": "code",
   "execution_count": 23,
   "id": "1e9b0c47",
   "metadata": {
    "execution": {
     "iopub.execute_input": "2021-12-16T19:34:38.766249Z",
     "iopub.status.busy": "2021-12-16T19:34:38.765294Z",
     "iopub.status.idle": "2021-12-16T19:34:58.963824Z",
     "shell.execute_reply": "2021-12-16T19:34:58.963293Z",
     "shell.execute_reply.started": "2021-12-16T19:29:32.701470Z"
    },
    "papermill": {
     "duration": 20.277622,
     "end_time": "2021-12-16T19:34:58.963940",
     "exception": false,
     "start_time": "2021-12-16T19:34:38.686318",
     "status": "completed"
    },
    "tags": []
   },
   "outputs": [
    {
     "data": {
      "text/plain": [
       "<AxesSubplot:xlabel='Number_of_Reviews', ylabel='Count'>"
      ]
     },
     "execution_count": 23,
     "metadata": {},
     "output_type": "execute_result"
    },
    {
     "data": {
      "image/png": "[encoded data removed]",
      "text/plain": [
       "<Figure size 720x360 with 1 Axes>"
      ]
     },
     "metadata": {
      "needs_background": "light"
     },
     "output_type": "display_data"
    }
   ],
   "source": [
    "plt.figure(figsize=(10,5))\n",
    "sns.histplot(data['Number_of_Reviews'],bins=10000)"
   ]
  },
  {
   "cell_type": "markdown",
   "id": "a6767b84",
   "metadata": {
    "papermill": {
     "duration": 0.065258,
     "end_time": "2021-12-16T19:34:59.095316",
     "exception": false,
     "start_time": "2021-12-16T19:34:59.030058",
     "status": "completed"
    },
    "tags": []
   },
   "source": [
    "В качестве эксперимента был произведен парсинг сайта TripAdvisor с целью заполнения пропусков. Но, метрика показала уменьшение точности, возможно это связано с тем что c 2017 года изменилось количество отзывов и это отражается на целевой переменной. Заполним пропущенные значения 1 для последующего логарифмирования"
   ]
  },
  {
   "cell_type": "code",
   "execution_count": 24,
   "id": "a11532d4",
   "metadata": {
    "execution": {
     "iopub.execute_input": "2021-12-16T19:34:59.229497Z",
     "iopub.status.busy": "2021-12-16T19:34:59.228574Z",
     "iopub.status.idle": "2021-12-16T19:34:59.230394Z",
     "shell.execute_reply": "2021-12-16T19:34:59.230787Z",
     "shell.execute_reply.started": "2021-12-16T19:29:53.920397Z"
    },
    "papermill": {
     "duration": 0.071282,
     "end_time": "2021-12-16T19:34:59.230917",
     "exception": false,
     "start_time": "2021-12-16T19:34:59.159635",
     "status": "completed"
    },
    "tags": []
   },
   "outputs": [],
   "source": [
    "'''from selenium.webdriver import Chrome\n",
    "keys = ['ID_TA']\n",
    "webdriver = \"chromedriver\"\n",
    "driver = Chrome(webdriver)\n",
    "url = \"https://www.tripadvisor.ru\"\n",
    "for i in range(len(data_without_reviews)):\n",
    "    c=data_without_reviews[\"URL_TA\"].iloc[i]\n",
    "    driver.get(f\"{url}{c}\")\n",
    "    rev_dict[data_without_reviews[\"ID_TA\"].iloc[i]]=0\n",
    "    try:\n",
    "        rev_dict[data_without_reviews[\"ID_TA\"].iloc[i]]=driver.find_element_by_class_name('eBTWs').text.split(' ')[0]\n",
    "    except:\n",
    "        continue\n",
    "reviews_pars=pd.DataFrame(rev_dict.items(),columns=['ID_TA','Number of Reviews'])\n",
    "data_without_reviews = data_without_reviews.set_index(keys).fillna(reviews_pars.set_index(keys)).reset_index()\n",
    "data_without_reviews=data_without_reviews[data_without_reviews['Number of Reviews'].isna()]''';"
   ]
  },
  {
   "cell_type": "code",
   "execution_count": 25,
   "id": "c0389e1e",
   "metadata": {
    "execution": {
     "iopub.execute_input": "2021-12-16T19:34:59.373677Z",
     "iopub.status.busy": "2021-12-16T19:34:59.372771Z",
     "iopub.status.idle": "2021-12-16T19:34:59.376949Z",
     "shell.execute_reply": "2021-12-16T19:34:59.376526Z",
     "shell.execute_reply.started": "2021-12-16T19:29:53.926840Z"
    },
    "papermill": {
     "duration": 0.073165,
     "end_time": "2021-12-16T19:34:59.377067",
     "exception": false,
     "start_time": "2021-12-16T19:34:59.303902",
     "status": "completed"
    },
    "tags": []
   },
   "outputs": [],
   "source": [
    "data['Number_of_Reviews'].fillna(1, inplace=True)\n",
    "#data['Number of Reviews']=data['Number of Reviews']+0.00000001\n",
    "data['Number_of_Reviews'] = np.log(data['Number_of_Reviews'])"
   ]
  },
  {
   "cell_type": "code",
   "execution_count": 26,
   "id": "d728879b",
   "metadata": {
    "execution": {
     "iopub.execute_input": "2021-12-16T19:34:59.537554Z",
     "iopub.status.busy": "2021-12-16T19:34:59.536774Z",
     "iopub.status.idle": "2021-12-16T19:34:59.826314Z",
     "shell.execute_reply": "2021-12-16T19:34:59.826686Z",
     "shell.execute_reply.started": "2021-12-16T19:29:53.941360Z"
    },
    "papermill": {
     "duration": 0.385746,
     "end_time": "2021-12-16T19:34:59.826834",
     "exception": false,
     "start_time": "2021-12-16T19:34:59.441088",
     "status": "completed"
    },
    "tags": []
   },
   "outputs": [
    {
     "data": {
      "text/plain": [
       "<AxesSubplot:xlabel='Number_of_Reviews', ylabel='Count'>"
      ]
     },
     "execution_count": 26,
     "metadata": {},
     "output_type": "execute_result"
    },
    {
     "data": {
      "image/png": "[encoded data removed]",
      "text/plain": [
       "<Figure size 720x360 with 1 Axes>"
      ]
     },
     "metadata": {
      "needs_background": "light"
     },
     "output_type": "display_data"
    }
   ],
   "source": [
    "plt.figure(figsize=(10,5))\n",
    "sns.histplot(data['Number_of_Reviews'],bins=50)"
   ]
  },
  {
   "cell_type": "markdown",
   "id": "4df3bb51",
   "metadata": {
    "papermill": {
     "duration": 0.065627,
     "end_time": "2021-12-16T19:34:59.958434",
     "exception": false,
     "start_time": "2021-12-16T19:34:59.892807",
     "status": "completed"
    },
    "tags": []
   },
   "source": [
    "Для удаления выбросов воспользуемся доверительным интервалом. Получилось 7 выбросов. По условию задачи мы не можем удалять строки, заменим аномальные значения пограничными\n"
   ]
  },
  {
   "cell_type": "code",
   "execution_count": 27,
   "id": "a5b74b1a",
   "metadata": {
    "execution": {
     "iopub.execute_input": "2021-12-16T19:35:00.095312Z",
     "iopub.status.busy": "2021-12-16T19:35:00.094386Z",
     "iopub.status.idle": "2021-12-16T19:35:00.104590Z",
     "shell.execute_reply": "2021-12-16T19:35:00.104964Z",
     "shell.execute_reply.started": "2021-12-16T19:29:54.290788Z"
    },
    "papermill": {
     "duration": 0.081497,
     "end_time": "2021-12-16T19:35:00.105106",
     "exception": false,
     "start_time": "2021-12-16T19:35:00.023609",
     "status": "completed"
    },
    "tags": []
   },
   "outputs": [
    {
     "name": "stdout",
     "output_type": "stream",
     "text": [
      "25-й перцентиль: 1.9459101490553132, 75-й перцентиль: 4.653960350157523, IQR: 2.7080502011022096,  Границы выбросов: [-2.1161651525980005, 8.716035651810838].\n"
     ]
    }
   ],
   "source": [
    "f=borders_of_outliers(data['Number_of_Reviews'])[1]"
   ]
  },
  {
   "cell_type": "code",
   "execution_count": 28,
   "id": "d38e0418",
   "metadata": {
    "execution": {
     "iopub.execute_input": "2021-12-16T19:35:00.242695Z",
     "iopub.status.busy": "2021-12-16T19:35:00.241830Z",
     "iopub.status.idle": "2021-12-16T19:35:00.244278Z",
     "shell.execute_reply": "2021-12-16T19:35:00.243857Z",
     "shell.execute_reply.started": "2021-12-16T19:29:54.305631Z"
    },
    "papermill": {
     "duration": 0.073524,
     "end_time": "2021-12-16T19:35:00.244398",
     "exception": false,
     "start_time": "2021-12-16T19:35:00.170874",
     "status": "completed"
    },
    "tags": []
   },
   "outputs": [],
   "source": [
    "data.loc[data.loc[:,\"Number_of_Reviews\"]>8.71,'Number_of_Reviews']=f"
   ]
  },
  {
   "cell_type": "markdown",
   "id": "8e9829e5",
   "metadata": {
    "papermill": {
     "duration": 0.06556,
     "end_time": "2021-12-16T19:35:00.375899",
     "exception": false,
     "start_time": "2021-12-16T19:35:00.310339",
     "status": "completed"
    },
    "tags": []
   },
   "source": [
    "##### 5) Reviews"
   ]
  },
  {
   "cell_type": "code",
   "execution_count": 29,
   "id": "e81c1f63",
   "metadata": {
    "execution": {
     "iopub.execute_input": "2021-12-16T19:35:00.531110Z",
     "iopub.status.busy": "2021-12-16T19:35:00.530275Z",
     "iopub.status.idle": "2021-12-16T19:35:00.543464Z",
     "shell.execute_reply": "2021-12-16T19:35:00.542991Z",
     "shell.execute_reply.started": "2021-12-16T19:29:54.312493Z"
    },
    "papermill": {
     "duration": 0.102224,
     "end_time": "2021-12-16T19:35:00.543581",
     "exception": false,
     "start_time": "2021-12-16T19:35:00.441357",
     "status": "completed"
    },
    "tags": []
   },
   "outputs": [
    {
     "data": {
      "text/plain": [
       "count        49998\n",
       "unique       41857\n",
       "top       [[], []]\n",
       "freq          8112\n",
       "Name: Reviews, dtype: object"
      ]
     },
     "execution_count": 29,
     "metadata": {},
     "output_type": "execute_result"
    }
   ],
   "source": [
    "data['Reviews'].describe()"
   ]
  },
  {
   "cell_type": "markdown",
   "id": "9d2838c9",
   "metadata": {
    "papermill": {
     "duration": 0.075013,
     "end_time": "2021-12-16T19:35:00.685897",
     "exception": false,
     "start_time": "2021-12-16T19:35:00.610884",
     "status": "completed"
    },
    "tags": []
   },
   "source": [
    "В Reviews имеется 2 пропуска заполним их значениями \"[[], []]\""
   ]
  },
  {
   "cell_type": "code",
   "execution_count": 30,
   "id": "be4455eb",
   "metadata": {
    "execution": {
     "iopub.execute_input": "2021-12-16T19:35:00.839488Z",
     "iopub.status.busy": "2021-12-16T19:35:00.838617Z",
     "iopub.status.idle": "2021-12-16T19:35:00.841195Z",
     "shell.execute_reply": "2021-12-16T19:35:00.840783Z",
     "shell.execute_reply.started": "2021-12-16T19:29:54.356894Z"
    },
    "papermill": {
     "duration": 0.082477,
     "end_time": "2021-12-16T19:35:00.841341",
     "exception": false,
     "start_time": "2021-12-16T19:35:00.758864",
     "status": "completed"
    },
    "tags": []
   },
   "outputs": [],
   "source": [
    "data['Reviews'].fillna(\"[[], []]\", inplace=True)"
   ]
  },
  {
   "cell_type": "code",
   "execution_count": 31,
   "id": "2c6f5ab4",
   "metadata": {
    "execution": {
     "iopub.execute_input": "2021-12-16T19:35:01.023622Z",
     "iopub.status.busy": "2021-12-16T19:35:01.013387Z",
     "iopub.status.idle": "2021-12-16T19:35:02.055048Z",
     "shell.execute_reply": "2021-12-16T19:35:02.054078Z",
     "shell.execute_reply.started": "2021-12-16T19:29:54.368125Z"
    },
    "papermill": {
     "duration": 1.144462,
     "end_time": "2021-12-16T19:35:02.055339",
     "exception": false,
     "start_time": "2021-12-16T19:35:00.910877",
     "status": "completed"
    },
    "tags": []
   },
   "outputs": [],
   "source": [
    "# извлечем из отзывов даты\n",
    "data['date_1'] = data['Reviews'].apply(lambda x: from_reviews_date(x)[\n",
    "    0] if (len(x) != 8) else None)\n",
    "data['date_2'] = data['Reviews'].apply(lambda x: from_reviews_date(\n",
    "    x)[1] if (len(from_reviews_date(x)) > 1) else None)\n",
    "data['date_1'] = data['date_1'].apply(lambda x: datetime.strptime(\n",
    "    x.strip(\"'\"), \"%m/%d/%Y\") if (x != None) else None)\n",
    "data['date_2'] = data['date_2'].apply(lambda x: datetime.strptime(\n",
    "    x.strip(\"'\"), \"%m/%d/%Y\") if (x != None) else None)"
   ]
  },
  {
   "cell_type": "code",
   "execution_count": 32,
   "id": "1091d020",
   "metadata": {
    "execution": {
     "iopub.execute_input": "2021-12-16T19:35:02.197973Z",
     "iopub.status.busy": "2021-12-16T19:35:02.195202Z",
     "iopub.status.idle": "2021-12-16T19:35:02.201194Z",
     "shell.execute_reply": "2021-12-16T19:35:02.200791Z",
     "shell.execute_reply.started": "2021-12-16T19:29:55.597583Z"
    },
    "papermill": {
     "duration": 0.079555,
     "end_time": "2021-12-16T19:35:02.201334",
     "exception": false,
     "start_time": "2021-12-16T19:35:02.121779",
     "status": "completed"
    },
    "tags": []
   },
   "outputs": [
    {
     "data": {
      "text/plain": [
       "NaT           8114\n",
       "2018-01-07     607\n",
       "2018-01-03     534\n",
       "2018-01-06     498\n",
       "2018-01-04     461\n",
       "              ... \n",
       "2013-09-26       1\n",
       "2013-11-01       1\n",
       "2013-10-25       1\n",
       "2012-07-01       1\n",
       "2012-08-10       1\n",
       "Name: date_1, Length: 1977, dtype: int64"
      ]
     },
     "execution_count": 32,
     "metadata": {},
     "output_type": "execute_result"
    }
   ],
   "source": [
    "data['date_1'].value_counts(dropna=False)"
   ]
  },
  {
   "cell_type": "code",
   "execution_count": 33,
   "id": "b2b0c60c",
   "metadata": {
    "execution": {
     "iopub.execute_input": "2021-12-16T19:35:02.342030Z",
     "iopub.status.busy": "2021-12-16T19:35:02.341170Z",
     "iopub.status.idle": "2021-12-16T19:35:02.345460Z",
     "shell.execute_reply": "2021-12-16T19:35:02.345023Z",
     "shell.execute_reply.started": "2021-12-16T19:29:55.608834Z"
    },
    "papermill": {
     "duration": 0.077589,
     "end_time": "2021-12-16T19:35:02.345580",
     "exception": false,
     "start_time": "2021-12-16T19:35:02.267991",
     "status": "completed"
    },
    "tags": []
   },
   "outputs": [
    {
     "data": {
      "text/plain": [
       "NaT           13794\n",
       "2018-01-03      250\n",
       "2018-01-04      218\n",
       "2017-12-30      209\n",
       "2018-01-01      203\n",
       "              ...  \n",
       "2012-05-30        1\n",
       "2012-04-01        1\n",
       "2013-06-02        1\n",
       "2012-11-20        1\n",
       "2012-07-04        1\n",
       "Name: date_2, Length: 2070, dtype: int64"
      ]
     },
     "execution_count": 33,
     "metadata": {},
     "output_type": "execute_result"
    }
   ],
   "source": [
    "data['date_2'].value_counts(dropna=False)"
   ]
  },
  {
   "cell_type": "markdown",
   "id": "6d02746e",
   "metadata": {
    "papermill": {
     "duration": 0.065923,
     "end_time": "2021-12-16T19:35:02.477845",
     "exception": false,
     "start_time": "2021-12-16T19:35:02.411922",
     "status": "completed"
    },
    "tags": []
   },
   "source": [
    "В датах имеется много пропусков, посчитаем разницу в днях между отзывами и насколько старыми являются отзывы по сравнению с сегодняшним числом"
   ]
  },
  {
   "cell_type": "code",
   "execution_count": 34,
   "id": "b602e5b7",
   "metadata": {
    "execution": {
     "iopub.execute_input": "2021-12-16T19:35:02.615300Z",
     "iopub.status.busy": "2021-12-16T19:35:02.614443Z",
     "iopub.status.idle": "2021-12-16T19:35:02.620563Z",
     "shell.execute_reply": "2021-12-16T19:35:02.620129Z",
     "shell.execute_reply.started": "2021-12-16T19:29:55.624295Z"
    },
    "papermill": {
     "duration": 0.0769,
     "end_time": "2021-12-16T19:35:02.620679",
     "exception": false,
     "start_time": "2021-12-16T19:35:02.543779",
     "status": "completed"
    },
    "tags": []
   },
   "outputs": [],
   "source": [
    "data[\"delta\"] = (np.abs(data[\"date_1\"]-data[\"date_2\"])).dt.days"
   ]
  },
  {
   "cell_type": "code",
   "execution_count": 35,
   "id": "5792f8ef",
   "metadata": {
    "execution": {
     "iopub.execute_input": "2021-12-16T19:35:02.778360Z",
     "iopub.status.busy": "2021-12-16T19:35:02.773300Z",
     "iopub.status.idle": "2021-12-16T19:35:04.127132Z",
     "shell.execute_reply": "2021-12-16T19:35:04.126585Z",
     "shell.execute_reply.started": "2021-12-16T19:29:55.638979Z"
    },
    "papermill": {
     "duration": 1.440471,
     "end_time": "2021-12-16T19:35:04.127274",
     "exception": false,
     "start_time": "2021-12-16T19:35:02.686803",
     "status": "completed"
    },
    "tags": []
   },
   "outputs": [],
   "source": [
    "data['from_now_1']=data[\"date_1\"].apply(lambda x:(datetime.now()-x).days)\n",
    "data['from_now_2']=data[\"date_2\"].apply(lambda x:(datetime.now()-x).days)"
   ]
  },
  {
   "cell_type": "markdown",
   "id": "167fb2b4",
   "metadata": {
    "papermill": {
     "duration": 0.076666,
     "end_time": "2021-12-16T19:35:04.278319",
     "exception": false,
     "start_time": "2021-12-16T19:35:04.201653",
     "status": "completed"
    },
    "tags": []
   },
   "source": [
    "Заполним пропуски 0"
   ]
  },
  {
   "cell_type": "code",
   "execution_count": 36,
   "id": "69456c3d",
   "metadata": {
    "execution": {
     "iopub.execute_input": "2021-12-16T19:35:04.540960Z",
     "iopub.status.busy": "2021-12-16T19:35:04.540054Z",
     "iopub.status.idle": "2021-12-16T19:35:04.543004Z",
     "shell.execute_reply": "2021-12-16T19:35:04.543731Z",
     "shell.execute_reply.started": "2021-12-16T19:29:57.169306Z"
    },
    "papermill": {
     "duration": 0.124004,
     "end_time": "2021-12-16T19:35:04.543924",
     "exception": false,
     "start_time": "2021-12-16T19:35:04.419920",
     "status": "completed"
    },
    "tags": []
   },
   "outputs": [],
   "source": [
    "data[\"delta\"].fillna(0,inplace=True)"
   ]
  },
  {
   "cell_type": "code",
   "execution_count": 37,
   "id": "a2b64b50",
   "metadata": {
    "execution": {
     "iopub.execute_input": "2021-12-16T19:35:04.786232Z",
     "iopub.status.busy": "2021-12-16T19:35:04.785282Z",
     "iopub.status.idle": "2021-12-16T19:35:04.789180Z",
     "shell.execute_reply": "2021-12-16T19:35:04.789991Z",
     "shell.execute_reply.started": "2021-12-16T19:29:57.176531Z"
    },
    "papermill": {
     "duration": 0.129666,
     "end_time": "2021-12-16T19:35:04.790182",
     "exception": false,
     "start_time": "2021-12-16T19:35:04.660516",
     "status": "completed"
    },
    "tags": []
   },
   "outputs": [],
   "source": [
    "data[\"from_now_1\"].fillna(0,inplace=True)\n",
    "data[\"from_now_2\"].fillna(0,inplace=True)"
   ]
  },
  {
   "cell_type": "markdown",
   "id": "75abd62c",
   "metadata": {
    "papermill": {
     "duration": 0.073674,
     "end_time": "2021-12-16T19:35:04.980990",
     "exception": false,
     "start_time": "2021-12-16T19:35:04.907316",
     "status": "completed"
    },
    "tags": []
   },
   "source": [
    "Посмотрим на наличие emoji в отзывах, зачастую смайлы оставляют люди с позитивными отзывами"
   ]
  },
  {
   "cell_type": "code",
   "execution_count": 38,
   "id": "f06a52c0",
   "metadata": {
    "execution": {
     "iopub.execute_input": "2021-12-16T19:35:05.158608Z",
     "iopub.status.busy": "2021-12-16T19:35:05.143253Z",
     "iopub.status.idle": "2021-12-16T19:35:05.479739Z",
     "shell.execute_reply": "2021-12-16T19:35:05.479180Z",
     "shell.execute_reply.started": "2021-12-16T19:29:57.188775Z"
    },
    "papermill": {
     "duration": 0.430551,
     "end_time": "2021-12-16T19:35:05.479867",
     "exception": false,
     "start_time": "2021-12-16T19:35:05.049316",
     "status": "completed"
    },
    "tags": []
   },
   "outputs": [],
   "source": [
    "data['is_smile'] = data['Reviews'].apply(lambda x: is_emoji(str(x)))\n",
    "#data = pd.get_dummies(data, columns=['len_smile'])"
   ]
  },
  {
   "cell_type": "code",
   "execution_count": 39,
   "id": "024a87e3",
   "metadata": {
    "execution": {
     "iopub.execute_input": "2021-12-16T19:35:05.618670Z",
     "iopub.status.busy": "2021-12-16T19:35:05.617947Z",
     "iopub.status.idle": "2021-12-16T19:35:05.784723Z",
     "shell.execute_reply": "2021-12-16T19:35:05.784249Z",
     "shell.execute_reply.started": "2021-12-16T19:29:57.580521Z"
    },
    "papermill": {
     "duration": 0.238984,
     "end_time": "2021-12-16T19:35:05.784841",
     "exception": false,
     "start_time": "2021-12-16T19:35:05.545857",
     "status": "completed"
    },
    "tags": []
   },
   "outputs": [
    {
     "data": {
      "image/png": "[encoded data removed]",
      "text/plain": [
       "<Figure size 576x360 with 1 Axes>"
      ]
     },
     "metadata": {
      "needs_background": "light"
     },
     "output_type": "display_data"
    }
   ],
   "source": [
    "plt.figure(figsize=(8,5))\n",
    "ax=sns.countplot(x='is_smile',data=data,palette='rocket')\n",
    "ax.set(xlabel='Наличие emoji',ylabel='Emoji')\n",
    "for p in ax.patches:\n",
    "        ax.annotate(p.get_height(), (p.get_x()+0.34, p.get_height()+350));"
   ]
  },
  {
   "cell_type": "markdown",
   "id": "2a9d8623",
   "metadata": {
    "papermill": {
     "duration": 0.071355,
     "end_time": "2021-12-16T19:35:05.925172",
     "exception": false,
     "start_time": "2021-12-16T19:35:05.853817",
     "status": "completed"
    },
    "tags": []
   },
   "source": [
    "С помощью  примитивного \"мешка слов\" определим тональность отзывов"
   ]
  },
  {
   "cell_type": "code",
   "execution_count": 40,
   "id": "d6f263b6",
   "metadata": {
    "execution": {
     "iopub.execute_input": "2021-12-16T19:35:06.081480Z",
     "iopub.status.busy": "2021-12-16T19:35:06.071058Z",
     "iopub.status.idle": "2021-12-16T19:35:06.253783Z",
     "shell.execute_reply": "2021-12-16T19:35:06.253289Z",
     "shell.execute_reply.started": "2021-12-16T19:29:57.764533Z"
    },
    "papermill": {
     "duration": 0.260793,
     "end_time": "2021-12-16T19:35:06.253912",
     "exception": false,
     "start_time": "2021-12-16T19:35:05.993119",
     "status": "completed"
    },
    "tags": []
   },
   "outputs": [],
   "source": [
    "bag_of_words = {'positive': ['excellent', 'best', 'great', 'fantastic', 'wonderful', 'perfect',\n",
    "                             'delicious', 'amazing', 'honest', 'gem','super'], \n",
    "                \"negative\": ['wasting', 'terrible', 'horrible', 'racism', 'worst','bad','damn','garbage','trash']}\n",
    "data['tonal'] = data['Reviews'].apply(lambda x: tonal(str(x)))\n"
   ]
  },
  {
   "cell_type": "code",
   "execution_count": 41,
   "id": "de448c1b",
   "metadata": {
    "execution": {
     "iopub.execute_input": "2021-12-16T19:35:06.422661Z",
     "iopub.status.busy": "2021-12-16T19:35:06.421869Z",
     "iopub.status.idle": "2021-12-16T19:35:06.621748Z",
     "shell.execute_reply": "2021-12-16T19:35:06.622406Z",
     "shell.execute_reply.started": "2021-12-16T19:29:57.982290Z"
    },
    "papermill": {
     "duration": 0.301253,
     "end_time": "2021-12-16T19:35:06.622567",
     "exception": false,
     "start_time": "2021-12-16T19:35:06.321314",
     "status": "completed"
    },
    "tags": []
   },
   "outputs": [
    {
     "data": {
      "image/png": "[encoded data removed]",
      "text/plain": [
       "<Figure size 576x360 with 1 Axes>"
      ]
     },
     "metadata": {
      "needs_background": "light"
     },
     "output_type": "display_data"
    }
   ],
   "source": [
    "plt.figure(figsize=(8,5))\n",
    "ax=sns.countplot(x='tonal',data=data,palette='rocket')\n",
    "ax.set(xlabel='Наличие emoji',ylabel='Emoji')\n",
    "for p in ax.patches:\n",
    "        ax.annotate(p.get_height(), (p.get_x()+0.34, p.get_height()+350));"
   ]
  },
  {
   "cell_type": "code",
   "execution_count": 42,
   "id": "fd8df0c4",
   "metadata": {
    "execution": {
     "iopub.execute_input": "2021-12-16T19:35:06.770867Z",
     "iopub.status.busy": "2021-12-16T19:35:06.769891Z",
     "iopub.status.idle": "2021-12-16T19:35:06.809133Z",
     "shell.execute_reply": "2021-12-16T19:35:06.808620Z",
     "shell.execute_reply.started": "2021-12-16T19:29:58.235133Z"
    },
    "papermill": {
     "duration": 0.11587,
     "end_time": "2021-12-16T19:35:06.809283",
     "exception": false,
     "start_time": "2021-12-16T19:35:06.693413",
     "status": "completed"
    },
    "tags": []
   },
   "outputs": [],
   "source": [
    "data = pd.get_dummies(data, columns=['tonal'])"
   ]
  },
  {
   "cell_type": "markdown",
   "id": "798e80ff",
   "metadata": {
    "papermill": {
     "duration": 0.070641,
     "end_time": "2021-12-16T19:35:06.951936",
     "exception": false,
     "start_time": "2021-12-16T19:35:06.881295",
     "status": "completed"
    },
    "tags": []
   },
   "source": [
    "##### 6) ID_TA"
   ]
  },
  {
   "cell_type": "code",
   "execution_count": 43,
   "id": "7b6b8390",
   "metadata": {
    "execution": {
     "iopub.execute_input": "2021-12-16T19:35:07.122002Z",
     "iopub.status.busy": "2021-12-16T19:35:07.093054Z",
     "iopub.status.idle": "2021-12-16T19:35:07.125625Z",
     "shell.execute_reply": "2021-12-16T19:35:07.125136Z",
     "shell.execute_reply.started": "2021-12-16T19:29:58.275332Z"
    },
    "papermill": {
     "duration": 0.105378,
     "end_time": "2021-12-16T19:35:07.125747",
     "exception": false,
     "start_time": "2021-12-16T19:35:07.020369",
     "status": "completed"
    },
    "tags": []
   },
   "outputs": [],
   "source": [
    "data['code_ID_TA'] = data['ID_TA'].apply(lambda x: float(x[1:]))"
   ]
  },
  {
   "cell_type": "markdown",
   "id": "e6a3fa2d",
   "metadata": {
    "papermill": {
     "duration": 0.067011,
     "end_time": "2021-12-16T19:35:07.260730",
     "exception": false,
     "start_time": "2021-12-16T19:35:07.193719",
     "status": "completed"
    },
    "tags": []
   },
   "source": [
    "Дополнительно может быть использован для парсинга данных"
   ]
  },
  {
   "cell_type": "markdown",
   "id": "27619a11",
   "metadata": {
    "papermill": {
     "duration": 0.067295,
     "end_time": "2021-12-16T19:35:07.395270",
     "exception": false,
     "start_time": "2021-12-16T19:35:07.327975",
     "status": "completed"
    },
    "tags": []
   },
   "source": [
    "##### 7) URL_TA\n"
   ]
  },
  {
   "cell_type": "code",
   "execution_count": 44,
   "id": "c2cbaa4f",
   "metadata": {
    "execution": {
     "iopub.execute_input": "2021-12-16T19:35:07.541060Z",
     "iopub.status.busy": "2021-12-16T19:35:07.540200Z",
     "iopub.status.idle": "2021-12-16T19:35:07.629780Z",
     "shell.execute_reply": "2021-12-16T19:35:07.629221Z",
     "shell.execute_reply.started": "2021-12-16T19:29:58.315050Z"
    },
    "papermill": {
     "duration": 0.167098,
     "end_time": "2021-12-16T19:35:07.629906",
     "exception": false,
     "start_time": "2021-12-16T19:35:07.462808",
     "status": "completed"
    },
    "tags": []
   },
   "outputs": [],
   "source": [
    "data['code_after_g_URL_TA'] = data['URL_TA'].str.split('-').apply(lambda x: x[1][1:]).astype('float64')"
   ]
  },
  {
   "cell_type": "markdown",
   "id": "d896b5ec",
   "metadata": {
    "papermill": {
     "duration": 0.068145,
     "end_time": "2021-12-16T19:35:07.766440",
     "exception": false,
     "start_time": "2021-12-16T19:35:07.698295",
     "status": "completed"
    },
    "tags": []
   },
   "source": [
    "Дополнительно может быть использован для парсинга данных"
   ]
  },
  {
   "cell_type": "markdown",
   "id": "8c8386ef",
   "metadata": {
    "papermill": {
     "duration": 0.06701,
     "end_time": "2021-12-16T19:35:07.900698",
     "exception": false,
     "start_time": "2021-12-16T19:35:07.833688",
     "status": "completed"
    },
    "tags": []
   },
   "source": [
    "##### 8) Ranking"
   ]
  },
  {
   "cell_type": "code",
   "execution_count": 45,
   "id": "7d094842",
   "metadata": {
    "execution": {
     "iopub.execute_input": "2021-12-16T19:35:08.056675Z",
     "iopub.status.busy": "2021-12-16T19:35:08.055957Z",
     "iopub.status.idle": "2021-12-16T19:35:10.236036Z",
     "shell.execute_reply": "2021-12-16T19:35:10.236515Z",
     "shell.execute_reply.started": "2021-12-16T19:29:58.427985Z"
    },
    "papermill": {
     "duration": 2.268409,
     "end_time": "2021-12-16T19:35:10.236695",
     "exception": false,
     "start_time": "2021-12-16T19:35:07.968286",
     "status": "completed"
    },
    "tags": []
   },
   "outputs": [
    {
     "data": {
      "image/png": "[encoded data removed]",
      "text/plain": [
       "<Figure size 576x432 with 1 Axes>"
      ]
     },
     "metadata": {
      "needs_background": "light"
     },
     "output_type": "display_data"
    }
   ],
   "source": [
    "plt.figure(figsize=(8,6))\n",
    "for x in (data['City'].value_counts())[0:10].index:\n",
    "    data['Ranking'][data['City'] == x].hist(bins=100)\n",
    "plt.show()"
   ]
  },
  {
   "cell_type": "markdown",
   "id": "2e90cfeb",
   "metadata": {
    "papermill": {
     "duration": 0.071628,
     "end_time": "2021-12-16T19:35:10.381589",
     "exception": false,
     "start_time": "2021-12-16T19:35:10.309961",
     "status": "completed"
    },
    "tags": []
   },
   "source": [
    "Отнормируем значения Ranking в зависимости от количества ресторанов в выборке по городам"
   ]
  },
  {
   "cell_type": "code",
   "execution_count": 46,
   "id": "4e107446",
   "metadata": {
    "execution": {
     "iopub.execute_input": "2021-12-16T19:35:10.525929Z",
     "iopub.status.busy": "2021-12-16T19:35:10.520809Z",
     "iopub.status.idle": "2021-12-16T19:35:10.535426Z",
     "shell.execute_reply": "2021-12-16T19:35:10.535000Z",
     "shell.execute_reply.started": "2021-12-16T19:30:00.456857Z"
    },
    "papermill": {
     "duration": 0.085935,
     "end_time": "2021-12-16T19:35:10.535555",
     "exception": false,
     "start_time": "2021-12-16T19:35:10.449620",
     "status": "completed"
    },
    "tags": []
   },
   "outputs": [],
   "source": [
    "sities_count = {}\n",
    "for k, v in data.groupby('City')['ID_TA'].count().items():\n",
    "    sities_count[k] = v"
   ]
  },
  {
   "cell_type": "code",
   "execution_count": 47,
   "id": "53eeae00",
   "metadata": {
    "execution": {
     "iopub.execute_input": "2021-12-16T19:35:10.677175Z",
     "iopub.status.busy": "2021-12-16T19:35:10.673621Z",
     "iopub.status.idle": "2021-12-16T19:35:10.724072Z",
     "shell.execute_reply": "2021-12-16T19:35:10.722950Z",
     "shell.execute_reply.started": "2021-12-16T19:30:00.474869Z"
    },
    "papermill": {
     "duration": 0.12072,
     "end_time": "2021-12-16T19:35:10.724203",
     "exception": false,
     "start_time": "2021-12-16T19:35:10.603483",
     "status": "completed"
    },
    "tags": []
   },
   "outputs": [],
   "source": [
    "data['counts_rest'] = data['City'].apply(lambda x: sities_count[x])\n",
    "data[\"coef_Rank\"] = data['Ranking']/data['counts_rest']\n",
    "\n",
    "data.drop('counts_rest', axis=1, inplace=True)"
   ]
  },
  {
   "cell_type": "code",
   "execution_count": 48,
   "id": "557fba48",
   "metadata": {
    "execution": {
     "iopub.execute_input": "2021-12-16T19:35:10.881716Z",
     "iopub.status.busy": "2021-12-16T19:35:10.880887Z",
     "iopub.status.idle": "2021-12-16T19:35:12.690202Z",
     "shell.execute_reply": "2021-12-16T19:35:12.690618Z",
     "shell.execute_reply.started": "2021-12-16T19:30:00.529933Z"
    },
    "papermill": {
     "duration": 1.897865,
     "end_time": "2021-12-16T19:35:12.690770",
     "exception": false,
     "start_time": "2021-12-16T19:35:10.792905",
     "status": "completed"
    },
    "tags": []
   },
   "outputs": [
    {
     "data": {
      "image/png": "[encoded data removed]",
      "text/plain": [
       "<Figure size 576x432 with 1 Axes>"
      ]
     },
     "metadata": {
      "needs_background": "light"
     },
     "output_type": "display_data"
    }
   ],
   "source": [
    "plt.figure(figsize=(8,6))\n",
    "for x in (data['City'].value_counts())[0:10].index:\n",
    "    data['coef_Rank'][data['City'] == x].hist(bins=100)\n",
    "plt.show()"
   ]
  },
  {
   "cell_type": "markdown",
   "id": "a1821337",
   "metadata": {
    "papermill": {
     "duration": 0.072738,
     "end_time": "2021-12-16T19:35:12.837849",
     "exception": false,
     "start_time": "2021-12-16T19:35:12.765111",
     "status": "completed"
    },
    "tags": []
   },
   "source": [
    "##### 8) City"
   ]
  },
  {
   "cell_type": "code",
   "execution_count": 49,
   "id": "0c653eb7",
   "metadata": {
    "execution": {
     "iopub.execute_input": "2021-12-16T19:35:12.996418Z",
     "iopub.status.busy": "2021-12-16T19:35:12.995536Z",
     "iopub.status.idle": "2021-12-16T19:35:12.998523Z",
     "shell.execute_reply": "2021-12-16T19:35:12.998913Z",
     "shell.execute_reply.started": "2021-12-16T19:30:02.593255Z"
    },
    "papermill": {
     "duration": 0.0894,
     "end_time": "2021-12-16T19:35:12.999047",
     "exception": false,
     "start_time": "2021-12-16T19:35:12.909647",
     "status": "completed"
    },
    "tags": []
   },
   "outputs": [
    {
     "data": {
      "text/plain": [
       "London        7193\n",
       "Paris         6108\n",
       "Madrid        3813\n",
       "Barcelona     3395\n",
       "Berlin        2705\n",
       "Milan         2694\n",
       "Rome          2589\n",
       "Prague        1816\n",
       "Lisbon        1647\n",
       "Vienna        1443\n",
       "Amsterdam     1372\n",
       "Brussels      1314\n",
       "Hamburg       1186\n",
       "Munich        1145\n",
       "Lyon          1126\n",
       "Stockholm     1033\n",
       "Budapest      1021\n",
       "Warsaw         925\n",
       "Dublin         836\n",
       "Copenhagen     819\n",
       "Athens         776\n",
       "Edinburgh      745\n",
       "Zurich         685\n",
       "Oporto         642\n",
       "Geneva         590\n",
       "Krakow         554\n",
       "Oslo           488\n",
       "Helsinki       475\n",
       "Bratislava     380\n",
       "Luxembourg     263\n",
       "Ljubljana      222\n",
       "Name: City, dtype: int64"
      ]
     },
     "execution_count": 49,
     "metadata": {},
     "output_type": "execute_result"
    }
   ],
   "source": [
    "data['City'].value_counts()"
   ]
  },
  {
   "cell_type": "code",
   "execution_count": 50,
   "id": "8c86c1f1",
   "metadata": {
    "execution": {
     "iopub.execute_input": "2021-12-16T19:35:13.158776Z",
     "iopub.status.busy": "2021-12-16T19:35:13.157791Z",
     "iopub.status.idle": "2021-12-16T19:35:15.415463Z",
     "shell.execute_reply": "2021-12-16T19:35:15.416398Z",
     "shell.execute_reply.started": "2021-12-16T19:30:02.611936Z"
    },
    "papermill": {
     "duration": 2.346698,
     "end_time": "2021-12-16T19:35:15.416600",
     "exception": false,
     "start_time": "2021-12-16T19:35:13.069902",
     "status": "completed"
    },
    "tags": []
   },
   "outputs": [],
   "source": [
    " #является ли город столицей\n",
    "list_Of_NotCapitalCity = ['Barcelona', 'Milan', 'Hamburg', 'Munich', \n",
    "                          'Lyon', 'Zurich', 'Oporto', 'Geneva', 'Krakow']\n",
    "data['Capital_City'] = data['City'].apply(lambda x: 0.0 if x in list_Of_NotCapitalCity else 1.0)\n",
    "\n",
    "\n",
    " #Отношение к какой стране\n",
    "dict_Сountries = {'London' : 'England', 'Paris' : 'France', 'Madrid' : 'Spain', \n",
    "                  'Barcelona' : 'Spain', 'Berlin' : 'Germany', 'Milan' : 'Italy', \n",
    "                  'Rome' : 'Italy', 'Prague' : 'Czech_c', 'Lisbon' : 'Portugal', \n",
    "                  'Vienna' : 'Austria', 'Amsterdam' : 'Holland', \n",
    "                  'Brussels' : 'Belgium', 'Hamburg' : 'Germany', 'Munich' : 'Germany', \n",
    "                  'Lyon' : 'France', 'Stockholm' : 'Sweden', 'Budapest' : 'Romania', \n",
    "                  'Warsaw' : 'Poland', 'Dublin' : 'Ireland', 'Copenhagen' : 'Denmark', \n",
    "                  'Athens' : 'Greece', 'Edinburgh' : 'Scotland', 'Zurich' : 'Switzerland', \n",
    "                  'Oporto' : 'Portugal', 'Geneva' : 'Switzerland', 'Krakow' : 'Poland', \n",
    "                  'Oslo' : 'Norway', 'Helsinki' : 'Finland', 'Bratislava' : 'Slovakia', \n",
    "                  'Luxembourg' : 'Luxembourg_c', 'Ljubljana' : 'Slovenia'}\n",
    "data['Сountry'] = data.apply(lambda row: dict_Сountries[row['City']], axis = 1)\n",
    "\n",
    "#Закодируем принадлежность к стране\n",
    "le = LabelEncoder()\n",
    "le.fit(data['Сountry'])\n",
    "data['code_Сountry'] = le.transform(data['Сountry'])\n",
    "data.drop('Сountry', axis=1, inplace=True)\n",
    "\n",
    "#Популяция города\n",
    "dict_Сity_population= {'London' : 8908, 'Paris' : 2206, 'Madrid' : 3223, 'Barcelona' : 1620, \n",
    "                        'Berlin' : 6010, 'Milan' : 1366, 'Rome' : 2872, 'Prague' : 1308, \n",
    "                        'Lisbon' : 506, 'Vienna' : 1888, 'Amsterdam' : 860, 'Brussels' : 179, \n",
    "                        'Hamburg' : 1841, 'Munich' : 1457, 'Lyon' : 506, 'Stockholm' : 961, \n",
    "                        'Budapest' : 1752, 'Warsaw' : 1764, 'Dublin' : 553, \n",
    "                        'Copenhagen' : 616, 'Athens' : 665, 'Edinburgh' : 513, \n",
    "                        'Zurich' : 415, 'Oporto' : 240, 'Geneva' : 201, 'Krakow' : 769, \n",
    "                        'Oslo' : 681, 'Helsinki' : 643, 'Bratislava' : 426, \n",
    "                        'Luxembourg' : 119, 'Ljubljana' : 284}\n",
    "data['Сity_population'] = data.apply(lambda row: dict_Сity_population[row['City']], axis = 1)"
   ]
  },
  {
   "cell_type": "code",
   "execution_count": 51,
   "id": "2e6d8d7b",
   "metadata": {
    "execution": {
     "iopub.execute_input": "2021-12-16T19:35:15.661546Z",
     "iopub.status.busy": "2021-12-16T19:35:15.660694Z",
     "iopub.status.idle": "2021-12-16T19:35:15.700292Z",
     "shell.execute_reply": "2021-12-16T19:35:15.701089Z",
     "shell.execute_reply.started": "2021-12-16T19:30:05.534903Z"
    },
    "papermill": {
     "duration": 0.162621,
     "end_time": "2021-12-16T19:35:15.701313",
     "exception": false,
     "start_time": "2021-12-16T19:35:15.538692",
     "status": "completed"
    },
    "tags": []
   },
   "outputs": [],
   "source": [
    "data = pd.get_dummies(data, columns=['City'])"
   ]
  },
  {
   "cell_type": "markdown",
   "id": "41d20d29",
   "metadata": {
    "papermill": {
     "duration": 0.08891,
     "end_time": "2021-12-16T19:35:15.905104",
     "exception": false,
     "start_time": "2021-12-16T19:35:15.816194",
     "status": "completed"
    },
    "tags": []
   },
   "source": [
    "Добавлены следующие признаки:<br>\n",
    "1) Является ли город столицей <br>\n",
    "2) В какой стране находится город<br>\n",
    "3) Население города"
   ]
  },
  {
   "cell_type": "markdown",
   "id": "e5d43054",
   "metadata": {
    "papermill": {
     "duration": 0.06918,
     "end_time": "2021-12-16T19:35:16.044087",
     "exception": false,
     "start_time": "2021-12-16T19:35:15.974907",
     "status": "completed"
    },
    "tags": []
   },
   "source": [
    "### Финальная обработка данных перед загрузкой в модель"
   ]
  },
  {
   "cell_type": "code",
   "execution_count": 52,
   "id": "96727c2b",
   "metadata": {
    "execution": {
     "iopub.execute_input": "2021-12-16T19:35:16.189760Z",
     "iopub.status.busy": "2021-12-16T19:35:16.188432Z",
     "iopub.status.idle": "2021-12-16T19:35:16.209171Z",
     "shell.execute_reply": "2021-12-16T19:35:16.208713Z",
     "shell.execute_reply.started": "2021-12-16T19:30:05.567034Z"
    },
    "papermill": {
     "duration": 0.095776,
     "end_time": "2021-12-16T19:35:16.209326",
     "exception": false,
     "start_time": "2021-12-16T19:35:16.113550",
     "status": "completed"
    },
    "tags": []
   },
   "outputs": [],
   "source": [
    "data.drop(['Cuisine Style','Reviews', 'URL_TA', 'ID_TA', 'date_1',\"date_2\" ], axis=1, inplace=True, errors='ignore')\n"
   ]
  },
  {
   "cell_type": "code",
   "execution_count": 53,
   "id": "5d3de505",
   "metadata": {
    "execution": {
     "iopub.execute_input": "2021-12-16T19:35:16.371924Z",
     "iopub.status.busy": "2021-12-16T19:35:16.370982Z",
     "iopub.status.idle": "2021-12-16T19:35:16.823736Z",
     "shell.execute_reply": "2021-12-16T19:35:16.823216Z",
     "shell.execute_reply.started": "2021-12-16T19:30:05.594001Z"
    },
    "papermill": {
     "duration": 0.537597,
     "end_time": "2021-12-16T19:35:16.823868",
     "exception": false,
     "start_time": "2021-12-16T19:35:16.286271",
     "status": "completed"
    },
    "tags": []
   },
   "outputs": [],
   "source": [
    "# функция для стандартизации\n",
    "def StandardScaler_column(d_col):\n",
    "    scaler = StandardScaler()\n",
    "    scaler.fit(data[[d_col]])\n",
    "    return scaler.transform(data[[d_col]])\n",
    "# стандартизируем все столбцы кроме целевой и sample\n",
    "for i  in list(data.columns):\n",
    "    if i not in ['Rating','sample']:\n",
    "        data[i] = StandardScaler_column(i)"
   ]
  },
  {
   "cell_type": "code",
   "execution_count": 54,
   "id": "e3e96742",
   "metadata": {
    "execution": {
     "iopub.execute_input": "2021-12-16T19:35:16.976345Z",
     "iopub.status.busy": "2021-12-16T19:35:16.975082Z",
     "iopub.status.idle": "2021-12-16T19:35:17.170050Z",
     "shell.execute_reply": "2021-12-16T19:35:17.170531Z",
     "shell.execute_reply.started": "2021-12-16T19:30:06.069543Z"
    },
    "papermill": {
     "duration": 0.273537,
     "end_time": "2021-12-16T19:35:17.170709",
     "exception": false,
     "start_time": "2021-12-16T19:35:16.897172",
     "status": "completed"
    },
    "tags": []
   },
   "outputs": [
    {
     "data": {
      "text/html": [
       "<div>\n",
       "<style scoped>\n",
       "    .dataframe tbody tr th:only-of-type {\n",
       "        vertical-align: middle;\n",
       "    }\n",
       "\n",
       "    .dataframe tbody tr th {\n",
       "        vertical-align: top;\n",
       "    }\n",
       "\n",
       "    .dataframe thead th {\n",
       "        text-align: right;\n",
       "    }\n",
       "</style>\n",
       "<table border=\"1\" class=\"dataframe\">\n",
       "  <thead>\n",
       "    <tr style=\"text-align: right;\">\n",
       "      <th></th>\n",
       "      <th>Ranking</th>\n",
       "      <th>Price Range</th>\n",
       "      <th>Number_of_Reviews</th>\n",
       "      <th>sample</th>\n",
       "      <th>Rating</th>\n",
       "      <th>is_popular</th>\n",
       "      <th>is_rare</th>\n",
       "      <th>is_alco</th>\n",
       "      <th>len</th>\n",
       "      <th>delta</th>\n",
       "      <th>from_now_1</th>\n",
       "      <th>from_now_2</th>\n",
       "      <th>is_smile</th>\n",
       "      <th>tonal_negative</th>\n",
       "      <th>tonal_neutral</th>\n",
       "      <th>tonal_positive</th>\n",
       "      <th>code_ID_TA</th>\n",
       "      <th>code_after_g_URL_TA</th>\n",
       "      <th>coef_Rank</th>\n",
       "      <th>Capital_City</th>\n",
       "      <th>code_Сountry</th>\n",
       "      <th>Сity_population</th>\n",
       "      <th>City_Amsterdam</th>\n",
       "      <th>City_Athens</th>\n",
       "      <th>City_Barcelona</th>\n",
       "      <th>City_Berlin</th>\n",
       "      <th>City_Bratislava</th>\n",
       "      <th>City_Brussels</th>\n",
       "      <th>City_Budapest</th>\n",
       "      <th>City_Copenhagen</th>\n",
       "      <th>City_Dublin</th>\n",
       "      <th>City_Edinburgh</th>\n",
       "      <th>City_Geneva</th>\n",
       "      <th>City_Hamburg</th>\n",
       "      <th>City_Helsinki</th>\n",
       "      <th>City_Krakow</th>\n",
       "      <th>City_Lisbon</th>\n",
       "      <th>City_Ljubljana</th>\n",
       "      <th>City_London</th>\n",
       "      <th>City_Luxembourg</th>\n",
       "      <th>City_Lyon</th>\n",
       "      <th>City_Madrid</th>\n",
       "      <th>City_Milan</th>\n",
       "      <th>City_Munich</th>\n",
       "      <th>City_Oporto</th>\n",
       "      <th>City_Oslo</th>\n",
       "      <th>City_Paris</th>\n",
       "      <th>City_Prague</th>\n",
       "      <th>City_Rome</th>\n",
       "      <th>City_Stockholm</th>\n",
       "      <th>City_Vienna</th>\n",
       "      <th>City_Warsaw</th>\n",
       "      <th>City_Zurich</th>\n",
       "    </tr>\n",
       "  </thead>\n",
       "  <tbody>\n",
       "    <tr>\n",
       "      <th>count</th>\n",
       "      <td>50000.0</td>\n",
       "      <td>50000.0</td>\n",
       "      <td>50000.0</td>\n",
       "      <td>50000.0</td>\n",
       "      <td>50000.0</td>\n",
       "      <td>50000.0</td>\n",
       "      <td>50000.0</td>\n",
       "      <td>50000.0</td>\n",
       "      <td>50000.0</td>\n",
       "      <td>50000.0</td>\n",
       "      <td>50000.0</td>\n",
       "      <td>50000.0</td>\n",
       "      <td>50000.0</td>\n",
       "      <td>50000.0</td>\n",
       "      <td>50000.0</td>\n",
       "      <td>50000.0</td>\n",
       "      <td>50000.0</td>\n",
       "      <td>50000.0</td>\n",
       "      <td>50000.0</td>\n",
       "      <td>50000.0</td>\n",
       "      <td>50000.0</td>\n",
       "      <td>50000.0</td>\n",
       "      <td>50000.0</td>\n",
       "      <td>50000.0</td>\n",
       "      <td>50000.0</td>\n",
       "      <td>50000.0</td>\n",
       "      <td>50000.0</td>\n",
       "      <td>50000.0</td>\n",
       "      <td>50000.0</td>\n",
       "      <td>50000.0</td>\n",
       "      <td>50000.0</td>\n",
       "      <td>50000.0</td>\n",
       "      <td>50000.0</td>\n",
       "      <td>50000.0</td>\n",
       "      <td>50000.0</td>\n",
       "      <td>50000.0</td>\n",
       "      <td>50000.0</td>\n",
       "      <td>50000.0</td>\n",
       "      <td>50000.0</td>\n",
       "      <td>50000.0</td>\n",
       "      <td>50000.0</td>\n",
       "      <td>50000.0</td>\n",
       "      <td>50000.0</td>\n",
       "      <td>50000.0</td>\n",
       "      <td>50000.0</td>\n",
       "      <td>50000.0</td>\n",
       "      <td>50000.0</td>\n",
       "      <td>50000.0</td>\n",
       "      <td>50000.0</td>\n",
       "      <td>50000.0</td>\n",
       "      <td>50000.0</td>\n",
       "      <td>50000.0</td>\n",
       "      <td>50000.0</td>\n",
       "    </tr>\n",
       "  </tbody>\n",
       "</table>\n",
       "</div>"
      ],
      "text/plain": [
       "       Ranking  Price Range  Number_of_Reviews   sample   Rating  is_popular  \\\n",
       "count  50000.0      50000.0            50000.0  50000.0  50000.0     50000.0   \n",
       "\n",
       "       is_rare  is_alco      len    delta  from_now_1  from_now_2  is_smile  \\\n",
       "count  50000.0  50000.0  50000.0  50000.0     50000.0     50000.0   50000.0   \n",
       "\n",
       "       tonal_negative  tonal_neutral  tonal_positive  code_ID_TA  \\\n",
       "count         50000.0        50000.0         50000.0     50000.0   \n",
       "\n",
       "       code_after_g_URL_TA  coef_Rank  Capital_City  code_Сountry  \\\n",
       "count              50000.0    50000.0       50000.0       50000.0   \n",
       "\n",
       "       Сity_population  City_Amsterdam  City_Athens  City_Barcelona  \\\n",
       "count          50000.0         50000.0      50000.0         50000.0   \n",
       "\n",
       "       City_Berlin  City_Bratislava  City_Brussels  City_Budapest  \\\n",
       "count      50000.0          50000.0        50000.0        50000.0   \n",
       "\n",
       "       City_Copenhagen  City_Dublin  City_Edinburgh  City_Geneva  \\\n",
       "count          50000.0      50000.0         50000.0      50000.0   \n",
       "\n",
       "       City_Hamburg  City_Helsinki  City_Krakow  City_Lisbon  City_Ljubljana  \\\n",
       "count       50000.0        50000.0      50000.0      50000.0         50000.0   \n",
       "\n",
       "       City_London  City_Luxembourg  City_Lyon  City_Madrid  City_Milan  \\\n",
       "count      50000.0          50000.0    50000.0      50000.0     50000.0   \n",
       "\n",
       "       City_Munich  City_Oporto  City_Oslo  City_Paris  City_Prague  \\\n",
       "count      50000.0      50000.0    50000.0     50000.0      50000.0   \n",
       "\n",
       "       City_Rome  City_Stockholm  City_Vienna  City_Warsaw  City_Zurich  \n",
       "count    50000.0         50000.0      50000.0      50000.0      50000.0  "
      ]
     },
     "metadata": {},
     "output_type": "display_data"
    }
   ],
   "source": [
    "display(data.describe().head(1)) # Проверяем заполненность всех полей"
   ]
  },
  {
   "cell_type": "code",
   "execution_count": 55,
   "id": "d6101544",
   "metadata": {
    "execution": {
     "iopub.execute_input": "2021-12-16T19:35:17.321593Z",
     "iopub.status.busy": "2021-12-16T19:35:17.320744Z",
     "iopub.status.idle": "2021-12-16T19:35:17.322981Z",
     "shell.execute_reply": "2021-12-16T19:35:17.323357Z",
     "shell.execute_reply.started": "2021-12-16T19:30:06.276431Z"
    },
    "papermill": {
     "duration": 0.07768,
     "end_time": "2021-12-16T19:35:17.323495",
     "exception": false,
     "start_time": "2021-12-16T19:35:17.245815",
     "status": "completed"
    },
    "tags": []
   },
   "outputs": [],
   "source": [
    "my_submissions = df_test['Restaurant_id']"
   ]
  },
  {
   "cell_type": "markdown",
   "id": "4706a15b",
   "metadata": {
    "papermill": {
     "duration": 0.069256,
     "end_time": "2021-12-16T19:35:17.462363",
     "exception": false,
     "start_time": "2021-12-16T19:35:17.393107",
     "status": "completed"
    },
    "tags": []
   },
   "source": [
    "#### Разбиваем датасет на тренировочный и тестовый"
   ]
  },
  {
   "cell_type": "code",
   "execution_count": 56,
   "id": "e2179909",
   "metadata": {
    "execution": {
     "iopub.execute_input": "2021-12-16T19:35:17.614045Z",
     "iopub.status.busy": "2021-12-16T19:35:17.610136Z",
     "iopub.status.idle": "2021-12-16T19:35:17.633003Z",
     "shell.execute_reply": "2021-12-16T19:35:17.632080Z",
     "shell.execute_reply.started": "2021-12-16T19:30:06.282960Z"
    },
    "papermill": {
     "duration": 0.10099,
     "end_time": "2021-12-16T19:35:17.633122",
     "exception": false,
     "start_time": "2021-12-16T19:35:17.532132",
     "status": "completed"
    },
    "tags": []
   },
   "outputs": [],
   "source": [
    "train_data = data.query('sample == 1').drop(['sample'], axis=1)\n",
    "test = data.query('sample == 0').drop(['sample'], axis=1)\n",
    "\n",
    "\n",
    "y = train_data.Rating.values            # наш таргет"
   ]
  },
  {
   "cell_type": "code",
   "execution_count": 57,
   "id": "6363d54e",
   "metadata": {
    "execution": {
     "iopub.execute_input": "2021-12-16T19:35:17.784582Z",
     "iopub.status.busy": "2021-12-16T19:35:17.783951Z",
     "iopub.status.idle": "2021-12-16T19:35:17.787393Z",
     "shell.execute_reply": "2021-12-16T19:35:17.786967Z",
     "shell.execute_reply.started": "2021-12-16T19:30:06.316501Z"
    },
    "papermill": {
     "duration": 0.08421,
     "end_time": "2021-12-16T19:35:17.787522",
     "exception": false,
     "start_time": "2021-12-16T19:35:17.703312",
     "status": "completed"
    },
    "tags": []
   },
   "outputs": [],
   "source": [
    "X = train_data.drop('Rating', axis=1)"
   ]
  },
  {
   "cell_type": "code",
   "execution_count": 58,
   "id": "48c50079",
   "metadata": {
    "execution": {
     "iopub.execute_input": "2021-12-16T19:35:17.933690Z",
     "iopub.status.busy": "2021-12-16T19:35:17.932997Z",
     "iopub.status.idle": "2021-12-16T19:35:17.936390Z",
     "shell.execute_reply": "2021-12-16T19:35:17.935961Z",
     "shell.execute_reply.started": "2021-12-16T19:30:06.329108Z"
    },
    "papermill": {
     "duration": 0.078723,
     "end_time": "2021-12-16T19:35:17.936510",
     "exception": false,
     "start_time": "2021-12-16T19:35:17.857787",
     "status": "completed"
    },
    "tags": []
   },
   "outputs": [],
   "source": [
    "test = test.drop('Rating', axis=1)"
   ]
  },
  {
   "cell_type": "code",
   "execution_count": 59,
   "id": "88caaebe",
   "metadata": {
    "execution": {
     "iopub.execute_input": "2021-12-16T19:35:18.085636Z",
     "iopub.status.busy": "2021-12-16T19:35:18.085065Z",
     "iopub.status.idle": "2021-12-16T19:35:18.103606Z",
     "shell.execute_reply": "2021-12-16T19:35:18.103006Z",
     "shell.execute_reply.started": "2021-12-16T19:30:06.340088Z"
    },
    "papermill": {
     "duration": 0.097682,
     "end_time": "2021-12-16T19:35:18.103741",
     "exception": false,
     "start_time": "2021-12-16T19:35:18.006059",
     "status": "completed"
    },
    "tags": []
   },
   "outputs": [],
   "source": [
    "X_train, X_test, y_train, y_test = train_test_split(X, y, test_size=0.2)"
   ]
  },
  {
   "cell_type": "markdown",
   "id": "d0bd9c6e",
   "metadata": {
    "papermill": {
     "duration": 0.069745,
     "end_time": "2021-12-16T19:35:18.243825",
     "exception": false,
     "start_time": "2021-12-16T19:35:18.174080",
     "status": "completed"
    },
    "tags": []
   },
   "source": [
    "#### Обучаем модель, генерируем результат и сравниваем с тестом"
   ]
  },
  {
   "cell_type": "code",
   "execution_count": 60,
   "id": "dce8d335",
   "metadata": {
    "execution": {
     "iopub.execute_input": "2021-12-16T19:35:18.406758Z",
     "iopub.status.busy": "2021-12-16T19:35:18.405726Z",
     "iopub.status.idle": "2021-12-16T19:35:45.926387Z",
     "shell.execute_reply": "2021-12-16T19:35:45.925879Z",
     "shell.execute_reply.started": "2021-12-16T19:30:06.362849Z"
    },
    "papermill": {
     "duration": 27.60438,
     "end_time": "2021-12-16T19:35:45.926541",
     "exception": false,
     "start_time": "2021-12-16T19:35:18.322161",
     "status": "completed"
    },
    "tags": []
   },
   "outputs": [],
   "source": [
    "regr = RandomForestRegressor(n_estimators=100)\n",
    "regr.fit(X_train, y_train)\n",
    "y_pred = regr.predict(X_test)\n",
    "y_pred = np.round(y_pred * 2) / 2"
   ]
  },
  {
   "cell_type": "code",
   "execution_count": 61,
   "id": "88c591c0",
   "metadata": {
    "execution": {
     "iopub.execute_input": "2021-12-16T19:35:46.075003Z",
     "iopub.status.busy": "2021-12-16T19:35:46.074272Z",
     "iopub.status.idle": "2021-12-16T19:35:46.077129Z",
     "shell.execute_reply": "2021-12-16T19:35:46.077602Z",
     "shell.execute_reply.started": "2021-12-16T19:30:36.870955Z"
    },
    "papermill": {
     "duration": 0.0803,
     "end_time": "2021-12-16T19:35:46.077749",
     "exception": false,
     "start_time": "2021-12-16T19:35:45.997449",
     "status": "completed"
    },
    "tags": []
   },
   "outputs": [
    {
     "name": "stdout",
     "output_type": "stream",
     "text": [
      "MAE: 0.162875\n"
     ]
    }
   ],
   "source": [
    "print('MAE:', metrics.mean_absolute_error(y_test, y_pred))"
   ]
  },
  {
   "cell_type": "markdown",
   "id": "a74e7379",
   "metadata": {
    "papermill": {
     "duration": 0.069322,
     "end_time": "2021-12-16T19:35:46.220673",
     "exception": false,
     "start_time": "2021-12-16T19:35:46.151351",
     "status": "completed"
    },
    "tags": []
   },
   "source": [
    "LAST MAE: 0.166625"
   ]
  },
  {
   "cell_type": "markdown",
   "id": "c0a3a8e9",
   "metadata": {
    "papermill": {
     "duration": 0.069689,
     "end_time": "2021-12-16T19:35:46.360663",
     "exception": false,
     "start_time": "2021-12-16T19:35:46.290974",
     "status": "completed"
    },
    "tags": []
   },
   "source": [
    " BEST   MAE: 0.166625"
   ]
  },
  {
   "cell_type": "code",
   "execution_count": 62,
   "id": "4d153dd1",
   "metadata": {
    "execution": {
     "iopub.execute_input": "2021-12-16T19:35:46.507863Z",
     "iopub.status.busy": "2021-12-16T19:35:46.507026Z",
     "iopub.status.idle": "2021-12-16T19:35:46.727752Z",
     "shell.execute_reply": "2021-12-16T19:35:46.727202Z",
     "shell.execute_reply.started": "2021-12-16T19:31:13.006166Z"
    },
    "papermill": {
     "duration": 0.297221,
     "end_time": "2021-12-16T19:35:46.727877",
     "exception": false,
     "start_time": "2021-12-16T19:35:46.430656",
     "status": "completed"
    },
    "tags": []
   },
   "outputs": [],
   "source": [
    "predictions = regr.predict(test)\n",
    "predictions = np.round(predictions * 2) / 2\n",
    "\n",
    "my_submissions = pd.DataFrame(\n",
    "    {'Restaurant_id': my_submissions.values, 'Rating': predictions})\n",
    "my_submissions.to_csv('my_submissions.csv', index=False)\n",
    "\n"
   ]
  },
  {
   "cell_type": "code",
   "execution_count": 63,
   "id": "6690ccd4",
   "metadata": {
    "execution": {
     "iopub.execute_input": "2021-12-16T19:35:46.879931Z",
     "iopub.status.busy": "2021-12-16T19:35:46.879057Z",
     "iopub.status.idle": "2021-12-16T19:35:46.881996Z",
     "shell.execute_reply": "2021-12-16T19:35:46.882417Z",
     "shell.execute_reply.started": "2021-12-16T19:31:34.985038Z"
    },
    "papermill": {
     "duration": 0.082497,
     "end_time": "2021-12-16T19:35:46.882568",
     "exception": false,
     "start_time": "2021-12-16T19:35:46.800071",
     "status": "completed"
    },
    "tags": []
   },
   "outputs": [
    {
     "data": {
      "text/html": [
       "<div>\n",
       "<style scoped>\n",
       "    .dataframe tbody tr th:only-of-type {\n",
       "        vertical-align: middle;\n",
       "    }\n",
       "\n",
       "    .dataframe tbody tr th {\n",
       "        vertical-align: top;\n",
       "    }\n",
       "\n",
       "    .dataframe thead th {\n",
       "        text-align: right;\n",
       "    }\n",
       "</style>\n",
       "<table border=\"1\" class=\"dataframe\">\n",
       "  <thead>\n",
       "    <tr style=\"text-align: right;\">\n",
       "      <th></th>\n",
       "      <th>Restaurant_id</th>\n",
       "      <th>Rating</th>\n",
       "    </tr>\n",
       "  </thead>\n",
       "  <tbody>\n",
       "    <tr>\n",
       "      <th>0</th>\n",
       "      <td>id_0</td>\n",
       "      <td>3.0</td>\n",
       "    </tr>\n",
       "    <tr>\n",
       "      <th>1</th>\n",
       "      <td>id_1</td>\n",
       "      <td>4.0</td>\n",
       "    </tr>\n",
       "    <tr>\n",
       "      <th>2</th>\n",
       "      <td>id_2</td>\n",
       "      <td>4.0</td>\n",
       "    </tr>\n",
       "    <tr>\n",
       "      <th>3</th>\n",
       "      <td>id_3</td>\n",
       "      <td>4.5</td>\n",
       "    </tr>\n",
       "    <tr>\n",
       "      <th>4</th>\n",
       "      <td>id_4</td>\n",
       "      <td>4.5</td>\n",
       "    </tr>\n",
       "  </tbody>\n",
       "</table>\n",
       "</div>"
      ],
      "text/plain": [
       "  Restaurant_id  Rating\n",
       "0          id_0     3.0\n",
       "1          id_1     4.0\n",
       "2          id_2     4.0\n",
       "3          id_3     4.5\n",
       "4          id_4     4.5"
      ]
     },
     "execution_count": 63,
     "metadata": {},
     "output_type": "execute_result"
    }
   ],
   "source": [
    "my_submissions.head()"
   ]
  },
  {
   "cell_type": "markdown",
   "id": "91489da9",
   "metadata": {
    "papermill": {
     "duration": 0.070099,
     "end_time": "2021-12-16T19:35:47.024353",
     "exception": false,
     "start_time": "2021-12-16T19:35:46.954254",
     "status": "completed"
    },
    "tags": []
   },
   "source": [
    "Проверяем корреляцию важных переменных"
   ]
  },
  {
   "cell_type": "code",
   "execution_count": 64,
   "id": "3ddec090",
   "metadata": {
    "execution": {
     "iopub.execute_input": "2021-12-16T19:35:47.178066Z",
     "iopub.status.busy": "2021-12-16T19:35:47.176992Z",
     "iopub.status.idle": "2021-12-16T19:35:47.476359Z",
     "shell.execute_reply": "2021-12-16T19:35:47.475868Z",
     "shell.execute_reply.started": "2021-12-16T19:30:37.145449Z"
    },
    "papermill": {
     "duration": 0.377483,
     "end_time": "2021-12-16T19:35:47.476490",
     "exception": false,
     "start_time": "2021-12-16T19:35:47.099007",
     "status": "completed"
    },
    "tags": []
   },
   "outputs": [
    {
     "data": {
      "text/plain": [
       "<AxesSubplot:>"
      ]
     },
     "execution_count": 64,
     "metadata": {},
     "output_type": "execute_result"
    },
    {
     "data": {
      "image/png": "[encoded data removed]",
      "text/plain": [
       "<Figure size 864x720 with 1 Axes>"
      ]
     },
     "metadata": {
      "needs_background": "light"
     },
     "output_type": "display_data"
    }
   ],
   "source": [
    "# в RandomForestRegressor есть возможность вывести самые важные признаки для модели\n",
    "plt.rcParams['figure.figsize'] = (12,10)\n",
    "feat_importances = pd.Series(regr.feature_importances_, index=X.columns)\n",
    "feat_importances.nlargest(15).plot(kind='barh')"
   ]
  },
  {
   "cell_type": "code",
   "execution_count": 65,
   "id": "a952203f",
   "metadata": {
    "execution": {
     "iopub.execute_input": "2021-12-16T19:35:47.627907Z",
     "iopub.status.busy": "2021-12-16T19:35:47.626849Z",
     "iopub.status.idle": "2021-12-16T19:35:49.271915Z",
     "shell.execute_reply": "2021-12-16T19:35:49.272421Z",
     "shell.execute_reply.started": "2021-12-16T19:30:37.480869Z"
    },
    "papermill": {
     "duration": 1.724248,
     "end_time": "2021-12-16T19:35:49.272582",
     "exception": false,
     "start_time": "2021-12-16T19:35:47.548334",
     "status": "completed"
    },
    "tags": []
   },
   "outputs": [
    {
     "data": {
      "text/plain": [
       "(15.5, -0.5)"
      ]
     },
     "execution_count": 65,
     "metadata": {},
     "output_type": "execute_result"
    },
    {
     "data": {
      "image/png": "[encoded data removed]",
      "text/plain": [
       "<Figure size 864x432 with 2 Axes>"
      ]
     },
     "metadata": {
      "needs_background": "light"
     },
     "output_type": "display_data"
    }
   ],
   "source": [
    "df_temp = data.loc[data['sample'] == 1, list(feat_importances.nlargest(15).index[0:15])]\n",
    "plt.rcParams['figure.figsize'] = (12,6)\n",
    "ax = sns.heatmap(df_temp.corr(), annot=True, fmt='.2g')\n",
    "i, k = ax.get_ylim()\n",
    "ax.set_ylim(i+0.5, k-0.5)"
   ]
  }
 ],
 "metadata": {
  "kernelspec": {
   "display_name": "Python 3",
   "language": "python",
   "name": "python3"
  },
  "language_info": {
   "codemirror_mode": {
    "name": "ipython",
    "version": 3
   },
   "file_extension": ".py",
   "mimetype": "text/x-python",
   "name": "python",
   "nbconvert_exporter": "python",
   "pygments_lexer": "ipython3",
   "version": "3.7.12"
  },
  "papermill": {
   "default_parameters": {},
   "duration": 89.090807,
   "end_time": "2021-12-16T19:35:50.673416",
   "environment_variables": {},
   "exception": null,
   "input_path": "__notebook__.ipynb",
   "output_path": "__notebook__.ipynb",
   "parameters": {},
   "start_time": "2021-12-16T19:34:21.582609",
   "version": "2.3.3"
  }
 },
 "nbformat": 4,
 "nbformat_minor": 5
}
